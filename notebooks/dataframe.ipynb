{
 "cells": [
  {
   "cell_type": "markdown",
   "id": "2cccb7ea",
   "metadata": {},
   "source": [
    "### Limbieza de datos y dataframe 🧹📑\n"
   ]
  },
  {
   "cell_type": "code",
   "execution_count": 2,
   "id": "b6f59e2f",
   "metadata": {},
   "outputs": [
    {
     "name": "stdout",
     "output_type": "stream",
     "text": [
      "  InvoiceNo StockCode                          Description  Quantity  \\\n",
      "0    536365    85123A   WHITE HANGING HEART T-LIGHT HOLDER         6   \n",
      "1    536365     71053                  WHITE METAL LANTERN         6   \n",
      "2    536365    84406B       CREAM CUPID HEARTS COAT HANGER         8   \n",
      "3    536365    84029G  KNITTED UNION FLAG HOT WATER BOTTLE         6   \n",
      "4    536365    84029E       RED WOOLLY HOTTIE WHITE HEART.         6   \n",
      "\n",
      "    InvoiceDate  UnitPrice  CustomerID         Country  \n",
      "0  12/1/10 8:26       2.55     17850.0  United Kingdom  \n",
      "1  12/1/10 8:26       3.39     17850.0  United Kingdom  \n",
      "2  12/1/10 8:26       2.75     17850.0  United Kingdom  \n",
      "3  12/1/10 8:26       3.39     17850.0  United Kingdom  \n",
      "4  12/1/10 8:26       3.39     17850.0  United Kingdom  \n"
     ]
    }
   ],
   "source": [
    "import pandas as pd\n",
    "path=r'C:\\Users\\chris\\OneDrive\\Desktop\\Cursos\\Curso de python para ciencia de datos\\Curso_de_Python_para_Ciencia_de_Datos\\data\\Online_Retail.csv'\n",
    "retail_data=pd.read_csv(path, encoding='ISO-8859-1')\n",
    "print(retail_data.head())\n"
   ]
  },
  {
   "cell_type": "code",
   "execution_count": 3,
   "id": "ed374c54",
   "metadata": {},
   "outputs": [
    {
     "name": "stdout",
     "output_type": "stream",
     "text": [
      "      A  B  C\n",
      "row1  1  2  3\n",
      "row2  4  5  6\n",
      "row3  7  8  9\n"
     ]
    }
   ],
   "source": [
    "import numpy as np\n",
    "\n",
    "data=np.array([[1,2,3],[4,5,6],[7,8,9]])\n",
    "\n",
    "dt_from_array=pd.DataFrame(data,columns=['A','B','C'],index=['row1','row2','row3'])\n",
    "print(dt_from_array)"
   ]
  },
  {
   "cell_type": "code",
   "execution_count": 4,
   "id": "c00c79bc",
   "metadata": {},
   "outputs": [
    {
     "name": "stdout",
     "output_type": "stream",
     "text": [
      "   ID   Name  Age\n",
      "0   1  pedro   22\n",
      "1   2    ana   24\n"
     ]
    }
   ],
   "source": [
    "data=[[1,'pedro',22],[2,\"ana\",24]]\n",
    "\n",
    "df_from_list=pd.DataFrame(data,columns=['ID','Name','Age'])\n",
    "print(df_from_list)\n"
   ]
  },
  {
   "cell_type": "code",
   "execution_count": null,
   "id": "09d1306a",
   "metadata": {},
   "outputs": [
    {
     "name": "stdout",
     "output_type": "stream",
     "text": [
      "   ID  Name  Age\n",
      "0   1  Jhon   22\n"
     ]
    }
   ],
   "source": [
    "data=[{'ID':1,'Name':'Jhon','Age':22}]\n",
    "\n",
    "dt_from_dict_list=pd.DataFrame(data)\n",
    "print(dt_from_dict_list)"
   ]
  },
  {
   "cell_type": "code",
   "execution_count": 6,
   "id": "52427649",
   "metadata": {},
   "outputs": [
    {
     "name": "stdout",
     "output_type": "stream",
     "text": [
      "   ID   Name  Age\n",
      "0   1   Jhon   22\n",
      "1   2    Ana   24\n",
      "2   3  Pedro   23\n"
     ]
    }
   ],
   "source": [
    "data={\"ID\":[1,2,3],\n",
    "      \"Name\":['Jhon','Ana','Pedro'],\n",
    "      \"Age\":[22,24,23]}\n",
    "\n",
    "dt_from_dict=pd.DataFrame(data)\n",
    "print(dt_from_dict)"
   ]
  },
  {
   "cell_type": "markdown",
   "id": "cac9e211",
   "metadata": {},
   "source": [
    "### Series 🍕"
   ]
  },
  {
   "cell_type": "code",
   "execution_count": 7,
   "id": "9ccb4d69",
   "metadata": {},
   "outputs": [
    {
     "name": "stdout",
     "output_type": "stream",
     "text": [
      "   ID   Name  Age\n",
      "0   1   Jhon   22\n",
      "1   2    Ana   24\n",
      "2   3  Pedro   23\n"
     ]
    }
   ],
   "source": [
    "data={\"ID\":pd.Series([1,2,3]),\n",
    "      \"Name\":pd.Series(['Jhon','Ana','Pedro']),\n",
    "      \"Age\":pd.Series([22,24,23])}\n",
    "\n",
    "df_from_series_dict=pd.DataFrame(data)\n",
    "print(df_from_series_dict)"
   ]
  }
 ],
 "metadata": {
  "kernelspec": {
   "display_name": "Python 3",
   "language": "python",
   "name": "python3"
  },
  "language_info": {
   "codemirror_mode": {
    "name": "ipython",
    "version": 3
   },
   "file_extension": ".py",
   "mimetype": "text/x-python",
   "name": "python",
   "nbconvert_exporter": "python",
   "pygments_lexer": "ipython3",
   "version": "3.13.1"
  }
 },
 "nbformat": 4,
 "nbformat_minor": 5
}
