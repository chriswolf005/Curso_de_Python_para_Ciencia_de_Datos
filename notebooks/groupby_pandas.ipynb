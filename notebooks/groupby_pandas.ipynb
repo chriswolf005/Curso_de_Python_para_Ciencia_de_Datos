{
 "cells": [
  {
   "cell_type": "markdown",
   "id": "1de3d29d",
   "metadata": {},
   "source": [
    "### 💡 ¿Qué es groupby()?\n",
    "Es como decirle a tu DataFrame:\n",
    "**\"Agrupa estos datos por esta columna y calcula estadísticas por grupo.\"**\n"
   ]
  },
  {
   "cell_type": "code",
   "execution_count": 17,
   "id": "0f007295",
   "metadata": {},
   "outputs": [
    {
     "name": "stdout",
     "output_type": "stream",
     "text": [
      "💰 Promedio de ventas por línea de producto (ordenado):\n",
      "Product line\n",
      "Home and lifestyle        336.636956\n",
      "Sports and travel         332.065220\n",
      "Health and beauty         323.643020\n",
      "Food and beverages        322.671517\n",
      "Electronic accessories    319.632538\n",
      "Fashion accessories       305.089298\n",
      "Name: Sales, dtype: float64\n"
     ]
    }
   ],
   "source": [
    "import pandas as pd\n",
    "\n",
    "# 1. Cargar el dataset\n",
    "path = r'C:\\Users\\chris\\OneDrive\\Desktop\\Cursos\\Curso de python para ciencia de datos\\Curso_de_Python_para_Ciencia_de_Datos\\data\\SuperMarket Analysis.csv'\n",
    "df = pd.read_csv(path, encoding='ISO-8859-1')\n",
    "\n",
    "# 2. Agrupar por línea de producto y calcular el promedio de ventas\n",
    "agrupado = df.groupby(\"Product line\")[\"Sales\"].mean()\n",
    "\n",
    "# 3. Ordenar de mayor a menor\n",
    "agrupado_ordenado = agrupado.sort_values(ascending=False)\n",
    "\n",
    "# 4. Mostrar resultado\n",
    "print(\"💰 Promedio de ventas por línea de producto (ordenado):\")\n",
    "print(agrupado_ordenado)\n"
   ]
  }
 ],
 "metadata": {
  "kernelspec": {
   "display_name": "Python 3",
   "language": "python",
   "name": "python3"
  },
  "language_info": {
   "codemirror_mode": {
    "name": "ipython",
    "version": 3
   },
   "file_extension": ".py",
   "mimetype": "text/x-python",
   "name": "python",
   "nbconvert_exporter": "python",
   "pygments_lexer": "ipython3",
   "version": "3.13.1"
  }
 },
 "nbformat": 4,
 "nbformat_minor": 5
}
