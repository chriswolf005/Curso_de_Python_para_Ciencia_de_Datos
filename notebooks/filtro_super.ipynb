{
 "cells": [
  {
   "cell_type": "code",
   "execution_count": 1,
   "id": "82667c7b",
   "metadata": {},
   "outputs": [],
   "source": [
    "import pandas as pd\n",
    "\n",
    "#Leer el dataset de ventas desde un archivo CSV\n",
    "path=r'C:\\Users\\chris\\OneDrive\\Desktop\\Cursos\\Curso de python para ciencia de datos\\Curso_de_Python_para_Ciencia_de_Datos\\data\\SuperMarket Analysis.csv'\n",
    "super_data = pd.read_csv(path, encoding='ISO-8859-1')"
   ]
  },
  {
   "cell_type": "code",
   "execution_count": 11,
   "id": "cdfec668",
   "metadata": {},
   "outputs": [
    {
     "name": "stdout",
     "output_type": "stream",
     "text": [
      "  ï»¿Invoice ID Branch       City Customer type  Gender  \\\n",
      "0   750-67-8428   Alex     Yangon        Member  Female   \n",
      "1   226-31-3081   Giza  Naypyitaw        Normal  Female   \n",
      "2   631-41-3108   Alex     Yangon        Normal  Female   \n",
      "3   123-19-1176   Alex     Yangon        Member  Female   \n",
      "4   373-73-7910   Alex     Yangon        Member  Female   \n",
      "\n",
      "             Product line  Unit price  Quantity   Tax 5%     Sales       Date  \\\n",
      "0       Health and beauty       74.69         7  26.1415  548.9715 2019-01-05   \n",
      "1  Electronic accessories       15.28         5   3.8200   80.2200 2019-03-08   \n",
      "2      Home and lifestyle       46.33         7  16.2155  340.5255 2019-03-03   \n",
      "3       Health and beauty       58.22         8  23.2880  489.0480 2019-01-27   \n",
      "4       Sports and travel       86.31         7  30.2085  634.3785 2019-02-08   \n",
      "\n",
      "          Time      Payment    cogs  gross margin percentage  gross income  \\\n",
      "0   1:08:00 PM      Ewallet  522.83                 4.761905       26.1415   \n",
      "1  10:29:00 AM         Cash   76.40                 4.761905        3.8200   \n",
      "2   1:23:00 PM  Credit card  324.31                 4.761905       16.2155   \n",
      "3   8:33:00 PM      Ewallet  465.76                 4.761905       23.2880   \n",
      "4  10:37:00 AM      Ewallet  604.17                 4.761905       30.2085   \n",
      "\n",
      "   Rating  TotalPrice  \n",
      "0     9.1      522.83  \n",
      "1     9.6       76.40  \n",
      "2     7.4      324.31  \n",
      "3     8.4      465.76  \n",
      "4     5.3      604.17  \n"
     ]
    }
   ],
   "source": [
    "#Transformar date a datetime\n",
    "super_data['Date'] = pd.to_datetime(super_data['Date'])\n",
    "#print(super_data.head())\n",
    "\n",
    "#super_data.dropna(subset=['Invoice ID'], inplace=True)\n",
    "\n",
    "#Crear una nueva columna 'TotalPrice' que multiplica 'Quantity' por 'UnitPrice'\n",
    "super_data['TotalPrice']=super_data['Quantity']*super_data['Unit price']\n",
    "print(super_data.head())"
   ]
  },
  {
   "cell_type": "code",
   "execution_count": 21,
   "id": "f88e1bde",
   "metadata": {},
   "outputs": [
    {
     "name": "stdout",
     "output_type": "stream",
     "text": [
      "    ï»¿Invoice ID Branch       City Customer type Gender  \\\n",
      "159   423-57-2993  Cairo   Mandalay        Normal   Male   \n",
      "179   342-65-4817   Giza  Naypyitaw        Member   Male   \n",
      "188   400-60-7251   Alex     Yangon        Normal   Male   \n",
      "194   831-07-6050   Alex     Yangon        Normal   Male   \n",
      "882   311-13-6971  Cairo   Mandalay        Member   Male   \n",
      "..            ...    ...        ...           ...    ...   \n",
      "399   346-12-3257  Cairo   Mandalay        Member   Male   \n",
      "182   851-28-6367   Alex     Yangon        Member   Male   \n",
      "185   895-66-0685  Cairo   Mandalay        Member   Male   \n",
      "362   471-41-2823   Giza  Naypyitaw        Normal   Male   \n",
      "699   751-41-9720   Giza  Naypyitaw        Normal   Male   \n",
      "\n",
      "               Product line  Unit price  Quantity   Tax 5%      Sales  \\\n",
      "159       Sports and travel       93.39         6  28.0170   588.3570   \n",
      "179       Health and beauty       86.80         3  13.0200   273.4200   \n",
      "188      Home and lifestyle       74.07         1   3.7035    77.7735   \n",
      "194  Electronic accessories       32.71         5   8.1775   171.7275   \n",
      "882       Sports and travel       31.99        10  15.9950   335.8950   \n",
      "..                      ...         ...       ...      ...        ...   \n",
      "399  Electronic accessories       19.24         9   8.6580   181.8180   \n",
      "182       Sports and travel       15.50        10   7.7500   162.7500   \n",
      "185      Food and beverages       18.08         3   2.7120    56.9520   \n",
      "362      Food and beverages       99.79         2   9.9790   209.5590   \n",
      "699      Home and lifestyle       97.50        10  48.7500  1023.7500   \n",
      "\n",
      "          Date         Time      Payment    cogs  gross margin percentage  \\\n",
      "159 2019-03-27   7:18:00 PM      Ewallet  560.34                 4.761905   \n",
      "179 2019-01-28   4:47:00 PM      Ewallet  260.40                 4.761905   \n",
      "188 2019-02-10  12:50:00 PM      Ewallet   74.07                 4.761905   \n",
      "194 2019-03-19  11:30:00 AM  Credit card  163.55                 4.761905   \n",
      "882 2019-02-20   3:18:00 PM  Credit card  319.90                 4.761905   \n",
      "..         ...          ...          ...     ...                      ...   \n",
      "399 2019-03-04   4:28:00 PM         Cash  173.16                 4.761905   \n",
      "182 2019-03-23  10:55:00 AM      Ewallet  155.00                 4.761905   \n",
      "185 2019-03-05   7:46:00 PM      Ewallet   54.24                 4.761905   \n",
      "362 2019-03-07   8:37:00 PM      Ewallet  199.58                 4.761905   \n",
      "699 2019-01-12   4:18:00 PM      Ewallet  975.00                 4.761905   \n",
      "\n",
      "     gross income  Rating  TotalPrice  \n",
      "159       28.0170    10.0      560.34  \n",
      "179       13.0200     9.9      260.40  \n",
      "188        3.7035     9.9       74.07  \n",
      "194        8.1775     9.9      163.55  \n",
      "882       15.9950     9.9      319.90  \n",
      "..            ...     ...         ...  \n",
      "399        8.6580     8.0      173.16  \n",
      "182        7.7500     8.0      155.00  \n",
      "185        2.7120     8.0       54.24  \n",
      "362        9.9790     8.0      199.58  \n",
      "699       48.7500     8.0      975.00  \n",
      "\n",
      "[140 rows x 18 columns]\n"
     ]
    }
   ],
   "source": [
    "sales_gender_male_rating=super_data[(super_data['Gender']=='Male')& (super_data['Rating']>=8)].sort_values(by='Rating', ascending=False)\n",
    "print(sales_gender_male_rating)"
   ]
  },
  {
   "cell_type": "code",
   "execution_count": 20,
   "id": "18765755",
   "metadata": {},
   "outputs": [
    {
     "name": "stdout",
     "output_type": "stream",
     "text": [
      "    ï»¿Invoice ID Branch       City Customer type  Gender  \\\n",
      "60    285-68-5083   Giza  Naypyitaw        Member  Female   \n",
      "62    347-34-2234  Cairo   Mandalay        Member  Female   \n",
      "387   725-56-0833   Alex     Yangon        Normal  Female   \n",
      "853   866-70-2814  Cairo   Mandalay        Normal  Female   \n",
      "67    109-28-2512  Cairo   Mandalay        Member  Female   \n",
      "..            ...    ...        ...           ...     ...   \n",
      "748   487-79-6868  Cairo   Mandalay        Member  Female   \n",
      "656   250-81-7186   Giza  Naypyitaw        Normal  Female   \n",
      "686   767-97-4650  Cairo   Mandalay        Member  Female   \n",
      "804   831-81-6575  Cairo   Mandalay        Member  Female   \n",
      "803   759-29-9521   Alex     Yangon        Member  Female   \n",
      "\n",
      "               Product line  Unit price  Quantity   Tax 5%     Sales  \\\n",
      "60        Sports and travel       24.74         3   3.7110   77.9310   \n",
      "62        Sports and travel       55.07         9  24.7815  520.4115   \n",
      "387       Health and beauty       32.32        10  16.1600  339.3600   \n",
      "853  Electronic accessories       52.79        10  26.3950  554.2950   \n",
      "67      Fashion accessories       97.61         6  29.2830  614.9430   \n",
      "..                      ...         ...       ...      ...       ...   \n",
      "748      Home and lifestyle       12.29         9   5.5305  116.1405   \n",
      "656  Electronic accessories       99.69         1   4.9845  104.6745   \n",
      "686       Sports and travel       64.83         2   6.4830  136.1430   \n",
      "804  Electronic accessories       75.59         9  34.0155  714.3255   \n",
      "803     Fashion accessories       48.96         9  22.0320  462.6720   \n",
      "\n",
      "          Date         Time      Payment    cogs  gross margin percentage  \\\n",
      "60  2019-02-15   5:47:00 PM  Credit card   74.22                 4.761905   \n",
      "62  2019-02-03   1:40:00 PM      Ewallet  495.63                 4.761905   \n",
      "387 2019-02-20   4:49:00 PM  Credit card  323.20                 4.761905   \n",
      "853 2019-02-25  11:58:00 AM      Ewallet  527.90                 4.761905   \n",
      "67  2019-01-07   3:01:00 PM      Ewallet  585.66                 4.761905   \n",
      "..         ...          ...          ...     ...                      ...   \n",
      "748 2019-03-26   7:28:00 PM  Credit card  110.61                 4.761905   \n",
      "656 2019-02-27  10:23:00 AM  Credit card   99.69                 4.761905   \n",
      "686 2019-01-08  11:59:00 AM  Credit card  129.66                 4.761905   \n",
      "804 2019-02-23  11:12:00 AM         Cash  680.31                 4.761905   \n",
      "803 2019-03-04  11:27:00 AM         Cash  440.64                 4.761905   \n",
      "\n",
      "     gross income  Rating  TotalPrice  \n",
      "60         3.7110    10.0       74.22  \n",
      "62        24.7815    10.0      495.63  \n",
      "387       16.1600    10.0      323.20  \n",
      "853       26.3950    10.0      527.90  \n",
      "67        29.2830     9.9      585.66  \n",
      "..            ...     ...         ...  \n",
      "748        5.5305     8.0      110.61  \n",
      "656        4.9845     8.0       99.69  \n",
      "686        6.4830     8.0      129.66  \n",
      "804       34.0155     8.0      680.31  \n",
      "803       22.0320     8.0      440.64  \n",
      "\n",
      "[189 rows x 18 columns]\n"
     ]
    }
   ],
   "source": [
    "sales_gender_female_rating=super_data[(super_data['Gender']=='Female')& (super_data['Rating']>=8)].sort_values(by='Rating', ascending=False)\n",
    "\n",
    "print(sales_gender_female_rating)"
   ]
  },
  {
   "cell_type": "code",
   "execution_count": 22,
   "id": "ae68911c",
   "metadata": {},
   "outputs": [
    {
     "name": "stdout",
     "output_type": "stream",
     "text": [
      "    ï»¿Invoice ID Branch       City Customer type  Gender  \\\n",
      "60    285-68-5083   Giza  Naypyitaw        Member  Female   \n",
      "62    347-34-2234  Cairo   Mandalay        Member  Female   \n",
      "387   725-56-0833   Alex     Yangon        Normal  Female   \n",
      "853   866-70-2814  Cairo   Mandalay        Normal  Female   \n",
      "67    109-28-2512  Cairo   Mandalay        Member  Female   \n",
      "..            ...    ...        ...           ...     ...   \n",
      "748   487-79-6868  Cairo   Mandalay        Member  Female   \n",
      "656   250-81-7186   Giza  Naypyitaw        Normal  Female   \n",
      "686   767-97-4650  Cairo   Mandalay        Member  Female   \n",
      "804   831-81-6575  Cairo   Mandalay        Member  Female   \n",
      "803   759-29-9521   Alex     Yangon        Member  Female   \n",
      "\n",
      "               Product line  Unit price  Quantity   Tax 5%     Sales  \\\n",
      "60        Sports and travel       24.74         3   3.7110   77.9310   \n",
      "62        Sports and travel       55.07         9  24.7815  520.4115   \n",
      "387       Health and beauty       32.32        10  16.1600  339.3600   \n",
      "853  Electronic accessories       52.79        10  26.3950  554.2950   \n",
      "67      Fashion accessories       97.61         6  29.2830  614.9430   \n",
      "..                      ...         ...       ...      ...       ...   \n",
      "748      Home and lifestyle       12.29         9   5.5305  116.1405   \n",
      "656  Electronic accessories       99.69         1   4.9845  104.6745   \n",
      "686       Sports and travel       64.83         2   6.4830  136.1430   \n",
      "804  Electronic accessories       75.59         9  34.0155  714.3255   \n",
      "803     Fashion accessories       48.96         9  22.0320  462.6720   \n",
      "\n",
      "          Date         Time      Payment    cogs  gross margin percentage  \\\n",
      "60  2019-02-15   5:47:00 PM  Credit card   74.22                 4.761905   \n",
      "62  2019-02-03   1:40:00 PM      Ewallet  495.63                 4.761905   \n",
      "387 2019-02-20   4:49:00 PM  Credit card  323.20                 4.761905   \n",
      "853 2019-02-25  11:58:00 AM      Ewallet  527.90                 4.761905   \n",
      "67  2019-01-07   3:01:00 PM      Ewallet  585.66                 4.761905   \n",
      "..         ...          ...          ...     ...                      ...   \n",
      "748 2019-03-26   7:28:00 PM  Credit card  110.61                 4.761905   \n",
      "656 2019-02-27  10:23:00 AM  Credit card   99.69                 4.761905   \n",
      "686 2019-01-08  11:59:00 AM  Credit card  129.66                 4.761905   \n",
      "804 2019-02-23  11:12:00 AM         Cash  680.31                 4.761905   \n",
      "803 2019-03-04  11:27:00 AM         Cash  440.64                 4.761905   \n",
      "\n",
      "     gross income  Rating  TotalPrice  \n",
      "60         3.7110    10.0       74.22  \n",
      "62        24.7815    10.0      495.63  \n",
      "387       16.1600    10.0      323.20  \n",
      "853       26.3950    10.0      527.90  \n",
      "67        29.2830     9.9      585.66  \n",
      "..            ...     ...         ...  \n",
      "748        5.5305     8.0      110.61  \n",
      "656        4.9845     8.0       99.69  \n",
      "686        6.4830     8.0      129.66  \n",
      "804       34.0155     8.0      680.31  \n",
      "803       22.0320     8.0      440.64  \n",
      "\n",
      "[189 rows x 18 columns]\n"
     ]
    }
   ],
   "source": [
    "sales_gender_general_rating=super_data[(super_data['Gender']=='Female')&(super_data['Gender']=='Female') &(super_data['Rating']>=8)].sort_values(by='Rating', ascending=False)\n",
    "print(sales_gender_general_rating)"
   ]
  },
  {
   "cell_type": "code",
   "execution_count": 27,
   "id": "a6012cbf",
   "metadata": {},
   "outputs": [
    {
     "data": {
      "application/vnd.plotly.v1+json": {
       "config": {
        "plotlyServerURL": "https://plot.ly"
       },
       "data": [
        {
         "hovertemplate": "Gender=%{x}<br>Sales=%{y}<extra></extra>",
         "legendgroup": "Female",
         "marker": {
          "color": "#EF553B",
          "pattern": {
           "shape": ""
          }
         },
         "name": "Female",
         "orientation": "v",
         "showlegend": true,
         "textposition": "auto",
         "texttemplate": "%{y:.2s}",
         "type": "bar",
         "x": [
          "Female"
         ],
         "xaxis": "x",
         "y": {
          "bdata": "YhBYObiH7kA=",
          "dtype": "f8"
         },
         "yaxis": "y"
        },
        {
         "hovertemplate": "Gender=%{x}<br>Sales=%{y}<extra></extra>",
         "legendgroup": "Male",
         "marker": {
          "color": "#636EFA",
          "pattern": {
           "shape": ""
          }
         },
         "name": "Male",
         "orientation": "v",
         "showlegend": true,
         "textposition": "auto",
         "texttemplate": "%{y:.2s}",
         "type": "bar",
         "x": [
          "Male"
         ],
         "xaxis": "x",
         "y": {
          "bdata": "ZmZmZjpn5UA=",
          "dtype": "f8"
         },
         "yaxis": "y"
        }
       ],
       "layout": {
        "barmode": "relative",
        "legend": {
         "title": {
          "text": "Gender"
         },
         "tracegroupgap": 0
        },
        "template": {
         "data": {
          "bar": [
           {
            "error_x": {
             "color": "#2a3f5f"
            },
            "error_y": {
             "color": "#2a3f5f"
            },
            "marker": {
             "line": {
              "color": "white",
              "width": 0.5
             },
             "pattern": {
              "fillmode": "overlay",
              "size": 10,
              "solidity": 0.2
             }
            },
            "type": "bar"
           }
          ],
          "barpolar": [
           {
            "marker": {
             "line": {
              "color": "white",
              "width": 0.5
             },
             "pattern": {
              "fillmode": "overlay",
              "size": 10,
              "solidity": 0.2
             }
            },
            "type": "barpolar"
           }
          ],
          "carpet": [
           {
            "aaxis": {
             "endlinecolor": "#2a3f5f",
             "gridcolor": "#C8D4E3",
             "linecolor": "#C8D4E3",
             "minorgridcolor": "#C8D4E3",
             "startlinecolor": "#2a3f5f"
            },
            "baxis": {
             "endlinecolor": "#2a3f5f",
             "gridcolor": "#C8D4E3",
             "linecolor": "#C8D4E3",
             "minorgridcolor": "#C8D4E3",
             "startlinecolor": "#2a3f5f"
            },
            "type": "carpet"
           }
          ],
          "choropleth": [
           {
            "colorbar": {
             "outlinewidth": 0,
             "ticks": ""
            },
            "type": "choropleth"
           }
          ],
          "contour": [
           {
            "colorbar": {
             "outlinewidth": 0,
             "ticks": ""
            },
            "colorscale": [
             [
              0,
              "#0d0887"
             ],
             [
              0.1111111111111111,
              "#46039f"
             ],
             [
              0.2222222222222222,
              "#7201a8"
             ],
             [
              0.3333333333333333,
              "#9c179e"
             ],
             [
              0.4444444444444444,
              "#bd3786"
             ],
             [
              0.5555555555555556,
              "#d8576b"
             ],
             [
              0.6666666666666666,
              "#ed7953"
             ],
             [
              0.7777777777777778,
              "#fb9f3a"
             ],
             [
              0.8888888888888888,
              "#fdca26"
             ],
             [
              1,
              "#f0f921"
             ]
            ],
            "type": "contour"
           }
          ],
          "contourcarpet": [
           {
            "colorbar": {
             "outlinewidth": 0,
             "ticks": ""
            },
            "type": "contourcarpet"
           }
          ],
          "heatmap": [
           {
            "colorbar": {
             "outlinewidth": 0,
             "ticks": ""
            },
            "colorscale": [
             [
              0,
              "#0d0887"
             ],
             [
              0.1111111111111111,
              "#46039f"
             ],
             [
              0.2222222222222222,
              "#7201a8"
             ],
             [
              0.3333333333333333,
              "#9c179e"
             ],
             [
              0.4444444444444444,
              "#bd3786"
             ],
             [
              0.5555555555555556,
              "#d8576b"
             ],
             [
              0.6666666666666666,
              "#ed7953"
             ],
             [
              0.7777777777777778,
              "#fb9f3a"
             ],
             [
              0.8888888888888888,
              "#fdca26"
             ],
             [
              1,
              "#f0f921"
             ]
            ],
            "type": "heatmap"
           }
          ],
          "histogram": [
           {
            "marker": {
             "pattern": {
              "fillmode": "overlay",
              "size": 10,
              "solidity": 0.2
             }
            },
            "type": "histogram"
           }
          ],
          "histogram2d": [
           {
            "colorbar": {
             "outlinewidth": 0,
             "ticks": ""
            },
            "colorscale": [
             [
              0,
              "#0d0887"
             ],
             [
              0.1111111111111111,
              "#46039f"
             ],
             [
              0.2222222222222222,
              "#7201a8"
             ],
             [
              0.3333333333333333,
              "#9c179e"
             ],
             [
              0.4444444444444444,
              "#bd3786"
             ],
             [
              0.5555555555555556,
              "#d8576b"
             ],
             [
              0.6666666666666666,
              "#ed7953"
             ],
             [
              0.7777777777777778,
              "#fb9f3a"
             ],
             [
              0.8888888888888888,
              "#fdca26"
             ],
             [
              1,
              "#f0f921"
             ]
            ],
            "type": "histogram2d"
           }
          ],
          "histogram2dcontour": [
           {
            "colorbar": {
             "outlinewidth": 0,
             "ticks": ""
            },
            "colorscale": [
             [
              0,
              "#0d0887"
             ],
             [
              0.1111111111111111,
              "#46039f"
             ],
             [
              0.2222222222222222,
              "#7201a8"
             ],
             [
              0.3333333333333333,
              "#9c179e"
             ],
             [
              0.4444444444444444,
              "#bd3786"
             ],
             [
              0.5555555555555556,
              "#d8576b"
             ],
             [
              0.6666666666666666,
              "#ed7953"
             ],
             [
              0.7777777777777778,
              "#fb9f3a"
             ],
             [
              0.8888888888888888,
              "#fdca26"
             ],
             [
              1,
              "#f0f921"
             ]
            ],
            "type": "histogram2dcontour"
           }
          ],
          "mesh3d": [
           {
            "colorbar": {
             "outlinewidth": 0,
             "ticks": ""
            },
            "type": "mesh3d"
           }
          ],
          "parcoords": [
           {
            "line": {
             "colorbar": {
              "outlinewidth": 0,
              "ticks": ""
             }
            },
            "type": "parcoords"
           }
          ],
          "pie": [
           {
            "automargin": true,
            "type": "pie"
           }
          ],
          "scatter": [
           {
            "fillpattern": {
             "fillmode": "overlay",
             "size": 10,
             "solidity": 0.2
            },
            "type": "scatter"
           }
          ],
          "scatter3d": [
           {
            "line": {
             "colorbar": {
              "outlinewidth": 0,
              "ticks": ""
             }
            },
            "marker": {
             "colorbar": {
              "outlinewidth": 0,
              "ticks": ""
             }
            },
            "type": "scatter3d"
           }
          ],
          "scattercarpet": [
           {
            "marker": {
             "colorbar": {
              "outlinewidth": 0,
              "ticks": ""
             }
            },
            "type": "scattercarpet"
           }
          ],
          "scattergeo": [
           {
            "marker": {
             "colorbar": {
              "outlinewidth": 0,
              "ticks": ""
             }
            },
            "type": "scattergeo"
           }
          ],
          "scattergl": [
           {
            "marker": {
             "colorbar": {
              "outlinewidth": 0,
              "ticks": ""
             }
            },
            "type": "scattergl"
           }
          ],
          "scattermap": [
           {
            "marker": {
             "colorbar": {
              "outlinewidth": 0,
              "ticks": ""
             }
            },
            "type": "scattermap"
           }
          ],
          "scattermapbox": [
           {
            "marker": {
             "colorbar": {
              "outlinewidth": 0,
              "ticks": ""
             }
            },
            "type": "scattermapbox"
           }
          ],
          "scatterpolar": [
           {
            "marker": {
             "colorbar": {
              "outlinewidth": 0,
              "ticks": ""
             }
            },
            "type": "scatterpolar"
           }
          ],
          "scatterpolargl": [
           {
            "marker": {
             "colorbar": {
              "outlinewidth": 0,
              "ticks": ""
             }
            },
            "type": "scatterpolargl"
           }
          ],
          "scatterternary": [
           {
            "marker": {
             "colorbar": {
              "outlinewidth": 0,
              "ticks": ""
             }
            },
            "type": "scatterternary"
           }
          ],
          "surface": [
           {
            "colorbar": {
             "outlinewidth": 0,
             "ticks": ""
            },
            "colorscale": [
             [
              0,
              "#0d0887"
             ],
             [
              0.1111111111111111,
              "#46039f"
             ],
             [
              0.2222222222222222,
              "#7201a8"
             ],
             [
              0.3333333333333333,
              "#9c179e"
             ],
             [
              0.4444444444444444,
              "#bd3786"
             ],
             [
              0.5555555555555556,
              "#d8576b"
             ],
             [
              0.6666666666666666,
              "#ed7953"
             ],
             [
              0.7777777777777778,
              "#fb9f3a"
             ],
             [
              0.8888888888888888,
              "#fdca26"
             ],
             [
              1,
              "#f0f921"
             ]
            ],
            "type": "surface"
           }
          ],
          "table": [
           {
            "cells": {
             "fill": {
              "color": "#EBF0F8"
             },
             "line": {
              "color": "white"
             }
            },
            "header": {
             "fill": {
              "color": "#C8D4E3"
             },
             "line": {
              "color": "white"
             }
            },
            "type": "table"
           }
          ]
         },
         "layout": {
          "annotationdefaults": {
           "arrowcolor": "#2a3f5f",
           "arrowhead": 0,
           "arrowwidth": 1
          },
          "autotypenumbers": "strict",
          "coloraxis": {
           "colorbar": {
            "outlinewidth": 0,
            "ticks": ""
           }
          },
          "colorscale": {
           "diverging": [
            [
             0,
             "#8e0152"
            ],
            [
             0.1,
             "#c51b7d"
            ],
            [
             0.2,
             "#de77ae"
            ],
            [
             0.3,
             "#f1b6da"
            ],
            [
             0.4,
             "#fde0ef"
            ],
            [
             0.5,
             "#f7f7f7"
            ],
            [
             0.6,
             "#e6f5d0"
            ],
            [
             0.7,
             "#b8e186"
            ],
            [
             0.8,
             "#7fbc41"
            ],
            [
             0.9,
             "#4d9221"
            ],
            [
             1,
             "#276419"
            ]
           ],
           "sequential": [
            [
             0,
             "#0d0887"
            ],
            [
             0.1111111111111111,
             "#46039f"
            ],
            [
             0.2222222222222222,
             "#7201a8"
            ],
            [
             0.3333333333333333,
             "#9c179e"
            ],
            [
             0.4444444444444444,
             "#bd3786"
            ],
            [
             0.5555555555555556,
             "#d8576b"
            ],
            [
             0.6666666666666666,
             "#ed7953"
            ],
            [
             0.7777777777777778,
             "#fb9f3a"
            ],
            [
             0.8888888888888888,
             "#fdca26"
            ],
            [
             1,
             "#f0f921"
            ]
           ],
           "sequentialminus": [
            [
             0,
             "#0d0887"
            ],
            [
             0.1111111111111111,
             "#46039f"
            ],
            [
             0.2222222222222222,
             "#7201a8"
            ],
            [
             0.3333333333333333,
             "#9c179e"
            ],
            [
             0.4444444444444444,
             "#bd3786"
            ],
            [
             0.5555555555555556,
             "#d8576b"
            ],
            [
             0.6666666666666666,
             "#ed7953"
            ],
            [
             0.7777777777777778,
             "#fb9f3a"
            ],
            [
             0.8888888888888888,
             "#fdca26"
            ],
            [
             1,
             "#f0f921"
            ]
           ]
          },
          "colorway": [
           "#636efa",
           "#EF553B",
           "#00cc96",
           "#ab63fa",
           "#FFA15A",
           "#19d3f3",
           "#FF6692",
           "#B6E880",
           "#FF97FF",
           "#FECB52"
          ],
          "font": {
           "color": "#2a3f5f"
          },
          "geo": {
           "bgcolor": "white",
           "lakecolor": "white",
           "landcolor": "white",
           "showlakes": true,
           "showland": true,
           "subunitcolor": "#C8D4E3"
          },
          "hoverlabel": {
           "align": "left"
          },
          "hovermode": "closest",
          "mapbox": {
           "style": "light"
          },
          "paper_bgcolor": "white",
          "plot_bgcolor": "white",
          "polar": {
           "angularaxis": {
            "gridcolor": "#EBF0F8",
            "linecolor": "#EBF0F8",
            "ticks": ""
           },
           "bgcolor": "white",
           "radialaxis": {
            "gridcolor": "#EBF0F8",
            "linecolor": "#EBF0F8",
            "ticks": ""
           }
          },
          "scene": {
           "xaxis": {
            "backgroundcolor": "white",
            "gridcolor": "#DFE8F3",
            "gridwidth": 2,
            "linecolor": "#EBF0F8",
            "showbackground": true,
            "ticks": "",
            "zerolinecolor": "#EBF0F8"
           },
           "yaxis": {
            "backgroundcolor": "white",
            "gridcolor": "#DFE8F3",
            "gridwidth": 2,
            "linecolor": "#EBF0F8",
            "showbackground": true,
            "ticks": "",
            "zerolinecolor": "#EBF0F8"
           },
           "zaxis": {
            "backgroundcolor": "white",
            "gridcolor": "#DFE8F3",
            "gridwidth": 2,
            "linecolor": "#EBF0F8",
            "showbackground": true,
            "ticks": "",
            "zerolinecolor": "#EBF0F8"
           }
          },
          "shapedefaults": {
           "line": {
            "color": "#2a3f5f"
           }
          },
          "ternary": {
           "aaxis": {
            "gridcolor": "#DFE8F3",
            "linecolor": "#A2B1C6",
            "ticks": ""
           },
           "baxis": {
            "gridcolor": "#DFE8F3",
            "linecolor": "#A2B1C6",
            "ticks": ""
           },
           "bgcolor": "white",
           "caxis": {
            "gridcolor": "#DFE8F3",
            "linecolor": "#A2B1C6",
            "ticks": ""
           }
          },
          "title": {
           "x": 0.05
          },
          "xaxis": {
           "automargin": true,
           "gridcolor": "#EBF0F8",
           "linecolor": "#EBF0F8",
           "ticks": "",
           "title": {
            "standoff": 15
           },
           "zerolinecolor": "#EBF0F8",
           "zerolinewidth": 2
          },
          "yaxis": {
           "automargin": true,
           "gridcolor": "#EBF0F8",
           "linecolor": "#EBF0F8",
           "ticks": "",
           "title": {
            "standoff": 15
           },
           "zerolinecolor": "#EBF0F8",
           "zerolinewidth": 2
          }
         }
        },
        "title": {
         "text": "Ventas por género con Rating mayor a 8"
        },
        "xaxis": {
         "anchor": "y",
         "categoryarray": [
          "Female",
          "Male"
         ],
         "categoryorder": "array",
         "domain": [
          0,
          1
         ],
         "title": {
          "text": "Género"
         }
        },
        "yaxis": {
         "anchor": "x",
         "domain": [
          0,
          1
         ],
         "title": {
          "text": "Ventas Totales"
         }
        }
       }
      }
     },
     "metadata": {},
     "output_type": "display_data"
    }
   ],
   "source": [
    "# Agrupar por género las ventas con rating >= 8\n",
    "ventas_rating_alto = super_data[super_data[\"Rating\"] >= 8]\n",
    "ventas_por_genero = ventas_rating_alto.groupby(\"Gender\")[\"Sales\"].sum().reset_index()\n",
    "\n",
    "# Crear gráfico\n",
    "fig = px.bar(\n",
    "    ventas_por_genero,\n",
    "    x=\"Gender\",\n",
    "    y=\"Sales\",\n",
    "    color=\"Gender\",\n",
    "    title=\"Ventas por género con Rating mayor a 8\",\n",
    "    text_auto=\".2s\",\n",
    "    color_discrete_sequence=[\"#EF553B\", \"#636EFA\"]  # Colores bonitos\n",
    ")\n",
    "fig.update_layout(\n",
    "    xaxis_title=\"Género\",\n",
    "    yaxis_title=\"Ventas Totales\",\n",
    "    template=\"plotly_white\"\n",
    ")\n",
    "fig.show()"
   ]
  },
  {
   "cell_type": "code",
   "execution_count": 26,
   "id": "41118f65",
   "metadata": {},
   "outputs": [
    {
     "data": {
      "application/vnd.plotly.v1+json": {
       "config": {
        "plotlyServerURL": "https://plot.ly"
       },
       "data": [
        {
         "alignmentgroup": "True",
         "hovertemplate": "Gender=%{x}<br>Rating=%{y}<extra></extra>",
         "legendgroup": "Female",
         "marker": {
          "color": "#00CC96"
         },
         "name": "Female",
         "notched": false,
         "offsetgroup": "Female",
         "orientation": "v",
         "showlegend": true,
         "type": "box",
         "x": [
          "Female",
          "Female",
          "Female",
          "Female",
          "Female",
          "Female",
          "Female",
          "Female",
          "Female",
          "Female",
          "Female",
          "Female",
          "Female",
          "Female",
          "Female",
          "Female",
          "Female",
          "Female",
          "Female",
          "Female",
          "Female",
          "Female",
          "Female",
          "Female",
          "Female",
          "Female",
          "Female",
          "Female",
          "Female",
          "Female",
          "Female",
          "Female",
          "Female",
          "Female",
          "Female",
          "Female",
          "Female",
          "Female",
          "Female",
          "Female",
          "Female",
          "Female",
          "Female",
          "Female",
          "Female",
          "Female",
          "Female",
          "Female",
          "Female",
          "Female",
          "Female",
          "Female",
          "Female",
          "Female",
          "Female",
          "Female",
          "Female",
          "Female",
          "Female",
          "Female",
          "Female",
          "Female",
          "Female",
          "Female",
          "Female",
          "Female",
          "Female",
          "Female",
          "Female",
          "Female",
          "Female",
          "Female",
          "Female",
          "Female",
          "Female",
          "Female",
          "Female",
          "Female",
          "Female",
          "Female",
          "Female",
          "Female",
          "Female",
          "Female",
          "Female",
          "Female",
          "Female",
          "Female",
          "Female",
          "Female",
          "Female",
          "Female",
          "Female",
          "Female",
          "Female",
          "Female",
          "Female",
          "Female",
          "Female",
          "Female",
          "Female",
          "Female",
          "Female",
          "Female",
          "Female",
          "Female",
          "Female",
          "Female",
          "Female",
          "Female",
          "Female",
          "Female",
          "Female",
          "Female",
          "Female",
          "Female",
          "Female",
          "Female",
          "Female",
          "Female",
          "Female",
          "Female",
          "Female",
          "Female",
          "Female",
          "Female",
          "Female",
          "Female",
          "Female",
          "Female",
          "Female",
          "Female",
          "Female",
          "Female",
          "Female",
          "Female",
          "Female",
          "Female",
          "Female",
          "Female",
          "Female",
          "Female",
          "Female",
          "Female",
          "Female",
          "Female",
          "Female",
          "Female",
          "Female",
          "Female",
          "Female",
          "Female",
          "Female",
          "Female",
          "Female",
          "Female",
          "Female",
          "Female",
          "Female",
          "Female",
          "Female",
          "Female",
          "Female",
          "Female",
          "Female",
          "Female",
          "Female",
          "Female",
          "Female",
          "Female",
          "Female",
          "Female",
          "Female",
          "Female",
          "Female",
          "Female",
          "Female",
          "Female",
          "Female",
          "Female",
          "Female",
          "Female",
          "Female",
          "Female",
          "Female",
          "Female",
          "Female",
          "Female",
          "Female"
         ],
         "x0": " ",
         "xaxis": "x",
         "y": {
          "bdata": "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",
          "dtype": "f8"
         },
         "y0": " ",
         "yaxis": "y"
        },
        {
         "alignmentgroup": "True",
         "hovertemplate": "Gender=%{x}<br>Rating=%{y}<extra></extra>",
         "legendgroup": "Male",
         "marker": {
          "color": "#AB63FA"
         },
         "name": "Male",
         "notched": false,
         "offsetgroup": "Male",
         "orientation": "v",
         "showlegend": true,
         "type": "box",
         "x": [
          "Male",
          "Male",
          "Male",
          "Male",
          "Male",
          "Male",
          "Male",
          "Male",
          "Male",
          "Male",
          "Male",
          "Male",
          "Male",
          "Male",
          "Male",
          "Male",
          "Male",
          "Male",
          "Male",
          "Male",
          "Male",
          "Male",
          "Male",
          "Male",
          "Male",
          "Male",
          "Male",
          "Male",
          "Male",
          "Male",
          "Male",
          "Male",
          "Male",
          "Male",
          "Male",
          "Male",
          "Male",
          "Male",
          "Male",
          "Male",
          "Male",
          "Male",
          "Male",
          "Male",
          "Male",
          "Male",
          "Male",
          "Male",
          "Male",
          "Male",
          "Male",
          "Male",
          "Male",
          "Male",
          "Male",
          "Male",
          "Male",
          "Male",
          "Male",
          "Male",
          "Male",
          "Male",
          "Male",
          "Male",
          "Male",
          "Male",
          "Male",
          "Male",
          "Male",
          "Male",
          "Male",
          "Male",
          "Male",
          "Male",
          "Male",
          "Male",
          "Male",
          "Male",
          "Male",
          "Male",
          "Male",
          "Male",
          "Male",
          "Male",
          "Male",
          "Male",
          "Male",
          "Male",
          "Male",
          "Male",
          "Male",
          "Male",
          "Male",
          "Male",
          "Male",
          "Male",
          "Male",
          "Male",
          "Male",
          "Male",
          "Male",
          "Male",
          "Male",
          "Male",
          "Male",
          "Male",
          "Male",
          "Male",
          "Male",
          "Male",
          "Male",
          "Male",
          "Male",
          "Male",
          "Male",
          "Male",
          "Male",
          "Male",
          "Male",
          "Male",
          "Male",
          "Male",
          "Male",
          "Male",
          "Male",
          "Male",
          "Male",
          "Male",
          "Male",
          "Male",
          "Male",
          "Male",
          "Male",
          "Male",
          "Male",
          "Male",
          "Male",
          "Male",
          "Male",
          "Male"
         ],
         "x0": " ",
         "xaxis": "x",
         "y": {
          "bdata": "MzMzMzMzIEAAAAAAAAAiQGZmZmZmZiNAAAAAAAAAJEBmZmZmZmYhQAAAAAAAACFAzczMzMzMIkCamZmZmZkjQGZmZmZmZiFAmpmZmZmZIUAzMzMzMzMjQM3MzMzMzCNAAAAAAAAAIEAAAAAAAAAgQM3MzMzMzCNAzczMzMzMI0BmZmZmZmYgQJqZmZmZmSNAZmZmZmZmIUCamZmZmZkgQGZmZmZmZiFAzczMzMzMIkBmZmZmZmYjQJqZmZmZmSBAmpmZmZmZIUDNzMzMzMwgQM3MzMzMzCFAAAAAAAAAIkBmZmZmZmYjQGZmZmZmZiFAMzMzMzMzI0AAAAAAAAAhQGZmZmZmZiNAzczMzMzMIECamZmZmZkjQM3MzMzMzCJAMzMzMzMzIUAzMzMzMzMiQAAAAAAAACFAAAAAAAAAIEDNzMzMzMwhQGZmZmZmZiFAzczMzMzMIkAAAAAAAAAgQJqZmZmZmSNAAAAAAAAAIEBmZmZmZmYiQM3MzMzMzCFAMzMzMzMzI0AAAAAAAAAiQDMzMzMzMyNAMzMzMzMzIEAAAAAAAAAjQM3MzMzMzCFAMzMzMzMzIkDNzMzMzMwgQJqZmZmZmSBAAAAAAAAAIkAAAAAAAAAjQJqZmZmZmSNAZmZmZmZmIECamZmZmZkjQGZmZmZmZiFAZmZmZmZmI0AAAAAAAAAgQAAAAAAAACJAmpmZmZmZIkBmZmZmZmYgQDMzMzMzMyJAMzMzMzMzIUAAAAAAAAAiQDMzMzMzMyFAmpmZmZmZIEAzMzMzMzMgQDMzMzMzMyFAMzMzMzMzIECamZmZmZkjQGZmZmZmZiFAAAAAAAAAI0AzMzMzMzMhQM3MzMzMzCFAAAAAAAAAIkBmZmZmZmYhQGZmZmZmZiFAzczMzMzMIkCamZmZmZkiQDMzMzMzMyBAzczMzMzMIkCamZmZmZkhQAAAAAAAACBAZmZmZmZmIkDNzMzMzMwhQDMzMzMzMyJAMzMzMzMzIkAAAAAAAAAhQDMzMzMzMyBAzczMzMzMIUAAAAAAAAAjQM3MzMzMzCFAAAAAAAAAIkCamZmZmZkjQAAAAAAAACFAmpmZmZmZIUAAAAAAAAAjQAAAAAAAACJAzczMzMzMIEAzMzMzMzMjQJqZmZmZmSBAAAAAAAAAIkBmZmZmZmYjQGZmZmZmZiJAmpmZmZmZIkCamZmZmZkjQM3MzMzMzCJAMzMzMzMzI0DNzMzMzMwgQAAAAAAAACFAAAAAAAAAI0BmZmZmZmYiQGZmZmZmZiNAZmZmZmZmIkCamZmZmZkiQDMzMzMzMyNAzczMzMzMI0DNzMzMzMwjQM3MzMzMzCJAzczMzMzMIUAzMzMzMzMgQJqZmZmZmSFAmpmZmZmZIkBmZmZmZmYhQJqZmZmZmSJAmpmZmZmZI0CamZmZmZkjQJqZmZmZmSJAZmZmZmZmIECamZmZmZkjQM3MzMzMzCBAzczMzMzMIECamZmZmZkhQA==",
          "dtype": "f8"
         },
         "y0": " ",
         "yaxis": "y"
        }
       ],
       "layout": {
        "boxmode": "overlay",
        "legend": {
         "title": {
          "text": "Gender"
         },
         "tracegroupgap": 0
        },
        "template": {
         "data": {
          "bar": [
           {
            "error_x": {
             "color": "#2a3f5f"
            },
            "error_y": {
             "color": "#2a3f5f"
            },
            "marker": {
             "line": {
              "color": "white",
              "width": 0.5
             },
             "pattern": {
              "fillmode": "overlay",
              "size": 10,
              "solidity": 0.2
             }
            },
            "type": "bar"
           }
          ],
          "barpolar": [
           {
            "marker": {
             "line": {
              "color": "white",
              "width": 0.5
             },
             "pattern": {
              "fillmode": "overlay",
              "size": 10,
              "solidity": 0.2
             }
            },
            "type": "barpolar"
           }
          ],
          "carpet": [
           {
            "aaxis": {
             "endlinecolor": "#2a3f5f",
             "gridcolor": "#C8D4E3",
             "linecolor": "#C8D4E3",
             "minorgridcolor": "#C8D4E3",
             "startlinecolor": "#2a3f5f"
            },
            "baxis": {
             "endlinecolor": "#2a3f5f",
             "gridcolor": "#C8D4E3",
             "linecolor": "#C8D4E3",
             "minorgridcolor": "#C8D4E3",
             "startlinecolor": "#2a3f5f"
            },
            "type": "carpet"
           }
          ],
          "choropleth": [
           {
            "colorbar": {
             "outlinewidth": 0,
             "ticks": ""
            },
            "type": "choropleth"
           }
          ],
          "contour": [
           {
            "colorbar": {
             "outlinewidth": 0,
             "ticks": ""
            },
            "colorscale": [
             [
              0,
              "#0d0887"
             ],
             [
              0.1111111111111111,
              "#46039f"
             ],
             [
              0.2222222222222222,
              "#7201a8"
             ],
             [
              0.3333333333333333,
              "#9c179e"
             ],
             [
              0.4444444444444444,
              "#bd3786"
             ],
             [
              0.5555555555555556,
              "#d8576b"
             ],
             [
              0.6666666666666666,
              "#ed7953"
             ],
             [
              0.7777777777777778,
              "#fb9f3a"
             ],
             [
              0.8888888888888888,
              "#fdca26"
             ],
             [
              1,
              "#f0f921"
             ]
            ],
            "type": "contour"
           }
          ],
          "contourcarpet": [
           {
            "colorbar": {
             "outlinewidth": 0,
             "ticks": ""
            },
            "type": "contourcarpet"
           }
          ],
          "heatmap": [
           {
            "colorbar": {
             "outlinewidth": 0,
             "ticks": ""
            },
            "colorscale": [
             [
              0,
              "#0d0887"
             ],
             [
              0.1111111111111111,
              "#46039f"
             ],
             [
              0.2222222222222222,
              "#7201a8"
             ],
             [
              0.3333333333333333,
              "#9c179e"
             ],
             [
              0.4444444444444444,
              "#bd3786"
             ],
             [
              0.5555555555555556,
              "#d8576b"
             ],
             [
              0.6666666666666666,
              "#ed7953"
             ],
             [
              0.7777777777777778,
              "#fb9f3a"
             ],
             [
              0.8888888888888888,
              "#fdca26"
             ],
             [
              1,
              "#f0f921"
             ]
            ],
            "type": "heatmap"
           }
          ],
          "histogram": [
           {
            "marker": {
             "pattern": {
              "fillmode": "overlay",
              "size": 10,
              "solidity": 0.2
             }
            },
            "type": "histogram"
           }
          ],
          "histogram2d": [
           {
            "colorbar": {
             "outlinewidth": 0,
             "ticks": ""
            },
            "colorscale": [
             [
              0,
              "#0d0887"
             ],
             [
              0.1111111111111111,
              "#46039f"
             ],
             [
              0.2222222222222222,
              "#7201a8"
             ],
             [
              0.3333333333333333,
              "#9c179e"
             ],
             [
              0.4444444444444444,
              "#bd3786"
             ],
             [
              0.5555555555555556,
              "#d8576b"
             ],
             [
              0.6666666666666666,
              "#ed7953"
             ],
             [
              0.7777777777777778,
              "#fb9f3a"
             ],
             [
              0.8888888888888888,
              "#fdca26"
             ],
             [
              1,
              "#f0f921"
             ]
            ],
            "type": "histogram2d"
           }
          ],
          "histogram2dcontour": [
           {
            "colorbar": {
             "outlinewidth": 0,
             "ticks": ""
            },
            "colorscale": [
             [
              0,
              "#0d0887"
             ],
             [
              0.1111111111111111,
              "#46039f"
             ],
             [
              0.2222222222222222,
              "#7201a8"
             ],
             [
              0.3333333333333333,
              "#9c179e"
             ],
             [
              0.4444444444444444,
              "#bd3786"
             ],
             [
              0.5555555555555556,
              "#d8576b"
             ],
             [
              0.6666666666666666,
              "#ed7953"
             ],
             [
              0.7777777777777778,
              "#fb9f3a"
             ],
             [
              0.8888888888888888,
              "#fdca26"
             ],
             [
              1,
              "#f0f921"
             ]
            ],
            "type": "histogram2dcontour"
           }
          ],
          "mesh3d": [
           {
            "colorbar": {
             "outlinewidth": 0,
             "ticks": ""
            },
            "type": "mesh3d"
           }
          ],
          "parcoords": [
           {
            "line": {
             "colorbar": {
              "outlinewidth": 0,
              "ticks": ""
             }
            },
            "type": "parcoords"
           }
          ],
          "pie": [
           {
            "automargin": true,
            "type": "pie"
           }
          ],
          "scatter": [
           {
            "fillpattern": {
             "fillmode": "overlay",
             "size": 10,
             "solidity": 0.2
            },
            "type": "scatter"
           }
          ],
          "scatter3d": [
           {
            "line": {
             "colorbar": {
              "outlinewidth": 0,
              "ticks": ""
             }
            },
            "marker": {
             "colorbar": {
              "outlinewidth": 0,
              "ticks": ""
             }
            },
            "type": "scatter3d"
           }
          ],
          "scattercarpet": [
           {
            "marker": {
             "colorbar": {
              "outlinewidth": 0,
              "ticks": ""
             }
            },
            "type": "scattercarpet"
           }
          ],
          "scattergeo": [
           {
            "marker": {
             "colorbar": {
              "outlinewidth": 0,
              "ticks": ""
             }
            },
            "type": "scattergeo"
           }
          ],
          "scattergl": [
           {
            "marker": {
             "colorbar": {
              "outlinewidth": 0,
              "ticks": ""
             }
            },
            "type": "scattergl"
           }
          ],
          "scattermap": [
           {
            "marker": {
             "colorbar": {
              "outlinewidth": 0,
              "ticks": ""
             }
            },
            "type": "scattermap"
           }
          ],
          "scattermapbox": [
           {
            "marker": {
             "colorbar": {
              "outlinewidth": 0,
              "ticks": ""
             }
            },
            "type": "scattermapbox"
           }
          ],
          "scatterpolar": [
           {
            "marker": {
             "colorbar": {
              "outlinewidth": 0,
              "ticks": ""
             }
            },
            "type": "scatterpolar"
           }
          ],
          "scatterpolargl": [
           {
            "marker": {
             "colorbar": {
              "outlinewidth": 0,
              "ticks": ""
             }
            },
            "type": "scatterpolargl"
           }
          ],
          "scatterternary": [
           {
            "marker": {
             "colorbar": {
              "outlinewidth": 0,
              "ticks": ""
             }
            },
            "type": "scatterternary"
           }
          ],
          "surface": [
           {
            "colorbar": {
             "outlinewidth": 0,
             "ticks": ""
            },
            "colorscale": [
             [
              0,
              "#0d0887"
             ],
             [
              0.1111111111111111,
              "#46039f"
             ],
             [
              0.2222222222222222,
              "#7201a8"
             ],
             [
              0.3333333333333333,
              "#9c179e"
             ],
             [
              0.4444444444444444,
              "#bd3786"
             ],
             [
              0.5555555555555556,
              "#d8576b"
             ],
             [
              0.6666666666666666,
              "#ed7953"
             ],
             [
              0.7777777777777778,
              "#fb9f3a"
             ],
             [
              0.8888888888888888,
              "#fdca26"
             ],
             [
              1,
              "#f0f921"
             ]
            ],
            "type": "surface"
           }
          ],
          "table": [
           {
            "cells": {
             "fill": {
              "color": "#EBF0F8"
             },
             "line": {
              "color": "white"
             }
            },
            "header": {
             "fill": {
              "color": "#C8D4E3"
             },
             "line": {
              "color": "white"
             }
            },
            "type": "table"
           }
          ]
         },
         "layout": {
          "annotationdefaults": {
           "arrowcolor": "#2a3f5f",
           "arrowhead": 0,
           "arrowwidth": 1
          },
          "autotypenumbers": "strict",
          "coloraxis": {
           "colorbar": {
            "outlinewidth": 0,
            "ticks": ""
           }
          },
          "colorscale": {
           "diverging": [
            [
             0,
             "#8e0152"
            ],
            [
             0.1,
             "#c51b7d"
            ],
            [
             0.2,
             "#de77ae"
            ],
            [
             0.3,
             "#f1b6da"
            ],
            [
             0.4,
             "#fde0ef"
            ],
            [
             0.5,
             "#f7f7f7"
            ],
            [
             0.6,
             "#e6f5d0"
            ],
            [
             0.7,
             "#b8e186"
            ],
            [
             0.8,
             "#7fbc41"
            ],
            [
             0.9,
             "#4d9221"
            ],
            [
             1,
             "#276419"
            ]
           ],
           "sequential": [
            [
             0,
             "#0d0887"
            ],
            [
             0.1111111111111111,
             "#46039f"
            ],
            [
             0.2222222222222222,
             "#7201a8"
            ],
            [
             0.3333333333333333,
             "#9c179e"
            ],
            [
             0.4444444444444444,
             "#bd3786"
            ],
            [
             0.5555555555555556,
             "#d8576b"
            ],
            [
             0.6666666666666666,
             "#ed7953"
            ],
            [
             0.7777777777777778,
             "#fb9f3a"
            ],
            [
             0.8888888888888888,
             "#fdca26"
            ],
            [
             1,
             "#f0f921"
            ]
           ],
           "sequentialminus": [
            [
             0,
             "#0d0887"
            ],
            [
             0.1111111111111111,
             "#46039f"
            ],
            [
             0.2222222222222222,
             "#7201a8"
            ],
            [
             0.3333333333333333,
             "#9c179e"
            ],
            [
             0.4444444444444444,
             "#bd3786"
            ],
            [
             0.5555555555555556,
             "#d8576b"
            ],
            [
             0.6666666666666666,
             "#ed7953"
            ],
            [
             0.7777777777777778,
             "#fb9f3a"
            ],
            [
             0.8888888888888888,
             "#fdca26"
            ],
            [
             1,
             "#f0f921"
            ]
           ]
          },
          "colorway": [
           "#636efa",
           "#EF553B",
           "#00cc96",
           "#ab63fa",
           "#FFA15A",
           "#19d3f3",
           "#FF6692",
           "#B6E880",
           "#FF97FF",
           "#FECB52"
          ],
          "font": {
           "color": "#2a3f5f"
          },
          "geo": {
           "bgcolor": "white",
           "lakecolor": "white",
           "landcolor": "white",
           "showlakes": true,
           "showland": true,
           "subunitcolor": "#C8D4E3"
          },
          "hoverlabel": {
           "align": "left"
          },
          "hovermode": "closest",
          "mapbox": {
           "style": "light"
          },
          "paper_bgcolor": "white",
          "plot_bgcolor": "white",
          "polar": {
           "angularaxis": {
            "gridcolor": "#EBF0F8",
            "linecolor": "#EBF0F8",
            "ticks": ""
           },
           "bgcolor": "white",
           "radialaxis": {
            "gridcolor": "#EBF0F8",
            "linecolor": "#EBF0F8",
            "ticks": ""
           }
          },
          "scene": {
           "xaxis": {
            "backgroundcolor": "white",
            "gridcolor": "#DFE8F3",
            "gridwidth": 2,
            "linecolor": "#EBF0F8",
            "showbackground": true,
            "ticks": "",
            "zerolinecolor": "#EBF0F8"
           },
           "yaxis": {
            "backgroundcolor": "white",
            "gridcolor": "#DFE8F3",
            "gridwidth": 2,
            "linecolor": "#EBF0F8",
            "showbackground": true,
            "ticks": "",
            "zerolinecolor": "#EBF0F8"
           },
           "zaxis": {
            "backgroundcolor": "white",
            "gridcolor": "#DFE8F3",
            "gridwidth": 2,
            "linecolor": "#EBF0F8",
            "showbackground": true,
            "ticks": "",
            "zerolinecolor": "#EBF0F8"
           }
          },
          "shapedefaults": {
           "line": {
            "color": "#2a3f5f"
           }
          },
          "ternary": {
           "aaxis": {
            "gridcolor": "#DFE8F3",
            "linecolor": "#A2B1C6",
            "ticks": ""
           },
           "baxis": {
            "gridcolor": "#DFE8F3",
            "linecolor": "#A2B1C6",
            "ticks": ""
           },
           "bgcolor": "white",
           "caxis": {
            "gridcolor": "#DFE8F3",
            "linecolor": "#A2B1C6",
            "ticks": ""
           }
          },
          "title": {
           "x": 0.05
          },
          "xaxis": {
           "automargin": true,
           "gridcolor": "#EBF0F8",
           "linecolor": "#EBF0F8",
           "ticks": "",
           "title": {
            "standoff": 15
           },
           "zerolinecolor": "#EBF0F8",
           "zerolinewidth": 2
          },
          "yaxis": {
           "automargin": true,
           "gridcolor": "#EBF0F8",
           "linecolor": "#EBF0F8",
           "ticks": "",
           "title": {
            "standoff": 15
           },
           "zerolinecolor": "#EBF0F8",
           "zerolinewidth": 2
          }
         }
        },
        "title": {
         "text": "Distribución de Ratings mayor a 8 por género"
        },
        "xaxis": {
         "anchor": "y",
         "categoryarray": [
          "Female",
          "Male"
         ],
         "categoryorder": "array",
         "domain": [
          0,
          1
         ],
         "title": {
          "text": "Gender"
         }
        },
        "yaxis": {
         "anchor": "x",
         "domain": [
          0,
          1
         ],
         "title": {
          "text": "Rating"
         }
        }
       }
      }
     },
     "metadata": {},
     "output_type": "display_data"
    }
   ],
   "source": [
    "fig = px.box(\n",
    "    ventas_rating_alto,\n",
    "    x=\"Gender\",\n",
    "    y=\"Rating\",\n",
    "    color=\"Gender\",\n",
    "    title=\"Distribución de Ratings mayor a 8 por género\",\n",
    "    color_discrete_sequence=[\"#00CC96\", \"#AB63FA\"]\n",
    ")\n",
    "fig.update_layout(template=\"plotly_white\")\n",
    "fig.show()\n"
   ]
  },
  {
   "cell_type": "code",
   "execution_count": 28,
   "id": "6cee51ca",
   "metadata": {},
   "outputs": [
    {
     "data": {
      "application/vnd.plotly.v1+json": {
       "config": {
        "plotlyServerURL": "https://plot.ly"
       },
       "data": [
        {
         "customdata": [
          [
           "Health and beauty",
           "Yangon"
          ],
          [
           "Electronic accessories",
           "Naypyitaw"
          ],
          [
           "Health and beauty",
           "Yangon"
          ],
          [
           "Home and lifestyle",
           "Naypyitaw"
          ],
          [
           "Food and beverages",
           "Yangon"
          ],
          [
           "Food and beverages",
           "Yangon"
          ],
          [
           "Electronic accessories",
           "Yangon"
          ],
          [
           "Home and lifestyle",
           "Yangon"
          ],
          [
           "Food and beverages",
           "Mandalay"
          ],
          [
           "Electronic accessories",
           "Mandalay"
          ],
          [
           "Health and beauty",
           "Mandalay"
          ],
          [
           "Electronic accessories",
           "Mandalay"
          ],
          [
           "Food and beverages",
           "Naypyitaw"
          ],
          [
           "Food and beverages",
           "Yangon"
          ],
          [
           "Electronic accessories",
           "Naypyitaw"
          ],
          [
           "Electronic accessories",
           "Naypyitaw"
          ],
          [
           "Sports and travel",
           "Naypyitaw"
          ],
          [
           "Sports and travel",
           "Mandalay"
          ],
          [
           "Sports and travel",
           "Yangon"
          ],
          [
           "Fashion accessories",
           "Mandalay"
          ],
          [
           "Food and beverages",
           "Naypyitaw"
          ],
          [
           "Electronic accessories",
           "Naypyitaw"
          ],
          [
           "Home and lifestyle",
           "Yangon"
          ],
          [
           "Fashion accessories",
           "Naypyitaw"
          ],
          [
           "Food and beverages",
           "Naypyitaw"
          ],
          [
           "Fashion accessories",
           "Naypyitaw"
          ],
          [
           "Sports and travel",
           "Naypyitaw"
          ],
          [
           "Health and beauty",
           "Mandalay"
          ],
          [
           "Food and beverages",
           "Yangon"
          ],
          [
           "Food and beverages",
           "Yangon"
          ],
          [
           "Health and beauty",
           "Mandalay"
          ],
          [
           "Electronic accessories",
           "Naypyitaw"
          ],
          [
           "Fashion accessories",
           "Mandalay"
          ],
          [
           "Home and lifestyle",
           "Naypyitaw"
          ],
          [
           "Sports and travel",
           "Yangon"
          ],
          [
           "Food and beverages",
           "Naypyitaw"
          ],
          [
           "Sports and travel",
           "Yangon"
          ],
          [
           "Electronic accessories",
           "Mandalay"
          ],
          [
           "Electronic accessories",
           "Yangon"
          ],
          [
           "Home and lifestyle",
           "Yangon"
          ],
          [
           "Sports and travel",
           "Mandalay"
          ],
          [
           "Sports and travel",
           "Yangon"
          ],
          [
           "Health and beauty",
           "Naypyitaw"
          ],
          [
           "Food and beverages",
           "Naypyitaw"
          ],
          [
           "Home and lifestyle",
           "Yangon"
          ],
          [
           "Health and beauty",
           "Naypyitaw"
          ],
          [
           "Fashion accessories",
           "Yangon"
          ],
          [
           "Food and beverages",
           "Naypyitaw"
          ],
          [
           "Sports and travel",
           "Naypyitaw"
          ],
          [
           "Food and beverages",
           "Naypyitaw"
          ],
          [
           "Food and beverages",
           "Naypyitaw"
          ],
          [
           "Electronic accessories",
           "Naypyitaw"
          ],
          [
           "Food and beverages",
           "Naypyitaw"
          ],
          [
           "Sports and travel",
           "Mandalay"
          ],
          [
           "Fashion accessories",
           "Naypyitaw"
          ],
          [
           "Sports and travel",
           "Naypyitaw"
          ],
          [
           "Electronic accessories",
           "Mandalay"
          ],
          [
           "Health and beauty",
           "Mandalay"
          ],
          [
           "Fashion accessories",
           "Naypyitaw"
          ],
          [
           "Sports and travel",
           "Yangon"
          ],
          [
           "Food and beverages",
           "Mandalay"
          ],
          [
           "Health and beauty",
           "Naypyitaw"
          ],
          [
           "Home and lifestyle",
           "Yangon"
          ],
          [
           "Health and beauty",
           "Yangon"
          ],
          [
           "Sports and travel",
           "Naypyitaw"
          ],
          [
           "Electronic accessories",
           "Mandalay"
          ],
          [
           "Sports and travel",
           "Yangon"
          ],
          [
           "Health and beauty",
           "Naypyitaw"
          ],
          [
           "Health and beauty",
           "Naypyitaw"
          ],
          [
           "Electronic accessories",
           "Yangon"
          ],
          [
           "Electronic accessories",
           "Naypyitaw"
          ],
          [
           "Food and beverages",
           "Mandalay"
          ],
          [
           "Health and beauty",
           "Mandalay"
          ],
          [
           "Food and beverages",
           "Naypyitaw"
          ],
          [
           "Fashion accessories",
           "Mandalay"
          ],
          [
           "Electronic accessories",
           "Naypyitaw"
          ],
          [
           "Fashion accessories",
           "Naypyitaw"
          ],
          [
           "Food and beverages",
           "Naypyitaw"
          ],
          [
           "Fashion accessories",
           "Naypyitaw"
          ],
          [
           "Electronic accessories",
           "Mandalay"
          ],
          [
           "Home and lifestyle",
           "Yangon"
          ],
          [
           "Home and lifestyle",
           "Mandalay"
          ],
          [
           "Food and beverages",
           "Mandalay"
          ],
          [
           "Food and beverages",
           "Yangon"
          ],
          [
           "Health and beauty",
           "Yangon"
          ],
          [
           "Fashion accessories",
           "Naypyitaw"
          ],
          [
           "Fashion accessories",
           "Naypyitaw"
          ],
          [
           "Fashion accessories",
           "Mandalay"
          ],
          [
           "Health and beauty",
           "Mandalay"
          ],
          [
           "Food and beverages",
           "Naypyitaw"
          ],
          [
           "Fashion accessories",
           "Mandalay"
          ],
          [
           "Home and lifestyle",
           "Naypyitaw"
          ],
          [
           "Health and beauty",
           "Naypyitaw"
          ],
          [
           "Health and beauty",
           "Mandalay"
          ],
          [
           "Electronic accessories",
           "Yangon"
          ],
          [
           "Electronic accessories",
           "Naypyitaw"
          ],
          [
           "Fashion accessories",
           "Naypyitaw"
          ],
          [
           "Food and beverages",
           "Mandalay"
          ],
          [
           "Sports and travel",
           "Yangon"
          ],
          [
           "Health and beauty",
           "Mandalay"
          ],
          [
           "Sports and travel",
           "Mandalay"
          ],
          [
           "Food and beverages",
           "Mandalay"
          ],
          [
           "Electronic accessories",
           "Naypyitaw"
          ],
          [
           "Sports and travel",
           "Yangon"
          ],
          [
           "Home and lifestyle",
           "Mandalay"
          ],
          [
           "Fashion accessories",
           "Mandalay"
          ],
          [
           "Health and beauty",
           "Mandalay"
          ],
          [
           "Home and lifestyle",
           "Naypyitaw"
          ],
          [
           "Electronic accessories",
           "Naypyitaw"
          ],
          [
           "Sports and travel",
           "Mandalay"
          ],
          [
           "Sports and travel",
           "Yangon"
          ],
          [
           "Fashion accessories",
           "Naypyitaw"
          ],
          [
           "Fashion accessories",
           "Yangon"
          ],
          [
           "Fashion accessories",
           "Naypyitaw"
          ],
          [
           "Food and beverages",
           "Naypyitaw"
          ],
          [
           "Food and beverages",
           "Mandalay"
          ],
          [
           "Fashion accessories",
           "Yangon"
          ],
          [
           "Fashion accessories",
           "Mandalay"
          ],
          [
           "Health and beauty",
           "Mandalay"
          ],
          [
           "Fashion accessories",
           "Mandalay"
          ],
          [
           "Home and lifestyle",
           "Yangon"
          ],
          [
           "Sports and travel",
           "Naypyitaw"
          ],
          [
           "Health and beauty",
           "Yangon"
          ],
          [
           "Fashion accessories",
           "Naypyitaw"
          ],
          [
           "Fashion accessories",
           "Mandalay"
          ],
          [
           "Food and beverages",
           "Yangon"
          ],
          [
           "Home and lifestyle",
           "Naypyitaw"
          ],
          [
           "Sports and travel",
           "Yangon"
          ],
          [
           "Fashion accessories",
           "Naypyitaw"
          ],
          [
           "Home and lifestyle",
           "Yangon"
          ],
          [
           "Fashion accessories",
           "Naypyitaw"
          ],
          [
           "Food and beverages",
           "Yangon"
          ],
          [
           "Food and beverages",
           "Yangon"
          ],
          [
           "Food and beverages",
           "Mandalay"
          ],
          [
           "Fashion accessories",
           "Yangon"
          ],
          [
           "Food and beverages",
           "Mandalay"
          ],
          [
           "Health and beauty",
           "Mandalay"
          ],
          [
           "Electronic accessories",
           "Naypyitaw"
          ],
          [
           "Sports and travel",
           "Mandalay"
          ],
          [
           "Food and beverages",
           "Naypyitaw"
          ],
          [
           "Sports and travel",
           "Mandalay"
          ],
          [
           "Fashion accessories",
           "Naypyitaw"
          ],
          [
           "Fashion accessories",
           "Naypyitaw"
          ],
          [
           "Home and lifestyle",
           "Naypyitaw"
          ],
          [
           "Home and lifestyle",
           "Mandalay"
          ],
          [
           "Home and lifestyle",
           "Naypyitaw"
          ],
          [
           "Sports and travel",
           "Yangon"
          ],
          [
           "Food and beverages",
           "Naypyitaw"
          ],
          [
           "Home and lifestyle",
           "Mandalay"
          ],
          [
           "Food and beverages",
           "Yangon"
          ],
          [
           "Food and beverages",
           "Yangon"
          ],
          [
           "Fashion accessories",
           "Yangon"
          ],
          [
           "Fashion accessories",
           "Naypyitaw"
          ],
          [
           "Health and beauty",
           "Naypyitaw"
          ],
          [
           "Food and beverages",
           "Mandalay"
          ],
          [
           "Home and lifestyle",
           "Naypyitaw"
          ],
          [
           "Health and beauty",
           "Naypyitaw"
          ],
          [
           "Sports and travel",
           "Yangon"
          ],
          [
           "Fashion accessories",
           "Yangon"
          ],
          [
           "Electronic accessories",
           "Mandalay"
          ],
          [
           "Sports and travel",
           "Yangon"
          ],
          [
           "Electronic accessories",
           "Yangon"
          ],
          [
           "Health and beauty",
           "Mandalay"
          ],
          [
           "Fashion accessories",
           "Naypyitaw"
          ],
          [
           "Health and beauty",
           "Yangon"
          ],
          [
           "Food and beverages",
           "Naypyitaw"
          ],
          [
           "Sports and travel",
           "Naypyitaw"
          ],
          [
           "Fashion accessories",
           "Yangon"
          ],
          [
           "Electronic accessories",
           "Mandalay"
          ],
          [
           "Health and beauty",
           "Yangon"
          ],
          [
           "Home and lifestyle",
           "Yangon"
          ],
          [
           "Electronic accessories",
           "Mandalay"
          ],
          [
           "Fashion accessories",
           "Naypyitaw"
          ],
          [
           "Electronic accessories",
           "Yangon"
          ],
          [
           "Electronic accessories",
           "Mandalay"
          ],
          [
           "Fashion accessories",
           "Naypyitaw"
          ],
          [
           "Food and beverages",
           "Naypyitaw"
          ],
          [
           "Electronic accessories",
           "Naypyitaw"
          ],
          [
           "Electronic accessories",
           "Mandalay"
          ],
          [
           "Fashion accessories",
           "Naypyitaw"
          ],
          [
           "Home and lifestyle",
           "Mandalay"
          ],
          [
           "Food and beverages",
           "Mandalay"
          ],
          [
           "Food and beverages",
           "Mandalay"
          ],
          [
           "Food and beverages",
           "Yangon"
          ],
          [
           "Health and beauty",
           "Yangon"
          ],
          [
           "Electronic accessories",
           "Mandalay"
          ],
          [
           "Food and beverages",
           "Mandalay"
          ],
          [
           "Food and beverages",
           "Yangon"
          ],
          [
           "Fashion accessories",
           "Mandalay"
          ]
         ],
         "hovertemplate": "Gender=Female<br>Rating=%{x}<br>Sales=%{marker.size}<br>Product line=%{customdata[0]}<br>City=%{customdata[1]}<extra></extra>",
         "legendgroup": "Female",
         "marker": {
          "color": "#FFA15A",
          "size": {
           "bdata": "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",
           "dtype": "f8"
          },
          "sizemode": "area",
          "sizeref": 2.598225,
          "symbol": "circle"
         },
         "mode": "markers",
         "name": "Female",
         "orientation": "v",
         "showlegend": true,
         "type": "scatter",
         "x": {
          "bdata": "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",
          "dtype": "f8"
         },
         "xaxis": "x",
         "y": {
          "bdata": "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",
          "dtype": "f8"
         },
         "yaxis": "y"
        },
        {
         "customdata": [
          [
           "Health and beauty",
           "Naypyitaw"
          ],
          [
           "Food and beverages",
           "Yangon"
          ],
          [
           "Home and lifestyle",
           "Mandalay"
          ],
          [
           "Sports and travel",
           "Mandalay"
          ],
          [
           "Fashion accessories",
           "Yangon"
          ],
          [
           "Sports and travel",
           "Yangon"
          ],
          [
           "Food and beverages",
           "Mandalay"
          ],
          [
           "Electronic accessories",
           "Mandalay"
          ],
          [
           "Food and beverages",
           "Mandalay"
          ],
          [
           "Home and lifestyle",
           "Yangon"
          ],
          [
           "Food and beverages",
           "Yangon"
          ],
          [
           "Health and beauty",
           "Naypyitaw"
          ],
          [
           "Sports and travel",
           "Yangon"
          ],
          [
           "Food and beverages",
           "Mandalay"
          ],
          [
           "Home and lifestyle",
           "Yangon"
          ],
          [
           "Electronic accessories",
           "Yangon"
          ],
          [
           "Health and beauty",
           "Naypyitaw"
          ],
          [
           "Electronic accessories",
           "Naypyitaw"
          ],
          [
           "Health and beauty",
           "Mandalay"
          ],
          [
           "Home and lifestyle",
           "Yangon"
          ],
          [
           "Fashion accessories",
           "Mandalay"
          ],
          [
           "Electronic accessories",
           "Naypyitaw"
          ],
          [
           "Electronic accessories",
           "Naypyitaw"
          ],
          [
           "Home and lifestyle",
           "Mandalay"
          ],
          [
           "Electronic accessories",
           "Yangon"
          ],
          [
           "Fashion accessories",
           "Naypyitaw"
          ],
          [
           "Home and lifestyle",
           "Yangon"
          ],
          [
           "Fashion accessories",
           "Mandalay"
          ],
          [
           "Electronic accessories",
           "Yangon"
          ],
          [
           "Home and lifestyle",
           "Yangon"
          ],
          [
           "Sports and travel",
           "Yangon"
          ],
          [
           "Health and beauty",
           "Yangon"
          ],
          [
           "Fashion accessories",
           "Naypyitaw"
          ],
          [
           "Health and beauty",
           "Naypyitaw"
          ],
          [
           "Health and beauty",
           "Yangon"
          ],
          [
           "Home and lifestyle",
           "Yangon"
          ],
          [
           "Food and beverages",
           "Naypyitaw"
          ],
          [
           "Food and beverages",
           "Yangon"
          ],
          [
           "Sports and travel",
           "Naypyitaw"
          ],
          [
           "Food and beverages",
           "Naypyitaw"
          ],
          [
           "Fashion accessories",
           "Naypyitaw"
          ],
          [
           "Sports and travel",
           "Naypyitaw"
          ],
          [
           "Fashion accessories",
           "Naypyitaw"
          ],
          [
           "Electronic accessories",
           "Mandalay"
          ],
          [
           "Home and lifestyle",
           "Naypyitaw"
          ],
          [
           "Sports and travel",
           "Yangon"
          ],
          [
           "Home and lifestyle",
           "Yangon"
          ],
          [
           "Health and beauty",
           "Yangon"
          ],
          [
           "Fashion accessories",
           "Mandalay"
          ],
          [
           "Sports and travel",
           "Naypyitaw"
          ],
          [
           "Sports and travel",
           "Naypyitaw"
          ],
          [
           "Food and beverages",
           "Naypyitaw"
          ],
          [
           "Fashion accessories",
           "Naypyitaw"
          ],
          [
           "Food and beverages",
           "Naypyitaw"
          ],
          [
           "Food and beverages",
           "Yangon"
          ],
          [
           "Food and beverages",
           "Naypyitaw"
          ],
          [
           "Fashion accessories",
           "Yangon"
          ],
          [
           "Home and lifestyle",
           "Naypyitaw"
          ],
          [
           "Sports and travel",
           "Mandalay"
          ],
          [
           "Electronic accessories",
           "Yangon"
          ],
          [
           "Sports and travel",
           "Naypyitaw"
          ],
          [
           "Health and beauty",
           "Mandalay"
          ],
          [
           "Home and lifestyle",
           "Naypyitaw"
          ],
          [
           "Home and lifestyle",
           "Yangon"
          ],
          [
           "Food and beverages",
           "Yangon"
          ],
          [
           "Fashion accessories",
           "Mandalay"
          ],
          [
           "Sports and travel",
           "Yangon"
          ],
          [
           "Electronic accessories",
           "Mandalay"
          ],
          [
           "Home and lifestyle",
           "Yangon"
          ],
          [
           "Electronic accessories",
           "Naypyitaw"
          ],
          [
           "Fashion accessories",
           "Mandalay"
          ],
          [
           "Sports and travel",
           "Mandalay"
          ],
          [
           "Food and beverages",
           "Yangon"
          ],
          [
           "Food and beverages",
           "Mandalay"
          ],
          [
           "Sports and travel",
           "Yangon"
          ],
          [
           "Health and beauty",
           "Mandalay"
          ],
          [
           "Health and beauty",
           "Yangon"
          ],
          [
           "Health and beauty",
           "Mandalay"
          ],
          [
           "Food and beverages",
           "Yangon"
          ],
          [
           "Home and lifestyle",
           "Mandalay"
          ],
          [
           "Food and beverages",
           "Mandalay"
          ],
          [
           "Sports and travel",
           "Naypyitaw"
          ],
          [
           "Sports and travel",
           "Yangon"
          ],
          [
           "Home and lifestyle",
           "Yangon"
          ],
          [
           "Fashion accessories",
           "Mandalay"
          ],
          [
           "Health and beauty",
           "Naypyitaw"
          ],
          [
           "Health and beauty",
           "Naypyitaw"
          ],
          [
           "Food and beverages",
           "Yangon"
          ],
          [
           "Health and beauty",
           "Yangon"
          ],
          [
           "Home and lifestyle",
           "Naypyitaw"
          ],
          [
           "Health and beauty",
           "Mandalay"
          ],
          [
           "Health and beauty",
           "Mandalay"
          ],
          [
           "Fashion accessories",
           "Naypyitaw"
          ],
          [
           "Food and beverages",
           "Yangon"
          ],
          [
           "Fashion accessories",
           "Naypyitaw"
          ],
          [
           "Electronic accessories",
           "Yangon"
          ],
          [
           "Sports and travel",
           "Mandalay"
          ],
          [
           "Fashion accessories",
           "Yangon"
          ],
          [
           "Electronic accessories",
           "Mandalay"
          ],
          [
           "Electronic accessories",
           "Naypyitaw"
          ],
          [
           "Home and lifestyle",
           "Yangon"
          ],
          [
           "Home and lifestyle",
           "Naypyitaw"
          ],
          [
           "Food and beverages",
           "Naypyitaw"
          ],
          [
           "Home and lifestyle",
           "Yangon"
          ],
          [
           "Health and beauty",
           "Naypyitaw"
          ],
          [
           "Home and lifestyle",
           "Mandalay"
          ],
          [
           "Sports and travel",
           "Mandalay"
          ],
          [
           "Health and beauty",
           "Naypyitaw"
          ],
          [
           "Electronic accessories",
           "Yangon"
          ],
          [
           "Sports and travel",
           "Yangon"
          ],
          [
           "Health and beauty",
           "Naypyitaw"
          ],
          [
           "Electronic accessories",
           "Yangon"
          ],
          [
           "Health and beauty",
           "Mandalay"
          ],
          [
           "Home and lifestyle",
           "Naypyitaw"
          ],
          [
           "Food and beverages",
           "Yangon"
          ],
          [
           "Health and beauty",
           "Mandalay"
          ],
          [
           "Fashion accessories",
           "Yangon"
          ],
          [
           "Health and beauty",
           "Mandalay"
          ],
          [
           "Health and beauty",
           "Yangon"
          ],
          [
           "Electronic accessories",
           "Yangon"
          ],
          [
           "Fashion accessories",
           "Yangon"
          ],
          [
           "Sports and travel",
           "Yangon"
          ],
          [
           "Fashion accessories",
           "Naypyitaw"
          ],
          [
           "Sports and travel",
           "Yangon"
          ],
          [
           "Sports and travel",
           "Mandalay"
          ],
          [
           "Electronic accessories",
           "Mandalay"
          ],
          [
           "Electronic accessories",
           "Mandalay"
          ],
          [
           "Food and beverages",
           "Yangon"
          ],
          [
           "Health and beauty",
           "Naypyitaw"
          ],
          [
           "Sports and travel",
           "Naypyitaw"
          ],
          [
           "Home and lifestyle",
           "Mandalay"
          ],
          [
           "Health and beauty",
           "Mandalay"
          ],
          [
           "Fashion accessories",
           "Naypyitaw"
          ],
          [
           "Electronic accessories",
           "Yangon"
          ],
          [
           "Home and lifestyle",
           "Yangon"
          ],
          [
           "Fashion accessories",
           "Naypyitaw"
          ],
          [
           "Food and beverages",
           "Naypyitaw"
          ],
          [
           "Health and beauty",
           "Yangon"
          ],
          [
           "Health and beauty",
           "Mandalay"
          ],
          [
           "Electronic accessories",
           "Yangon"
          ]
         ],
         "hovertemplate": "Gender=Male<br>Rating=%{x}<br>Sales=%{marker.size}<br>Product line=%{customdata[0]}<br>City=%{customdata[1]}<extra></extra>",
         "legendgroup": "Male",
         "marker": {
          "color": "#19D3F3",
          "size": {
           "bdata": "AAAAAACyjUCPwvUoXEh+QOxRuB6Ff3BAYOXQIttigkBcj8L1KD2QQGQ730+N739AMzMzMzNEekBaZDvfT9N0QGQ730+Nx2RA+FPjpZv8c0Ce76fGS0dnQB+F61G4FnFAAAAAAABYZEBg5dAi23lMQC/dJAaBcVNA4XoUrkd3ZUCamZmZmcllQIlBYOXQNXxAMzMzMzP/cECLbOf7qTEzQCUGgZVD54hAuB6F61EAT0C+nxov3XRjQPLSTWIQpIhAEFg5tMhmdEBSuB6F6xd3QFyPwvUo7H5A46WbxCAgYUAfhetRuGpRQPp+arx0Z2RAj8L1KFzjfEDfT42XbqeDQOXQItv5MmJAXrpJDAIjZ0BGtvP91AhYQN9PjZdu8mBAg8DKoUW+eEBxPQrXo+hZQDMzMzMzS1NA2c73U+MxakCLbOf7qZFwQFpkO9/P7oVAkxgEVg51eUAZBFYOLbpmQM/3U+OlWy1AHVpkO9+ncUCiRbbz/bx6QG8Sg8DKbHhAmG4Sg8DxhUAGgZVDi06NQDeJQWDlxHVApHA9CtfjVkBKDAIrh9YqQHsUrkfhJnJAw/UoXI/YcEB3vp8aL1GBQClcj8L1gGNASOF6FK43YkCkcD0K1zdXQN0kBoGVY2lAi2zn+6nSekAK16NwPQByQOxRuB6F2WlAwcqhRbY7UkB3vp8aLxaAQOf7qfHSlWRAyXa+n5r3jEAzMzMzMx9uQAwCK4cWKVhAqMZLN4l9YUCamZmZmQ1qQMP1KFyPgHFA/tR46SadUkD4U+OlmwBjQD0K16NwMHxAUI2XbhI/YkDn+6nx0iVrQIGVQ4tsV0dA9ihcj8KNZEAzMzMzM6tgQCPb+X5qZF5A0SLb+X4+VUCwcmiR7fRfQFg5tMh23mZA1XjpJjGYb0Dwp8ZLN6lxQM3MzMzMV4NAzczMzMwYc0CkcD0K1+l/QAAAAAAA/o9AeekmMYjDh0B/arx0E3yAQC2yne+nZmBA0SLb+X6+f0BxPQrXo+iJQJHtfD81zkJAXI/C9SjihkCPwvUoXK80QDm0yHa+bYFApHA9CtdHg0BMN4lBYL+LQNv5fmq8i3lAf2q8dJNEVkCoxks3iclTQOf7qfFSqIJA7FG4HoULeEBCYOXQIoNYQKRwPQrX42ZA/Knx0k0hgUCJQWDl0A97QMP1KFyP/nFAexSuR+FEhUCJQWDl0FpYQClcj8L1cXxAtvP91HjJcUDLoUW28z15QBsv3SQGQWBAYhBYObRscECPwvUoXPdXQFCNl24SO1NA7FG4HoVzU0CcxCCwcvRwQJqZmZmZqU1AtMh2vp+IgUC4HoXrUf50QKRwPQrXn2JAj8L1KFzdc0DByqFFti9VQArXo3A9w4tA16NwPQp/RkAZBFYOLShrQGDl0CLbbV9AkxgEVg4lWECsHFpkO+9FQCuHFtnO5W9ADi2yne+bZkA3iUFg5UhvQI/C9Shch25Avp8aL93Ig0CsHFpkO3deQA==",
           "dtype": "f8"
          },
          "sizemode": "area",
          "sizeref": 2.598225,
          "symbol": "circle"
         },
         "mode": "markers",
         "name": "Male",
         "orientation": "v",
         "showlegend": true,
         "type": "scatter",
         "x": {
          "bdata": "MzMzMzMzIEAAAAAAAAAiQGZmZmZmZiNAAAAAAAAAJEBmZmZmZmYhQAAAAAAAACFAzczMzMzMIkCamZmZmZkjQGZmZmZmZiFAmpmZmZmZIUAzMzMzMzMjQM3MzMzMzCNAAAAAAAAAIEAAAAAAAAAgQM3MzMzMzCNAzczMzMzMI0BmZmZmZmYgQJqZmZmZmSNAZmZmZmZmIUCamZmZmZkgQGZmZmZmZiFAzczMzMzMIkBmZmZmZmYjQJqZmZmZmSBAmpmZmZmZIUDNzMzMzMwgQM3MzMzMzCFAAAAAAAAAIkBmZmZmZmYjQGZmZmZmZiFAMzMzMzMzI0AAAAAAAAAhQGZmZmZmZiNAzczMzMzMIECamZmZmZkjQM3MzMzMzCJAMzMzMzMzIUAzMzMzMzMiQAAAAAAAACFAAAAAAAAAIEDNzMzMzMwhQGZmZmZmZiFAzczMzMzMIkAAAAAAAAAgQJqZmZmZmSNAAAAAAAAAIEBmZmZmZmYiQM3MzMzMzCFAMzMzMzMzI0AAAAAAAAAiQDMzMzMzMyNAMzMzMzMzIEAAAAAAAAAjQM3MzMzMzCFAMzMzMzMzIkDNzMzMzMwgQJqZmZmZmSBAAAAAAAAAIkAAAAAAAAAjQJqZmZmZmSNAZmZmZmZmIECamZmZmZkjQGZmZmZmZiFAZmZmZmZmI0AAAAAAAAAgQAAAAAAAACJAmpmZmZmZIkBmZmZmZmYgQDMzMzMzMyJAMzMzMzMzIUAAAAAAAAAiQDMzMzMzMyFAmpmZmZmZIEAzMzMzMzMgQDMzMzMzMyFAMzMzMzMzIECamZmZmZkjQGZmZmZmZiFAAAAAAAAAI0AzMzMzMzMhQM3MzMzMzCFAAAAAAAAAIkBmZmZmZmYhQGZmZmZmZiFAzczMzMzMIkCamZmZmZkiQDMzMzMzMyBAzczMzMzMIkCamZmZmZkhQAAAAAAAACBAZmZmZmZmIkDNzMzMzMwhQDMzMzMzMyJAMzMzMzMzIkAAAAAAAAAhQDMzMzMzMyBAzczMzMzMIUAAAAAAAAAjQM3MzMzMzCFAAAAAAAAAIkCamZmZmZkjQAAAAAAAACFAmpmZmZmZIUAAAAAAAAAjQAAAAAAAACJAzczMzMzMIEAzMzMzMzMjQJqZmZmZmSBAAAAAAAAAIkBmZmZmZmYjQGZmZmZmZiJAmpmZmZmZIkCamZmZmZkjQM3MzMzMzCJAMzMzMzMzI0DNzMzMzMwgQAAAAAAAACFAAAAAAAAAI0BmZmZmZmYiQGZmZmZmZiNAZmZmZmZmIkCamZmZmZkiQDMzMzMzMyNAzczMzMzMI0DNzMzMzMwjQM3MzMzMzCJAzczMzMzMIUAzMzMzMzMgQJqZmZmZmSFAmpmZmZmZIkBmZmZmZmYhQJqZmZmZmSJAmpmZmZmZI0CamZmZmZkjQJqZmZmZmSJAZmZmZmZmIECamZmZmZkjQM3MzMzMzCBAzczMzMzMIECamZmZmZkhQA==",
          "dtype": "f8"
         },
         "xaxis": "x",
         "y": {
          "bdata": "AAAAAACyjUCPwvUoXEh+QOxRuB6Ff3BAYOXQIttigkBcj8L1KD2QQGQ730+N739AMzMzMzNEekBaZDvfT9N0QGQ730+Nx2RA+FPjpZv8c0Ce76fGS0dnQB+F61G4FnFAAAAAAABYZEBg5dAi23lMQC/dJAaBcVNA4XoUrkd3ZUCamZmZmcllQIlBYOXQNXxAMzMzMzP/cECLbOf7qTEzQCUGgZVD54hAuB6F61EAT0C+nxov3XRjQPLSTWIQpIhAEFg5tMhmdEBSuB6F6xd3QFyPwvUo7H5A46WbxCAgYUAfhetRuGpRQPp+arx0Z2RAj8L1KFzjfEDfT42XbqeDQOXQItv5MmJAXrpJDAIjZ0BGtvP91AhYQN9PjZdu8mBAg8DKoUW+eEBxPQrXo+hZQDMzMzMzS1NA2c73U+MxakCLbOf7qZFwQFpkO9/P7oVAkxgEVg51eUAZBFYOLbpmQM/3U+OlWy1AHVpkO9+ncUCiRbbz/bx6QG8Sg8DKbHhAmG4Sg8DxhUAGgZVDi06NQDeJQWDlxHVApHA9CtfjVkBKDAIrh9YqQHsUrkfhJnJAw/UoXI/YcEB3vp8aL1GBQClcj8L1gGNASOF6FK43YkCkcD0K1zdXQN0kBoGVY2lAi2zn+6nSekAK16NwPQByQOxRuB6F2WlAwcqhRbY7UkB3vp8aLxaAQOf7qfHSlWRAyXa+n5r3jEAzMzMzMx9uQAwCK4cWKVhAqMZLN4l9YUCamZmZmQ1qQMP1KFyPgHFA/tR46SadUkD4U+OlmwBjQD0K16NwMHxAUI2XbhI/YkDn+6nx0iVrQIGVQ4tsV0dA9ihcj8KNZEAzMzMzM6tgQCPb+X5qZF5A0SLb+X4+VUCwcmiR7fRfQFg5tMh23mZA1XjpJjGYb0Dwp8ZLN6lxQM3MzMzMV4NAzczMzMwYc0CkcD0K1+l/QAAAAAAA/o9AeekmMYjDh0B/arx0E3yAQC2yne+nZmBA0SLb+X6+f0BxPQrXo+iJQJHtfD81zkJAXI/C9SjihkCPwvUoXK80QDm0yHa+bYFApHA9CtdHg0BMN4lBYL+LQNv5fmq8i3lAf2q8dJNEVkCoxks3iclTQOf7qfFSqIJA7FG4HoULeEBCYOXQIoNYQKRwPQrX42ZA/Knx0k0hgUCJQWDl0A97QMP1KFyP/nFAexSuR+FEhUCJQWDl0FpYQClcj8L1cXxAtvP91HjJcUDLoUW28z15QBsv3SQGQWBAYhBYObRscECPwvUoXPdXQFCNl24SO1NA7FG4HoVzU0CcxCCwcvRwQJqZmZmZqU1AtMh2vp+IgUC4HoXrUf50QKRwPQrXn2JAj8L1KFzdc0DByqFFti9VQArXo3A9w4tA16NwPQp/RkAZBFYOLShrQGDl0CLbbV9AkxgEVg4lWECsHFpkO+9FQCuHFtnO5W9ADi2yne+bZkA3iUFg5UhvQI/C9Shch25Avp8aL93Ig0CsHFpkO3deQA==",
          "dtype": "f8"
         },
         "yaxis": "y"
        }
       ],
       "layout": {
        "legend": {
         "itemsizing": "constant",
         "title": {
          "text": "Gender"
         },
         "tracegroupgap": 0
        },
        "template": {
         "data": {
          "bar": [
           {
            "error_x": {
             "color": "#2a3f5f"
            },
            "error_y": {
             "color": "#2a3f5f"
            },
            "marker": {
             "line": {
              "color": "white",
              "width": 0.5
             },
             "pattern": {
              "fillmode": "overlay",
              "size": 10,
              "solidity": 0.2
             }
            },
            "type": "bar"
           }
          ],
          "barpolar": [
           {
            "marker": {
             "line": {
              "color": "white",
              "width": 0.5
             },
             "pattern": {
              "fillmode": "overlay",
              "size": 10,
              "solidity": 0.2
             }
            },
            "type": "barpolar"
           }
          ],
          "carpet": [
           {
            "aaxis": {
             "endlinecolor": "#2a3f5f",
             "gridcolor": "#C8D4E3",
             "linecolor": "#C8D4E3",
             "minorgridcolor": "#C8D4E3",
             "startlinecolor": "#2a3f5f"
            },
            "baxis": {
             "endlinecolor": "#2a3f5f",
             "gridcolor": "#C8D4E3",
             "linecolor": "#C8D4E3",
             "minorgridcolor": "#C8D4E3",
             "startlinecolor": "#2a3f5f"
            },
            "type": "carpet"
           }
          ],
          "choropleth": [
           {
            "colorbar": {
             "outlinewidth": 0,
             "ticks": ""
            },
            "type": "choropleth"
           }
          ],
          "contour": [
           {
            "colorbar": {
             "outlinewidth": 0,
             "ticks": ""
            },
            "colorscale": [
             [
              0,
              "#0d0887"
             ],
             [
              0.1111111111111111,
              "#46039f"
             ],
             [
              0.2222222222222222,
              "#7201a8"
             ],
             [
              0.3333333333333333,
              "#9c179e"
             ],
             [
              0.4444444444444444,
              "#bd3786"
             ],
             [
              0.5555555555555556,
              "#d8576b"
             ],
             [
              0.6666666666666666,
              "#ed7953"
             ],
             [
              0.7777777777777778,
              "#fb9f3a"
             ],
             [
              0.8888888888888888,
              "#fdca26"
             ],
             [
              1,
              "#f0f921"
             ]
            ],
            "type": "contour"
           }
          ],
          "contourcarpet": [
           {
            "colorbar": {
             "outlinewidth": 0,
             "ticks": ""
            },
            "type": "contourcarpet"
           }
          ],
          "heatmap": [
           {
            "colorbar": {
             "outlinewidth": 0,
             "ticks": ""
            },
            "colorscale": [
             [
              0,
              "#0d0887"
             ],
             [
              0.1111111111111111,
              "#46039f"
             ],
             [
              0.2222222222222222,
              "#7201a8"
             ],
             [
              0.3333333333333333,
              "#9c179e"
             ],
             [
              0.4444444444444444,
              "#bd3786"
             ],
             [
              0.5555555555555556,
              "#d8576b"
             ],
             [
              0.6666666666666666,
              "#ed7953"
             ],
             [
              0.7777777777777778,
              "#fb9f3a"
             ],
             [
              0.8888888888888888,
              "#fdca26"
             ],
             [
              1,
              "#f0f921"
             ]
            ],
            "type": "heatmap"
           }
          ],
          "histogram": [
           {
            "marker": {
             "pattern": {
              "fillmode": "overlay",
              "size": 10,
              "solidity": 0.2
             }
            },
            "type": "histogram"
           }
          ],
          "histogram2d": [
           {
            "colorbar": {
             "outlinewidth": 0,
             "ticks": ""
            },
            "colorscale": [
             [
              0,
              "#0d0887"
             ],
             [
              0.1111111111111111,
              "#46039f"
             ],
             [
              0.2222222222222222,
              "#7201a8"
             ],
             [
              0.3333333333333333,
              "#9c179e"
             ],
             [
              0.4444444444444444,
              "#bd3786"
             ],
             [
              0.5555555555555556,
              "#d8576b"
             ],
             [
              0.6666666666666666,
              "#ed7953"
             ],
             [
              0.7777777777777778,
              "#fb9f3a"
             ],
             [
              0.8888888888888888,
              "#fdca26"
             ],
             [
              1,
              "#f0f921"
             ]
            ],
            "type": "histogram2d"
           }
          ],
          "histogram2dcontour": [
           {
            "colorbar": {
             "outlinewidth": 0,
             "ticks": ""
            },
            "colorscale": [
             [
              0,
              "#0d0887"
             ],
             [
              0.1111111111111111,
              "#46039f"
             ],
             [
              0.2222222222222222,
              "#7201a8"
             ],
             [
              0.3333333333333333,
              "#9c179e"
             ],
             [
              0.4444444444444444,
              "#bd3786"
             ],
             [
              0.5555555555555556,
              "#d8576b"
             ],
             [
              0.6666666666666666,
              "#ed7953"
             ],
             [
              0.7777777777777778,
              "#fb9f3a"
             ],
             [
              0.8888888888888888,
              "#fdca26"
             ],
             [
              1,
              "#f0f921"
             ]
            ],
            "type": "histogram2dcontour"
           }
          ],
          "mesh3d": [
           {
            "colorbar": {
             "outlinewidth": 0,
             "ticks": ""
            },
            "type": "mesh3d"
           }
          ],
          "parcoords": [
           {
            "line": {
             "colorbar": {
              "outlinewidth": 0,
              "ticks": ""
             }
            },
            "type": "parcoords"
           }
          ],
          "pie": [
           {
            "automargin": true,
            "type": "pie"
           }
          ],
          "scatter": [
           {
            "fillpattern": {
             "fillmode": "overlay",
             "size": 10,
             "solidity": 0.2
            },
            "type": "scatter"
           }
          ],
          "scatter3d": [
           {
            "line": {
             "colorbar": {
              "outlinewidth": 0,
              "ticks": ""
             }
            },
            "marker": {
             "colorbar": {
              "outlinewidth": 0,
              "ticks": ""
             }
            },
            "type": "scatter3d"
           }
          ],
          "scattercarpet": [
           {
            "marker": {
             "colorbar": {
              "outlinewidth": 0,
              "ticks": ""
             }
            },
            "type": "scattercarpet"
           }
          ],
          "scattergeo": [
           {
            "marker": {
             "colorbar": {
              "outlinewidth": 0,
              "ticks": ""
             }
            },
            "type": "scattergeo"
           }
          ],
          "scattergl": [
           {
            "marker": {
             "colorbar": {
              "outlinewidth": 0,
              "ticks": ""
             }
            },
            "type": "scattergl"
           }
          ],
          "scattermap": [
           {
            "marker": {
             "colorbar": {
              "outlinewidth": 0,
              "ticks": ""
             }
            },
            "type": "scattermap"
           }
          ],
          "scattermapbox": [
           {
            "marker": {
             "colorbar": {
              "outlinewidth": 0,
              "ticks": ""
             }
            },
            "type": "scattermapbox"
           }
          ],
          "scatterpolar": [
           {
            "marker": {
             "colorbar": {
              "outlinewidth": 0,
              "ticks": ""
             }
            },
            "type": "scatterpolar"
           }
          ],
          "scatterpolargl": [
           {
            "marker": {
             "colorbar": {
              "outlinewidth": 0,
              "ticks": ""
             }
            },
            "type": "scatterpolargl"
           }
          ],
          "scatterternary": [
           {
            "marker": {
             "colorbar": {
              "outlinewidth": 0,
              "ticks": ""
             }
            },
            "type": "scatterternary"
           }
          ],
          "surface": [
           {
            "colorbar": {
             "outlinewidth": 0,
             "ticks": ""
            },
            "colorscale": [
             [
              0,
              "#0d0887"
             ],
             [
              0.1111111111111111,
              "#46039f"
             ],
             [
              0.2222222222222222,
              "#7201a8"
             ],
             [
              0.3333333333333333,
              "#9c179e"
             ],
             [
              0.4444444444444444,
              "#bd3786"
             ],
             [
              0.5555555555555556,
              "#d8576b"
             ],
             [
              0.6666666666666666,
              "#ed7953"
             ],
             [
              0.7777777777777778,
              "#fb9f3a"
             ],
             [
              0.8888888888888888,
              "#fdca26"
             ],
             [
              1,
              "#f0f921"
             ]
            ],
            "type": "surface"
           }
          ],
          "table": [
           {
            "cells": {
             "fill": {
              "color": "#EBF0F8"
             },
             "line": {
              "color": "white"
             }
            },
            "header": {
             "fill": {
              "color": "#C8D4E3"
             },
             "line": {
              "color": "white"
             }
            },
            "type": "table"
           }
          ]
         },
         "layout": {
          "annotationdefaults": {
           "arrowcolor": "#2a3f5f",
           "arrowhead": 0,
           "arrowwidth": 1
          },
          "autotypenumbers": "strict",
          "coloraxis": {
           "colorbar": {
            "outlinewidth": 0,
            "ticks": ""
           }
          },
          "colorscale": {
           "diverging": [
            [
             0,
             "#8e0152"
            ],
            [
             0.1,
             "#c51b7d"
            ],
            [
             0.2,
             "#de77ae"
            ],
            [
             0.3,
             "#f1b6da"
            ],
            [
             0.4,
             "#fde0ef"
            ],
            [
             0.5,
             "#f7f7f7"
            ],
            [
             0.6,
             "#e6f5d0"
            ],
            [
             0.7,
             "#b8e186"
            ],
            [
             0.8,
             "#7fbc41"
            ],
            [
             0.9,
             "#4d9221"
            ],
            [
             1,
             "#276419"
            ]
           ],
           "sequential": [
            [
             0,
             "#0d0887"
            ],
            [
             0.1111111111111111,
             "#46039f"
            ],
            [
             0.2222222222222222,
             "#7201a8"
            ],
            [
             0.3333333333333333,
             "#9c179e"
            ],
            [
             0.4444444444444444,
             "#bd3786"
            ],
            [
             0.5555555555555556,
             "#d8576b"
            ],
            [
             0.6666666666666666,
             "#ed7953"
            ],
            [
             0.7777777777777778,
             "#fb9f3a"
            ],
            [
             0.8888888888888888,
             "#fdca26"
            ],
            [
             1,
             "#f0f921"
            ]
           ],
           "sequentialminus": [
            [
             0,
             "#0d0887"
            ],
            [
             0.1111111111111111,
             "#46039f"
            ],
            [
             0.2222222222222222,
             "#7201a8"
            ],
            [
             0.3333333333333333,
             "#9c179e"
            ],
            [
             0.4444444444444444,
             "#bd3786"
            ],
            [
             0.5555555555555556,
             "#d8576b"
            ],
            [
             0.6666666666666666,
             "#ed7953"
            ],
            [
             0.7777777777777778,
             "#fb9f3a"
            ],
            [
             0.8888888888888888,
             "#fdca26"
            ],
            [
             1,
             "#f0f921"
            ]
           ]
          },
          "colorway": [
           "#636efa",
           "#EF553B",
           "#00cc96",
           "#ab63fa",
           "#FFA15A",
           "#19d3f3",
           "#FF6692",
           "#B6E880",
           "#FF97FF",
           "#FECB52"
          ],
          "font": {
           "color": "#2a3f5f"
          },
          "geo": {
           "bgcolor": "white",
           "lakecolor": "white",
           "landcolor": "white",
           "showlakes": true,
           "showland": true,
           "subunitcolor": "#C8D4E3"
          },
          "hoverlabel": {
           "align": "left"
          },
          "hovermode": "closest",
          "mapbox": {
           "style": "light"
          },
          "paper_bgcolor": "white",
          "plot_bgcolor": "white",
          "polar": {
           "angularaxis": {
            "gridcolor": "#EBF0F8",
            "linecolor": "#EBF0F8",
            "ticks": ""
           },
           "bgcolor": "white",
           "radialaxis": {
            "gridcolor": "#EBF0F8",
            "linecolor": "#EBF0F8",
            "ticks": ""
           }
          },
          "scene": {
           "xaxis": {
            "backgroundcolor": "white",
            "gridcolor": "#DFE8F3",
            "gridwidth": 2,
            "linecolor": "#EBF0F8",
            "showbackground": true,
            "ticks": "",
            "zerolinecolor": "#EBF0F8"
           },
           "yaxis": {
            "backgroundcolor": "white",
            "gridcolor": "#DFE8F3",
            "gridwidth": 2,
            "linecolor": "#EBF0F8",
            "showbackground": true,
            "ticks": "",
            "zerolinecolor": "#EBF0F8"
           },
           "zaxis": {
            "backgroundcolor": "white",
            "gridcolor": "#DFE8F3",
            "gridwidth": 2,
            "linecolor": "#EBF0F8",
            "showbackground": true,
            "ticks": "",
            "zerolinecolor": "#EBF0F8"
           }
          },
          "shapedefaults": {
           "line": {
            "color": "#2a3f5f"
           }
          },
          "ternary": {
           "aaxis": {
            "gridcolor": "#DFE8F3",
            "linecolor": "#A2B1C6",
            "ticks": ""
           },
           "baxis": {
            "gridcolor": "#DFE8F3",
            "linecolor": "#A2B1C6",
            "ticks": ""
           },
           "bgcolor": "white",
           "caxis": {
            "gridcolor": "#DFE8F3",
            "linecolor": "#A2B1C6",
            "ticks": ""
           }
          },
          "title": {
           "x": 0.05
          },
          "xaxis": {
           "automargin": true,
           "gridcolor": "#EBF0F8",
           "linecolor": "#EBF0F8",
           "ticks": "",
           "title": {
            "standoff": 15
           },
           "zerolinecolor": "#EBF0F8",
           "zerolinewidth": 2
          },
          "yaxis": {
           "automargin": true,
           "gridcolor": "#EBF0F8",
           "linecolor": "#EBF0F8",
           "ticks": "",
           "title": {
            "standoff": 15
           },
           "zerolinecolor": "#EBF0F8",
           "zerolinewidth": 2
          }
         }
        },
        "title": {
         "text": "Ventas vs Rating (clientes con Rating ≥ 8)"
        },
        "xaxis": {
         "anchor": "y",
         "domain": [
          0,
          1
         ],
         "title": {
          "text": "Rating"
         }
        },
        "yaxis": {
         "anchor": "x",
         "domain": [
          0,
          1
         ],
         "title": {
          "text": "Sales"
         }
        }
       }
      }
     },
     "metadata": {},
     "output_type": "display_data"
    }
   ],
   "source": [
    "fig = px.scatter(\n",
    "    ventas_rating_alto,\n",
    "    x=\"Rating\",\n",
    "    y=\"Sales\",\n",
    "    color=\"Gender\",\n",
    "    size=\"Sales\",\n",
    "    hover_data=[\"Product line\", \"City\"],\n",
    "    title=\"Ventas vs Rating (clientes con Rating ≥ 8)\",\n",
    "    color_discrete_sequence=[\"#FFA15A\", \"#19D3F3\"]\n",
    ")\n",
    "fig.update_layout(template=\"plotly_white\")\n",
    "fig.show()\n"
   ]
  },
  {
   "cell_type": "code",
   "execution_count": 29,
   "id": "aaa0ed2e",
   "metadata": {},
   "outputs": [
    {
     "name": "stdout",
     "output_type": "stream",
     "text": [
      "Cantidad de registros por género (Rating >= 8):\n",
      "Gender\n",
      "Female    189\n",
      "Male      140\n",
      "Name: count, dtype: int64\n",
      "\n",
      "Promedio de Rating por género (Rating >= 8):\n",
      "Gender\n",
      "Female    8.954497\n",
      "Male      8.995714\n",
      "Name: Rating, dtype: float64\n"
     ]
    }
   ],
   "source": [
    "ventas_rating_alto = super_data[super_data[\"Rating\"] >= 8]\n",
    "\n",
    "# Contar registros\n",
    "conteo = ventas_rating_alto[\"Gender\"].value_counts()\n",
    "print(\"Cantidad de registros por género (Rating >= 8):\")\n",
    "print(conteo)\n",
    "\n",
    "# Promedio por género\n",
    "promedios = ventas_rating_alto.groupby(\"Gender\")[\"Rating\"].mean()\n",
    "print(\"\\nPromedio de Rating por género (Rating >= 8):\")\n",
    "print(promedios)\n"
   ]
  }
 ],
 "metadata": {
  "kernelspec": {
   "display_name": "Python 3",
   "language": "python",
   "name": "python3"
  },
  "language_info": {
   "codemirror_mode": {
    "name": "ipython",
    "version": 3
   },
   "file_extension": ".py",
   "mimetype": "text/x-python",
   "name": "python",
   "nbconvert_exporter": "python",
   "pygments_lexer": "ipython3",
   "version": "3.13.1"
  }
 },
 "nbformat": 4,
 "nbformat_minor": 5
}
