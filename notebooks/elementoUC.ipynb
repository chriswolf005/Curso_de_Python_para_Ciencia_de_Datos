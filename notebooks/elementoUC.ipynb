{
 "cells": [
  {
   "cell_type": "markdown",
   "metadata": {},
   "source": [
    "## ¿Cómo identificar y contar elementos únicos con NumPy?\n",
    "\n",
    "Analizar opiniones de clientes sobre productos es vital para cualquier empresa. Al recolectar respuestas como \"bueno\", \"excelente\" o \"malo\", es crucial cuantificar cuántas veces cada término aparece. Aquí es donde entra en juego la eficiencia de NumPy para identificar elementos únicos y contar sus frecuencias, ofreciendo insights valiosos para guiar decisiones estratégicas.\n",
    "\n",
    "Para empezar, digamos que ya tenemos las respuestas de los clientes en una variable. Lo que queremos es determinar cuáles son las respuestas únicas presentes. Aquí es donde utilizamos **numpy.unique.**"
   ]
  },
  {
   "cell_type": "code",
   "execution_count": 2,
   "metadata": {},
   "outputs": [],
   "source": [
    "import numpy as np"
   ]
  },
  {
   "cell_type": "code",
   "execution_count": 3,
   "metadata": {},
   "outputs": [
    {
     "name": "stdout",
     "output_type": "stream",
     "text": [
      "['bueno' 'excelente' 'malo']\n"
     ]
    }
   ],
   "source": [
    "# Supongamos que tenemos la variable 'respuestas' con las opiniones de los clientes\n",
    "respuestas = np.array(['bueno', 'excelente', 'malo', 'bueno', 'excelente', 'bueno', 'malo', 'excelente'])\n",
    "\n",
    "# Utilizamos el método unique para encontrar los elementos únicos\n",
    "elementos_unicos = np.unique(respuestas)\n",
    "print(elementos_unicos)"
   ]
  },
  {
   "cell_type": "markdown",
   "metadata": {},
   "source": [
    "Esto devolverá las respuestas únicas: \"bueno\", \"excelente\" y \"malo\".\n",
    "\n",
    "## ¿Cómo contar la frecuencia de cada elemento?\n",
    "Además de identificar los elementos únicos, saber cuántas veces aparecen también es fundamental para un análisis más profundo. Afortunadamente, numpy.unique también puede ayudarnos con esto."
   ]
  },
  {
   "cell_type": "code",
   "execution_count": 4,
   "metadata": {},
   "outputs": [
    {
     "name": "stdout",
     "output_type": "stream",
     "text": [
      "['bueno' 'excelente' 'malo']\n",
      "[3 3 2]\n"
     ]
    }
   ],
   "source": [
    "# Contar las frecuencias de los elementos únicos\n",
    "elementos_unicos, conteos = np.unique(respuestas, return_counts=True)\n",
    "print(elementos_unicos)\n",
    "print(conteos)"
   ]
  },
  {
   "cell_type": "markdown",
   "metadata": {},
   "source": [
    "Esto mostrará tanto los elementos únicos como el número de veces que aparecen: cuatro \"bueno\", tres \"excelente\" y dos \"malo\".\n",
    "\n",
    "## ¿Qué diferencias existen entre copias y vistas al operar con arrays en NumPy?\n",
    "Al trabajar con NumPy, es posible acceder al buffer de datos internos de un array mediante una vista, sin copiar datos. Esto optimiza el rendimiento, pero puede generar problemas. Entender las diferencias entre una vista y una copia es esencial para realizar operaciones sin errores.\n",
    "\n",
    "## ¿Cómo usar vistas para manipular arrays?\n",
    "Veamos cómo una vista afecta tanto a la variable original como a ella misma:"
   ]
  },
  {
   "cell_type": "code",
   "execution_count": 5,
   "metadata": {},
   "outputs": [
    {
     "name": "stdout",
     "output_type": "stream",
     "text": [
      "[0 1 2 3 4 5 6 7 8 9]\n",
      "[1 2]\n",
      "[ 0 10 11  3  4  5  6  7  8  9]\n",
      "[10 11]\n"
     ]
    }
   ],
   "source": [
    "x = np.arange(10)\n",
    "vista = x[1:3]\n",
    "\n",
    "print(x)\n",
    "print(vista)\n",
    "\n",
    "# Modificar la vista\n",
    "x[1:3] = [10, 11]\n",
    "print(x)\n",
    "print(vista)"
   ]
  },
  {
   "cell_type": "markdown",
   "metadata": {},
   "source": [
    "La vista refleja los cambios realizados en x, ya que es una porción del array original, mostrando la gran interdependencia entre ambos.\n",
    "\n",
    "## ¿Cómo evitar modificaciones no deseadas usando copias?\n",
    "Para situaciones donde solo se requiere acceder a la información sin modificar el array original, crear una copia es la solución."
   ]
  },
  {
   "cell_type": "code",
   "execution_count": 6,
   "metadata": {},
   "outputs": [
    {
     "name": "stdout",
     "output_type": "stream",
     "text": [
      "[ 0 12 13  3  4  5  6  7  8  9]\n",
      "[10 11]\n"
     ]
    }
   ],
   "source": [
    "# Crear una copia de la porción del array\n",
    "copia = x[1:3].copy()\n",
    "\n",
    "# Hacer cambios en el array original\n",
    "x[1:3] = [12, 13]\n",
    "print(x)\n",
    "print(copia)"
   ]
  },
  {
   "cell_type": "markdown",
   "metadata": {},
   "source": [
    "Aquí, modificar **x** no afecta a **copia**, ya que es independiente del array original. Esto resalta la importancia de distinguir entre vistas y copias en NumPy.\n",
    "\n",
    "### Prácticas recomendadas y reflexiones finales\n",
    "NumPy ofrece herramientas potentes para el análisis de datos, desde la identificación de elementos únicos hasta el manejo de vistas y copias. Aprovechar estas funcionalidades asegura un análisis eficiente y preciso. Al crear copias de datos y usar vistas adecuadamente, maximizamos tanto el rendimiento como la seguridad de nuestras operaciones. Siempre cuestionémonos: ¿cómo podemos asegurarnos de que estamos trabajando con una copia o una vista? Esta reflexión nos permitirá mejorar continuamente en el uso de NumPy. ¡Anímate a dejar tus experiencias y preguntas en los comentarios!"
   ]
  }
 ],
 "metadata": {
  "kernelspec": {
   "display_name": "Python 3",
   "language": "python",
   "name": "python3"
  },
  "language_info": {
   "codemirror_mode": {
    "name": "ipython",
    "version": 3
   },
   "file_extension": ".py",
   "mimetype": "text/x-python",
   "name": "python",
   "nbconvert_exporter": "python",
   "pygments_lexer": "ipython3",
   "version": "3.13.1"
  }
 },
 "nbformat": 4,
 "nbformat_minor": 2
}
