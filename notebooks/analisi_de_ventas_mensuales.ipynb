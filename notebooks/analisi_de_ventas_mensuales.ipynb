{
 "cells": [
  {
   "cell_type": "code",
   "execution_count": 1,
   "id": "7d263505",
   "metadata": {},
   "outputs": [],
   "source": [
    "#Importar Numpy\n",
    "import numpy as np\n"
   ]
  },
  {
   "cell_type": "code",
   "execution_count": 2,
   "id": "0cdd402e",
   "metadata": {},
   "outputs": [],
   "source": [
    "meses = np.array(['Enero', 'Febrero', 'Marzo', 'Abril', 'Mayo', 'Junio',\n",
    "                  'Julio', 'Agosto', 'Septiembre', 'Octubre', 'Noviembre', 'Diciembre'])\n",
    "ventas_A = np.array([150, 200, 250, 300, 220, 210, 180, 190, 230, 240, 280, 300])\n",
    "ventas_B = np.array([180, 210, 230, 250, 270, 260, 240, 250, 270, 290, 310, 330])\n",
    "ventas_C = np.array([200, 220, 240, 260, 280, 300, 320, 340, 360, 380, 400, 420])\n"
   ]
  },
  {
   "cell_type": "code",
   "execution_count": 3,
   "id": "d32f4611",
   "metadata": {},
   "outputs": [
    {
     "name": "stdout",
     "output_type": "stream",
     "text": [
      "Media de ventas Producto A: 229.16666666666666\n",
      "Suma de ventas Producto A: 2750\n",
      "\n",
      "Media de ventas Producto B: 257.5\n",
      "Suma de ventas Producto B: 3090\n",
      "\n",
      "Media de ventas Producto C: 310.0\n",
      "Suma de ventas Producto C: 3720\n"
     ]
    }
   ],
   "source": [
    "# Producto A\n",
    "media_A = np.mean(ventas_A)\n",
    "suma_A = np.sum(ventas_A)\n",
    "\n",
    "# Producto B\n",
    "media_B = np.mean(ventas_B)\n",
    "suma_B = np.sum(ventas_B)\n",
    "\n",
    "# Producto C\n",
    "media_C = np.mean(ventas_C)\n",
    "suma_C = np.sum(ventas_C)\n",
    "\n",
    "# Imprimir\n",
    "print(f\"Media de ventas Producto A: {media_A}\")\n",
    "print(f\"Suma de ventas Producto A: {suma_A}\\n\")\n",
    "\n",
    "print(f\"Media de ventas Producto B: {media_B}\")\n",
    "print(f\"Suma de ventas Producto B: {suma_B}\\n\")\n",
    "\n",
    "print(f\"Media de ventas Producto C: {media_C}\")\n",
    "print(f\"Suma de ventas Producto C: {suma_C}\")\n"
   ]
  },
  {
   "cell_type": "code",
   "execution_count": 6,
   "id": "6fd4a43d",
   "metadata": {},
   "outputs": [
    {
     "name": "stdout",
     "output_type": "stream",
     "text": [
      "Total de ventas por mes:\n",
      "[ 530  630  720  810  770  770  740  780  860  910  990 1050]\n"
     ]
    }
   ],
   "source": [
    "total_ventas_mes = ventas_A + ventas_B + ventas_C\n",
    "print(f\"Total de ventas por mes:\\n{total_ventas_mes}\")\n"
   ]
  },
  {
   "cell_type": "code",
   "execution_count": 7,
   "id": "eb1f8351",
   "metadata": {},
   "outputs": [
    {
     "name": "stdout",
     "output_type": "stream",
     "text": [
      "Mes con mayores ventas: Diciembre\n",
      "Mes con menores ventas: Enero\n"
     ]
    }
   ],
   "source": [
    "mes_max = meses[np.argmax(total_ventas_mes)]\n",
    "mes_min = meses[np.argmin(total_ventas_mes)]\n",
    "\n",
    "print(f\"Mes con mayores ventas: {mes_max}\")\n",
    "print(f\"Mes con menores ventas: {mes_min}\")\n"
   ]
  },
  {
   "cell_type": "code",
   "execution_count": 8,
   "id": "85eb5f00",
   "metadata": {},
   "outputs": [
    {
     "name": "stdout",
     "output_type": "stream",
     "text": [
      "Matriz de ventas 2D:\n",
      "[[150 200 250 300 220 210 180 190 230 240 280 300]\n",
      " [180 210 230 250 270 260 240 250 270 290 310 330]\n",
      " [200 220 240 260 280 300 320 340 360 380 400 420]]\n"
     ]
    }
   ],
   "source": [
    "ventas = np.array([ventas_A, ventas_B, ventas_C])\n",
    "print(\"Matriz de ventas 2D:\")\n",
    "print(ventas)\n"
   ]
  },
  {
   "cell_type": "code",
   "execution_count": 9,
   "id": "9ee11e4c",
   "metadata": {},
   "outputs": [
    {
     "name": "stdout",
     "output_type": "stream",
     "text": [
      "\n",
      "Matriz reshaped (3, 4, 3):\n",
      "[[[150 200 250]\n",
      "  [300 220 210]\n",
      "  [180 190 230]\n",
      "  [240 280 300]]\n",
      "\n",
      " [[180 210 230]\n",
      "  [250 270 260]\n",
      "  [240 250 270]\n",
      "  [290 310 330]]\n",
      "\n",
      " [[200 220 240]\n",
      "  [260 280 300]\n",
      "  [320 340 360]\n",
      "  [380 400 420]]]\n"
     ]
    }
   ],
   "source": [
    "ventas_reshape = ventas.reshape(3, 4, 3)\n",
    "print(\"\\nMatriz reshaped (3, 4, 3):\")\n",
    "print(ventas_reshape)\n"
   ]
  },
  {
   "cell_type": "code",
   "execution_count": 10,
   "id": "d48bd7f5",
   "metadata": {},
   "outputs": [
    {
     "name": "stdout",
     "output_type": "stream",
     "text": [
      "\n",
      "Matriz transpuesta:\n",
      "[[150 180 200]\n",
      " [200 210 220]\n",
      " [250 230 240]\n",
      " [300 250 260]\n",
      " [220 270 280]\n",
      " [210 260 300]\n",
      " [180 240 320]\n",
      " [190 250 340]\n",
      " [230 270 360]\n",
      " [240 290 380]\n",
      " [280 310 400]\n",
      " [300 330 420]]\n"
     ]
    }
   ],
   "source": [
    "ventas_transpuesta = ventas.T\n",
    "print(\"\\nMatriz transpuesta:\")\n",
    "print(ventas_transpuesta)\n"
   ]
  },
  {
   "cell_type": "code",
   "execution_count": 11,
   "id": "f2a1d256",
   "metadata": {},
   "outputs": [
    {
     "name": "stdout",
     "output_type": "stream",
     "text": [
      "\n",
      "Ventas A invertida:\n",
      "[300 280 240 230 190 180 210 220 300 250 200 150]\n"
     ]
    }
   ],
   "source": [
    "ventas_A_invertida = ventas_A[::-1]\n",
    "ventas_B_invertida = ventas_B[::-1]\n",
    "ventas_C_invertida = ventas_C[::-1]\n",
    "\n",
    "print(\"\\nVentas A invertida:\")\n",
    "print(ventas_A_invertida)\n"
   ]
  },
  {
   "cell_type": "code",
   "execution_count": 12,
   "id": "130fd5b7",
   "metadata": {},
   "outputs": [
    {
     "name": "stdout",
     "output_type": "stream",
     "text": [
      "\n",
      "Ventas aplanadas:\n",
      "[150 200 250 300 220 210 180 190 230 240 280 300 180 210 230 250 270 260\n",
      " 240 250 270 290 310 330 200 220 240 260 280 300 320 340 360 380 400 420]\n"
     ]
    }
   ],
   "source": [
    "ventas_flatten = ventas.flatten()\n",
    "print(\"\\nVentas aplanadas:\")\n",
    "print(ventas_flatten)\n"
   ]
  },
  {
   "cell_type": "code",
   "execution_count": 13,
   "id": "c16c0d2c",
   "metadata": {},
   "outputs": [
    {
     "name": "stdout",
     "output_type": "stream",
     "text": [
      "\n",
      "Elementos únicos:\n",
      "[150 180 190 200 210 220 230 240 250 260 270 280 290 300 310 320 330 340\n",
      " 360 380 400 420]\n",
      "\n",
      "Conteo de cada elemento único:\n",
      "[1 2 1 2 2 2 2 3 3 2 2 2 1 3 1 1 1 1 1 1 1 1]\n"
     ]
    }
   ],
   "source": [
    "# Encontrar elementos únicos en las ventas combinadas\n",
    "elementos_unicos, conteos = np.unique(ventas_flatten, return_counts=True)\n",
    "\n",
    "print(\"\\nElementos únicos:\")\n",
    "print(elementos_unicos)\n",
    "\n",
    "print(\"\\nConteo de cada elemento único:\")\n",
    "print(conteos)\n"
   ]
  },
  {
   "cell_type": "code",
   "execution_count": 14,
   "id": "3235b0d8",
   "metadata": {},
   "outputs": [
    {
     "name": "stdout",
     "output_type": "stream",
     "text": [
      "\n",
      "Ventas primer trimestre:\n",
      "[[150 200 250]\n",
      " [180 210 230]\n",
      " [200 220 240]]\n"
     ]
    }
   ],
   "source": [
    "ventas_primer_trimestre = ventas[:, :3]\n",
    "print(\"\\nVentas primer trimestre:\")\n",
    "print(ventas_primer_trimestre)\n"
   ]
  },
  {
   "cell_type": "code",
   "execution_count": 15,
   "id": "e6caa406",
   "metadata": {},
   "outputs": [
    {
     "name": "stdout",
     "output_type": "stream",
     "text": [
      "\n",
      "Meses con ventas > 800:\n",
      "Abril: 810\n",
      "Septiembre: 860\n",
      "Octubre: 910\n",
      "Noviembre: 990\n",
      "Diciembre: 1050\n"
     ]
    }
   ],
   "source": [
    "meses_mas_800 = meses[total_ventas_mes > 800]\n",
    "ventas_mas_800 = total_ventas_mes[total_ventas_mes > 800]\n",
    "\n",
    "print(\"\\nMeses con ventas > 800:\")\n",
    "for mes, venta in zip(meses_mas_800, ventas_mas_800):\n",
    "    print(f\"{mes}: {venta}\")\n"
   ]
  },
  {
   "cell_type": "code",
   "execution_count": 16,
   "id": "391b11fe",
   "metadata": {},
   "outputs": [
    {
     "name": "stdout",
     "output_type": "stream",
     "text": [
      "\n",
      "Ventas en meses pares:\n",
      "[[200 300 210 190 240 300]\n",
      " [210 250 260 250 290 330]\n",
      " [220 260 300 340 380 420]]\n"
     ]
    }
   ],
   "source": [
    "# Índices de meses pares (considerando que 0 = Enero)\n",
    "indices_pares = [1, 3, 5, 7, 9, 11]\n",
    "\n",
    "ventas_meses_pares = ventas[:, indices_pares]\n",
    "print(\"\\nVentas en meses pares:\")\n",
    "print(ventas_meses_pares)\n"
   ]
  }
 ],
 "metadata": {
  "kernelspec": {
   "display_name": "Python 3",
   "language": "python",
   "name": "python3"
  },
  "language_info": {
   "codemirror_mode": {
    "name": "ipython",
    "version": 3
   },
   "file_extension": ".py",
   "mimetype": "text/x-python",
   "name": "python",
   "nbconvert_exporter": "python",
   "pygments_lexer": "ipython3",
   "version": "3.13.1"
  }
 },
 "nbformat": 4,
 "nbformat_minor": 5
}
