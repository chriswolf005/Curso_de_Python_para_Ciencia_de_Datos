{
 "cells": [
  {
   "cell_type": "code",
   "execution_count": 2,
   "id": "b5c1cc96",
   "metadata": {},
   "outputs": [],
   "source": [
    "import numpy as np\n"
   ]
  },
  {
   "cell_type": "code",
   "execution_count": 2,
   "id": "39d8891c",
   "metadata": {},
   "outputs": [
    {
     "name": "stdout",
     "output_type": "stream",
     "text": [
      "[1 2 3 4 5]\n"
     ]
    }
   ],
   "source": [
    "mi_array = np.array([1, 2, 3, 4, 5])\n",
    "print(mi_array)\n"
   ]
  },
  {
   "cell_type": "code",
   "execution_count": 3,
   "id": "c3af38a8",
   "metadata": {},
   "outputs": [
    {
     "name": "stdout",
     "output_type": "stream",
     "text": [
      "[10 11 12 13 14 15 16 17 18 19 20 21 22 23 24 25 26 27 28 29 30 31 32 33\n",
      " 34 35 36 37 38 39 40 41 42 43 44 45 46 47 48 49 50]\n",
      "41\n",
      "(41,)\n",
      "int64\n"
     ]
    }
   ],
   "source": [
    "arrayP = np.arange(10, 51)\n",
    "print(arrayP)\n",
    "\n",
    "print(arrayP.size)\n",
    "print(arrayP.shape)\n",
    "print(arrayP.dtype)"
   ]
  },
  {
   "cell_type": "markdown",
   "id": "7462f451",
   "metadata": {},
   "source": [
    "### Operaciones"
   ]
  },
  {
   "cell_type": "code",
   "execution_count": 8,
   "id": "184a22f0",
   "metadata": {},
   "outputs": [
    {
     "name": "stdout",
     "output_type": "stream",
     "text": [
      "[ 7 14 21 28]\n",
      "[ 3  6  9 12]\n",
      "[ 10  40  90 160]\n",
      "[2.5 2.5 2.5 2.5]\n",
      "[ 25 100 225 400]\n"
     ]
    }
   ],
   "source": [
    "x = np.array([5, 10, 15, 20])\n",
    "\n",
    "y = np.array([2, 4, 6, 8])\n",
    "\n",
    "print(x+y)\n",
    "print(x-y)\n",
    "print(x*y)\n",
    "print(x/y)\n",
    "print(x**2)\n"
   ]
  },
  {
   "cell_type": "markdown",
   "id": "a737f855",
   "metadata": {},
   "source": [
    "###  Indexación y Slicing en arrays🔪👨‍⚕️"
   ]
  },
  {
   "cell_type": "code",
   "execution_count": 1,
   "id": "81bc3de8",
   "metadata": {},
   "outputs": [],
   "source": [
    "import numpy as np"
   ]
  },
  {
   "cell_type": "code",
   "execution_count": 10,
   "id": "2fbb8512",
   "metadata": {},
   "outputs": [
    {
     "name": "stdout",
     "output_type": "stream",
     "text": [
      "[15 22 18 30]\n",
      "[22 30 25 40]\n",
      "[15 22 99 30 25 40 17 19]\n",
      "[22 30 40]\n"
     ]
    }
   ],
   "source": [
    "edades = np.array([15, 22, 18, 30, 25, 40, 17, 19])\n",
    "print(edades[:4])  # Primeros 4 elementos\n",
    "print(edades[edades>20])# Elementos mayores a 20\n",
    "edades[2]=99\n",
    "print(edades)  # Cambia el tercer elemento a 99\n",
    "print(edades[[1, 3, 5]])   # Esto selecciona directamente esas posiciones\n"
   ]
  },
  {
   "cell_type": "markdown",
   "id": "60ed7edd",
   "metadata": {},
   "source": [
    "### 🧠 EJERCICIO: Indexación y Slicing con Datos de Ventas"
   ]
  },
  {
   "cell_type": "code",
   "execution_count": 4,
   "id": "ef318217",
   "metadata": {},
   "outputs": [],
   "source": [
    "import numpy as np\n",
    "\n",
    "meses = np.array(['Enero', 'Febrero', 'Marzo', 'Abril', 'Mayo', 'Junio',\n",
    "                  'Julio', 'Agosto', 'Septiembre', 'Octubre', 'Noviembre', 'Diciembre'])\n",
    "\n",
    "ventas_A = np.array([150, 200, 250, 300, 220, 210, 180, 190, 230, 240, 280, 300])\n",
    "ventas_B = np.array([180, 210, 230, 250, 270, 260, 240, 250, 270, 290, 310, 330])\n",
    "ventas_C = np.array([200, 220, 240, 260, 280, 300, 320, 340, 360, 380, 400, 420])\n"
   ]
  },
  {
   "cell_type": "code",
   "execution_count": 3,
   "id": "cb125203",
   "metadata": {},
   "outputs": [
    {
     "name": "stdout",
     "output_type": "stream",
     "text": [
      "Ventas de la empresa A primer trimestre:\n",
      "['Enero' 'Febrero' 'Marzo']\n",
      "[150 200 250]\n",
      "Venta meses pares:\n",
      "[220 260 300 340 380 420]\n",
      "total venta mes\n",
      "[ 530  630  720  810  770  770  740  780  860  910  990 1050]\n",
      "[ 810  860  910  990 1050]\n",
      "ventas producto B ultimos 4 meses\n",
      "[270 290 310 330]\n"
     ]
    }
   ],
   "source": [
    "print(\"Ventas de la empresa A primer trimestre:\")\n",
    "meses_A = meses[:3] \n",
    "print(meses_A) # Primer trimestre (Enero, Febrero, Marzo)\n",
    "ventas_A_trimestre = ventas_A[:3] # Ventas de la empresa A en el primer trimestre\n",
    "print(ventas_A_trimestre)\n",
    "\n",
    "print(\"Venta meses pares:\")\n",
    "ventas_meses_pares = ventas_C[1::2] # Ventas de meses pares (Febrero, Abril, Junio, Agosto, Octubre, Diciembre)\n",
    "print(ventas_meses_pares)\n",
    "print(\"total venta mes\")\n",
    "total_venta_mes=ventas_A+ventas_B+ventas_C\n",
    "print(total_venta_mes) # Total de ventas por mes\n",
    "print(total_venta_mes[total_venta_mes>800])# Ventas totales mayores a 800\n",
    "print(\"ventas producto B ultimos 4 meses\")\n",
    "ventas_B_ultimos_4=ventas_B[-4:]\n",
    "print(ventas_B_ultimos_4) # Ventas de la empresa B en los últimos 4 meses"
   ]
  },
  {
   "cell_type": "markdown",
   "id": "bedb2d0d",
   "metadata": {},
   "source": [
    "### 1. Calcula la media y suma de ventas de cada producto:"
   ]
  },
  {
   "cell_type": "code",
   "execution_count": 7,
   "id": "72e098a4",
   "metadata": {},
   "outputs": [
    {
     "name": "stdout",
     "output_type": "stream",
     "text": [
      "229.16666666666666\n",
      "2750\n",
      "257.5\n",
      "3090\n",
      "310.0\n",
      "3720\n",
      "Mes con mayor venta: Diciembre\n",
      "Mes con menor venta: Enero\n",
      "Mayor venta empresa A: 300\n",
      "Mes con mayor venta empresa A: Abril\n"
     ]
    }
   ],
   "source": [
    "ventas_A.mean()\n",
    "print(ventas_A.mean()) # Promedio de ventas de la empresa A\n",
    "print(ventas_A.sum()) # Suma de ventas de la empresa A\n",
    "print(ventas_B.mean()) # Promedio de ventas de la empresa B\n",
    "print(ventas_B.sum()) # Suma de ventas de la empresa B\n",
    "print(ventas_C.mean()) # Promedio de ventas de la empresa C\n",
    "print(ventas_C.sum()) # Suma de ventas de la empresa C\n",
    "\n",
    "\n",
    "indice_mayor = total_venta_mes.argmax()\n",
    "indice_menor = total_venta_mes.argmin()\n",
    "print(\"Mes con mayor venta:\", meses[indice_mayor]) # Mes con mayor venta\n",
    "print(\"Mes con menor venta:\", meses[indice_menor]) # Mes con menor venta\n",
    "mayor_venta_A=ventas_A.max()\n",
    "indice_mayor_venta_A=ventas_A.argmax()\n",
    "print(\"Mayor venta empresa A:\", mayor_venta_A) # Mayor venta de la empresa A\n",
    "print(\"Mes con mayor venta empresa A:\", meses[indice_mayor_venta_A]) # Mes con mayor venta de la empresa A"
   ]
  },
  {
   "cell_type": "code",
   "execution_count": 10,
   "id": "e631e69a",
   "metadata": {},
   "outputs": [
    {
     "name": "stdout",
     "output_type": "stream",
     "text": [
      "Total de ventas del año: 9560\n",
      "[270 260 270 290 310 330]\n",
      "Ventas de la empresa B mayores al promedio: ['Mayo' 'Junio' 'Septiembre' 'Octubre' 'Noviembre' 'Diciembre']\n"
     ]
    }
   ],
   "source": [
    "total_venta_anual = total_venta_mes.sum()\n",
    "print(\"Total de ventas del año:\", total_venta_anual)\n",
    "\n",
    "print(ventas_B[ventas_B > ventas_B.mean()])\n",
    "print(\"Ventas de la empresa B mayores al promedio:\", meses[ventas_B > ventas_B.mean()]) # Ventas de la empresa B mayores al promedio\n"
   ]
  },
  {
   "cell_type": "markdown",
   "id": "a92d21ad",
   "metadata": {},
   "source": [
    "### 1. reshape() – Cambiar la forma de un array"
   ]
  },
  {
   "cell_type": "code",
   "execution_count": 11,
   "id": "0883db87",
   "metadata": {},
   "outputs": [
    {
     "name": "stdout",
     "output_type": "stream",
     "text": [
      "[[1 2 3]\n",
      " [4 5 6]]\n"
     ]
    }
   ],
   "source": [
    "import numpy as np\n",
    "\n",
    "array_original = np.array([1, 2, 3, 4, 5, 6])\n",
    "array_2d = array_original.reshape((2, 3))\n",
    "print(array_2d)\n",
    "# Resultado:\n",
    "# [[1 2 3]\n",
    "#  [4 5 6]]\n"
   ]
  },
  {
   "cell_type": "markdown",
   "id": "aa0a08f2",
   "metadata": {},
   "source": [
    "### 2. transpose() – Transponer una matriz"
   ]
  },
  {
   "cell_type": "code",
   "execution_count": 12,
   "id": "931192c6",
   "metadata": {},
   "outputs": [
    {
     "name": "stdout",
     "output_type": "stream",
     "text": [
      "[[1 4]\n",
      " [2 5]\n",
      " [3 6]]\n"
     ]
    }
   ],
   "source": [
    "matriz = np.array([[1, 2, 3], [4, 5, 6]])\n",
    "transpuesta = matriz.T\n",
    "print(transpuesta)\n",
    "# Resultado:\n",
    "# [[1 4]\n",
    "#  [2 5]\n",
    "#  [3 6]]\n"
   ]
  },
  {
   "cell_type": "markdown",
   "id": "e937a4ae",
   "metadata": {},
   "source": [
    "### 3. flatten() – Aplanar un array multidimensional"
   ]
  },
  {
   "cell_type": "code",
   "execution_count": 13,
   "id": "ec397e86",
   "metadata": {},
   "outputs": [
    {
     "name": "stdout",
     "output_type": "stream",
     "text": [
      "[1 2 3 4]\n"
     ]
    }
   ],
   "source": [
    "matriz = np.array([[1, 2], [3, 4]])\n",
    "plano = matriz.flatten()\n",
    "print(plano)\n",
    "# Resultado: [1 2 3 4]\n"
   ]
  },
  {
   "cell_type": "markdown",
   "id": "d6e2c070",
   "metadata": {},
   "source": [
    "### 4. Invertir un array"
   ]
  },
  {
   "cell_type": "code",
   "execution_count": 14,
   "id": "2562d1b6",
   "metadata": {},
   "outputs": [
    {
     "name": "stdout",
     "output_type": "stream",
     "text": [
      "[30 20 10]\n"
     ]
    }
   ],
   "source": [
    "array = np.array([10, 20, 30])\n",
    "invertido = array[::-1]\n",
    "print(invertido)\n",
    "# Resultado: [30 20 10]\n"
   ]
  },
  {
   "cell_type": "markdown",
   "id": "dd84da72",
   "metadata": {},
   "source": [
    "🔄 Convierte ventas_A, ventas_B y ventas_C en una sola matriz 2D con reshape() (tamaño 3x12)."
   ]
  },
  {
   "cell_type": "code",
   "execution_count": 16,
   "id": "89ccc453",
   "metadata": {},
   "outputs": [
    {
     "name": "stdout",
     "output_type": "stream",
     "text": [
      "[[150 200 250 300 220 210 180 190 230 240 280 300]\n",
      " [180 210 230 250 270 260 240 250 270 290 310 330]\n",
      " [200 220 240 260 280 300 320 340 360 380 400 420]]\n"
     ]
    }
   ],
   "source": [
    "union_array=np.concatenate([ventas_A, ventas_B, ventas_C])\n",
    "#print(union_array) # Unión de los tres arrays de ventas\n",
    "\n",
    "ventas_2d=union_array.reshape(3, 12)\n",
    "print(ventas_2d) # Ventas en 2D (3 filas, 12 columnas)"
   ]
  },
  {
   "cell_type": "code",
   "execution_count": 17,
   "id": "3ec4f44a",
   "metadata": {},
   "outputs": [
    {
     "name": "stdout",
     "output_type": "stream",
     "text": [
      "[[150 180 200]\n",
      " [200 210 220]\n",
      " [250 230 240]\n",
      " [300 250 260]\n",
      " [220 270 280]\n",
      " [210 260 300]\n",
      " [180 240 320]\n",
      " [190 250 340]\n",
      " [230 270 360]\n",
      " [240 290 380]\n",
      " [280 310 400]\n",
      " [300 330 420]]\n"
     ]
    }
   ],
   "source": [
    "transpuesta_ventas=ventas_2d.T\n",
    "print(transpuesta_ventas) # Transpuesta de la matriz de ventas"
   ]
  },
  {
   "cell_type": "code",
   "execution_count": 18,
   "id": "3257f779",
   "metadata": {},
   "outputs": [
    {
     "name": "stdout",
     "output_type": "stream",
     "text": [
      "[150 200 250 300 220 210 180 190 230 240 280 300 180 210 230 250 270 260\n",
      " 240 250 270 290 310 330 200 220 240 260 280 300 320 340 360 380 400 420]\n"
     ]
    }
   ],
   "source": [
    "plana=ventas_2d.flatten()\n",
    "print(plana) # Aplanada la matriz de ventas"
   ]
  },
  {
   "cell_type": "code",
   "execution_count": 19,
   "id": "184ddc61",
   "metadata": {},
   "outputs": [
    {
     "name": "stdout",
     "output_type": "stream",
     "text": [
      "[[200 220 240 260 280 300 320 340 360 380 400 420]\n",
      " [180 210 230 250 270 260 240 250 270 290 310 330]\n",
      " [150 200 250 300 220 210 180 190 230 240 280 300]]\n"
     ]
    }
   ],
   "source": [
    "invertido=ventas_2d[::-1]\n",
    "print(invertido) # Invertida la matriz de ventas"
   ]
  },
  {
   "cell_type": "code",
   "execution_count": null,
   "id": "1812a182",
   "metadata": {},
   "outputs": [
    {
     "name": "stdout",
     "output_type": "stream",
     "text": [
      "[100 150 120 180 140 160 170 130 190 200 210 220  90 130 110 170 150 140\n",
      " 160 150 180 190 200 210  80 120 100 160 130 150 140 120 170 180 190 200]\n",
      "[[100 150 120 180 140 160 170 130 190 200 210 220]\n",
      " [ 90 130 110 170 150 140 160 150 180 190 200 210]\n",
      " [ 80 120 100 160 130 150 140 120 170 180 190 200]]\n",
      "[[100  90  80]\n",
      " [150 130 120]\n",
      " [120 110 100]\n",
      " [180 170 160]\n",
      " [140 150 130]\n",
      " [160 140 150]\n",
      " [170 160 140]\n",
      " [130 150 120]\n",
      " [190 180 170]\n",
      " [200 190 180]\n",
      " [210 200 190]\n",
      " [220 210 200]]\n",
      "[100 150 120 180 140 160 170 130 190 200 210 220  90 130 110 170 150 140\n",
      " 160 150 180 190 200 210  80 120 100 160 130 150 140 120 170 180 190 200]\n",
      "[[ 80 120 100 160 130 150 140 120 170 180 190 200]\n",
      " [ 90 130 110 170 150 140 160 150 180 190 200 210]\n",
      " [100 150 120 180 140 160 170 130 190 200 210 220]]\n"
     ]
    }
   ],
   "source": [
    "import numpy as np\n",
    "ventas_D = [100, 150, 120, 180, 140, 160, 170, 130, 190, 200, 210, 220]\n",
    "ventas_E = [90,  130, 110, 170, 150, 140, 160, 150, 180, 190, 200, 210]\n",
    "ventas_F = [80,  120, 100, 160, 130, 150, 140, 120, 170, 180, 190, 200]\n",
    "\n",
    "ventas_total=np.concatenate([ventas_D, ventas_E, ventas_F])\n",
    "print(ventas_total) # Unión de los tres arrays de ventas\n",
    "\n",
    "ventas_2d=ventas_total.reshape(3, 12)\n",
    "print(ventas_2d) # Ventas en 2D (3 filas\n",
    "\n",
    "ventas_2d_transpuesta=ventas_2d.T\n",
    "print(ventas_2d_transpuesta) # Transpuesta de la matriz de ventas\n",
    "\n",
    "ventas_2d_plana=ventas_2d.flatten()\n",
    "print(ventas_2d_plana) # Aplanada la matriz de ventas\n",
    "\n",
    "ventas_2d_invertida=ventas_2d[::-1]\n",
    "print(ventas_2d_invertida) # Invertida la matriz de ventas\n"
   ]
  },
  {
   "cell_type": "markdown",
   "id": "225e4b23",
   "metadata": {},
   "source": [
    "### 🧪 Ejercicio : Análisis de Ventas"
   ]
  },
  {
   "cell_type": "code",
   "execution_count": 5,
   "id": "3ed3583e",
   "metadata": {},
   "outputs": [
    {
     "name": "stdout",
     "output_type": "stream",
     "text": [
      "Mes con mas ventas: Diciembre\n",
      "Producto con menos ventas: F\n",
      "El numero 160 aparece 3 veces en la ventas\n"
     ]
    }
   ],
   "source": [
    "total_venta_mes=ventas_2d.sum(axis=0)\n",
    "indice_mayor=total_venta_mes.argmax()\n",
    "print(f\"Mes con mas ventas: {meses[indice_mayor]}\")\n",
    "\n",
    "productos = [\"D\", \"E\", \"F\"]\n",
    "total_venta_producto=ventas_2d.sum(axis=1)\n",
    "indice_min=total_venta_producto.argmin()\n",
    "print(f\"Producto con menos ventas: {productos[indice_min]}\")\n",
    "\n",
    "conteo_160=np.count_nonzero(ventas_2d==160)\n",
    "print(f\"El numero 160 aparece {conteo_160} veces en la ventas\")\n",
    "\n"
   ]
  },
  {
   "cell_type": "code",
   "execution_count": 13,
   "id": "a47d43a1",
   "metadata": {},
   "outputs": [
    {
     "name": "stdout",
     "output_type": "stream",
     "text": [
      "Valores unicos: [ 80  90 100 110 120 130 140 150 160 170 180 190 200 210 220]\n",
      "El valor 80 aparece 1 veces en la matriz de ventas\n",
      "El valor 90 aparece 1 veces en la matriz de ventas\n",
      "El valor 100 aparece 2 veces en la matriz de ventas\n",
      "El valor 110 aparece 1 veces en la matriz de ventas\n",
      "El valor 120 aparece 3 veces en la matriz de ventas\n",
      "El valor 130 aparece 3 veces en la matriz de ventas\n",
      "El valor 140 aparece 3 veces en la matriz de ventas\n",
      "El valor 150 aparece 4 veces en la matriz de ventas\n",
      "El valor 160 aparece 3 veces en la matriz de ventas\n",
      "El valor 170 aparece 3 veces en la matriz de ventas\n",
      "El valor 180 aparece 3 veces en la matriz de ventas\n",
      "El valor 190 aparece 3 veces en la matriz de ventas\n",
      "El valor 200 aparece 3 veces en la matriz de ventas\n",
      "El valor 210 aparece 2 veces en la matriz de ventas\n",
      "El valor 220 aparece 1 veces en la matriz de ventas\n"
     ]
    }
   ],
   "source": [
    "unicos=np.unique(ventas_2d)\n",
    "print(f\"Valores unicos: {unicos}\")\n",
    "\n",
    "valores,conteos=np.unique(ventas_2d,return_counts=True)\n",
    "for val,count in zip(valores,conteos):\n",
    "    print(f\"El valor {val} aparece {count} veces en la matriz de ventas\")"
   ]
  },
  {
   "cell_type": "markdown",
   "id": "891cbec8",
   "metadata": {},
   "source": [
    "### ✅ Nivel 6: Indexación y Slicing avanzado"
   ]
  },
  {
   "cell_type": "code",
   "execution_count": 14,
   "id": "2ac06341",
   "metadata": {},
   "outputs": [
    {
     "name": "stdout",
     "output_type": "stream",
     "text": [
      "Ventas del primer trimestre:\n",
      "[[100 150 120]\n",
      " [ 90 130 110]\n",
      " [ 80 120 100]]\n",
      "Meses con ventas totales mayores a 500:\n",
      "['Abril' 'Septiembre' 'Octubre' 'Noviembre' 'Diciembre']\n",
      "Ventas en meses pares:\n",
      "[[150 180 160 130 200 220]\n",
      " [130 170 140 150 190 210]\n",
      " [120 160 150 120 180 200]]\n"
     ]
    }
   ],
   "source": [
    "ventas_primer_trimestre = ventas_2d[:, :3]\n",
    "print(\"Ventas del primer trimestre:\")\n",
    "print(ventas_primer_trimestre)\n",
    "\n",
    "total_ventas_mes = ventas_2d.sum(axis=0)\n",
    "meses_altas_ventas = meses[total_ventas_mes > 500]\n",
    "print(\"Meses con ventas totales mayores a 500:\")\n",
    "print(meses_altas_ventas)\n",
    "\n",
    "indices_pares = [1, 3, 5, 7, 9, 11]  # Febrero, Abril, ...\n",
    "ventas_meses_pares = ventas_2d[:, indices_pares]\n",
    "print(\"Ventas en meses pares:\")\n",
    "print(ventas_meses_pares)\n"
   ]
  },
  {
   "cell_type": "code",
   "execution_count": null,
   "id": "d79d535e",
   "metadata": {},
   "outputs": [
    {
     "name": "stdout",
     "output_type": "stream",
     "text": [
      "Ventas del segundo trimestre:[[180 140 160]\n",
      " [170 150 140]\n",
      " [160 130 150]]\n",
      "Meses con ventas totales menores a 450:['Enero' 'Febrero' 'Marzo' 'Mayo' 'Agosto']\n"
     ]
    }
   ],
   "source": [
    "ventas_segundo_trimestre = ventas_2d[:, 3:6]\n",
    "print(f\"Ventas del segundo trimestre:{ventas_segundo_trimestre}\")\n",
    "meses_malos=meses[total_ventas_mes < 450]\n",
    "print(f\"Meses con ventas totales menores a 450:{meses_malos}\")"
   ]
  },
  {
   "cell_type": "code",
   "execution_count": 30,
   "id": "38af5369",
   "metadata": {},
   "outputs": [
    {
     "name": "stdout",
     "output_type": "stream",
     "text": [
      "Ventas primer trimestre: [[100 150 120]\n",
      " [ 90 130 110]\n",
      " [ 80 120 100]]\n",
      "Ventas segundo trimestre: [[180 140 160]\n",
      " [170 150 140]\n",
      " [160 130 150]]\n",
      "Meses con ventas mayores a 600: ['Diciembre']\n",
      "Valores unicos: [ 80  90 100 110 120 130 140 150 160 170 180 200 210 220 230 240 250 260\n",
      " 270 280 290 300 310 320 330 340 350 360]\n",
      "El valor 80 aparece 1 veces en la matriz de ventas\n",
      "El valor 90 aparece 1 veces en la matriz de ventas\n",
      "El valor 100 aparece 1 veces en la matriz de ventas\n",
      "El valor 110 aparece 1 veces en la matriz de ventas\n",
      "El valor 120 aparece 1 veces en la matriz de ventas\n",
      "El valor 130 aparece 1 veces en la matriz de ventas\n",
      "El valor 140 aparece 1 veces en la matriz de ventas\n",
      "El valor 150 aparece 2 veces en la matriz de ventas\n",
      "El valor 160 aparece 2 veces en la matriz de ventas\n",
      "El valor 170 aparece 2 veces en la matriz de ventas\n",
      "El valor 180 aparece 2 veces en la matriz de ventas\n",
      "El valor 200 aparece 3 veces en la matriz de ventas\n",
      "El valor 210 aparece 2 veces en la matriz de ventas\n",
      "El valor 220 aparece 2 veces en la matriz de ventas\n",
      "El valor 230 aparece 2 veces en la matriz de ventas\n",
      "El valor 240 aparece 2 veces en la matriz de ventas\n",
      "El valor 250 aparece 3 veces en la matriz de ventas\n",
      "El valor 260 aparece 1 veces en la matriz de ventas\n",
      "El valor 270 aparece 2 veces en la matriz de ventas\n",
      "El valor 280 aparece 1 veces en la matriz de ventas\n",
      "El valor 290 aparece 2 veces en la matriz de ventas\n",
      "El valor 300 aparece 2 veces en la matriz de ventas\n",
      "El valor 310 aparece 3 veces en la matriz de ventas\n",
      "El valor 320 aparece 3 veces en la matriz de ventas\n",
      "El valor 330 aparece 1 veces en la matriz de ventas\n",
      "El valor 340 aparece 2 veces en la matriz de ventas\n",
      "El valor 350 aparece 1 veces en la matriz de ventas\n",
      "El valor 360 aparece 1 veces en la matriz de ventas\n"
     ]
    }
   ],
   "source": [
    "ventas_A = np.array([100, 150, 200, 180, 170, 220, 210, 240, 250, 300, 310, 330])  # Producto A\n",
    "ventas_B = np.array([90, 140, 160, 200, 230, 250, 240, 270, 290, 310, 320, 350])  # Producto B\n",
    "ventas_C = np.array([110, 130, 160, 180, 210, 230, 260, 280, 300, 320, 340, 360])  # Producto C\n",
    "ventas_D = np.array([80, 120, 150, 170, 200, 220, 250, 270, 290, 310, 320, 340])  # Producto D\n",
    "\n",
    "\n",
    "ventas_trimestre_1 = ventas_2d[:, 0:3]  # Ventas del primer trimestre\n",
    "ventas_trimestre_2 = ventas_2d[:, 3:6]  # Ventas del segundo trimestre\n",
    "ventas_trimestre_3 = ventas_2d[:, 6:9]  # Ventas del tercer trimestre\n",
    "ventas_trimestre_4 = ventas_2d[:, 9:12]  # Ventas del cuarto trimestre\n",
    "\n",
    "ventas_trimestre = ventas_2d.sum(axis=1)  # Suma por productos en todo el año\n",
    "\n",
    "ventas_trimestre_1 = ventas_2d[:, 0:3]  # Ventas de enero a marzo\n",
    "ventas_trimestre_2 = ventas_2d[:, 3:6]  # Ventas de abril a junio\n",
    "ventas_trimestre_3 = ventas_2d[:, 6:9]  # Ventas de julio a septiembre\n",
    "ventas_trimestre_4 = ventas_2d[:, 9:12] # Ventas de octubre a diciembre\n",
    "\n",
    "\n",
    "\n",
    "ventas_trimestre_1 = ventas_2d[:, 0:3]  # Ventas del primer trimestre\n",
    "ventas_trimestre_2 = ventas_2d[:, 3:6]  # Ventas del segundo trimestre\n",
    "ventas_trimestre_3 = ventas_2d[:, 6:9]  # Ventas del tercer trimestre\n",
    "ventas_trimestre_4 = ventas_2d[:, 9:12] # Ventas del cuarto trimestre\n",
    "\n",
    "print(\"Ventas primer trimestre:\", ventas_trimestre_1)\n",
    "print(\"Ventas segundo trimestre:\", ventas_trimestre_2)\n",
    "\n",
    "total_ventas_mes = ventas_2d.sum(axis=0)  # Suma por mes, es decir, total de ventas de todos los productos en cada mes\n",
    "meses_mayores_600 = meses[total_ventas_mes > 600]  # Filtramos los meses con ventas mayores a 600\n",
    "print(\"Meses con ventas mayores a 600:\", meses_mayores_600)\n",
    "\n",
    "ventas_totales = np.concatenate([ventas_A, ventas_B, ventas_C, ventas_D])\n",
    "ventas2_2d=ventas_totales.reshape(4,12)\n",
    "unicos=np.unique(ventas2_2d)\n",
    "print(f\"Valores unicos: {unicos}\")\n",
    "\n",
    "valores, conteos = np.unique(ventas2_2d, return_counts=True)\n",
    "for val, count in zip(valores, conteos):\n",
    "    print(f\"El valor {val} aparece {count} veces en la matriz de ventas\")\n",
    "\n"
   ]
  }
 ],
 "metadata": {
  "kernelspec": {
   "display_name": "Python 3",
   "language": "python",
   "name": "python3"
  },
  "language_info": {
   "codemirror_mode": {
    "name": "ipython",
    "version": 3
   },
   "file_extension": ".py",
   "mimetype": "text/x-python",
   "name": "python",
   "nbconvert_exporter": "python",
   "pygments_lexer": "ipython3",
   "version": "3.13.1"
  }
 },
 "nbformat": 4,
 "nbformat_minor": 5
}
