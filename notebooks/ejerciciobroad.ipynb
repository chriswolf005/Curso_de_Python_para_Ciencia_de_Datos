{
 "cells": [
  {
   "cell_type": "markdown",
   "metadata": {},
   "source": [
    "🧪 Ejercicios de Broadcasting"
   ]
  },
  {
   "cell_type": "markdown",
   "metadata": {},
   "source": [
    "✅ Ejercicio 1: Sumar un escalar a un arr"
   ]
  },
  {
   "cell_type": "code",
   "execution_count": 1,
   "metadata": {},
   "outputs": [],
   "source": [
    "import numpy as np"
   ]
  },
  {
   "cell_type": "code",
   "execution_count": 3,
   "metadata": {},
   "outputs": [
    {
     "name": "stdout",
     "output_type": "stream",
     "text": [
      "[101 102 103 104 105]\n"
     ]
    }
   ],
   "source": [
    "# Crea un array del 1 al 5\n",
    "a = np.array([1, 2, 3, 4, 5])\n",
    "#Sumarle 100 a todos los elementos del array\n",
    "b=100\n",
    "resultado= a+b\n",
    "print(resultado)"
   ]
  },
  {
   "cell_type": "markdown",
   "metadata": {},
   "source": [
    "✅ Ejercicio 2: Multiplicar una matriz por un vector"
   ]
  },
  {
   "cell_type": "code",
   "execution_count": 7,
   "metadata": {},
   "outputs": [
    {
     "name": "stdout",
     "output_type": "stream",
     "text": [
      "[[ 10  40  90]\n",
      " [ 40 100 180]\n",
      " [ 70 160 270]]\n"
     ]
    }
   ],
   "source": [
    "# Crea una matriz de 3x3\n",
    "matriz = np.array([\n",
    "    [1, 2, 3],\n",
    "    [4, 5, 6],\n",
    "    [7, 8, 9]\n",
    "])\n",
    "\n",
    "# Crea un vector: [10, 20, 30]\n",
    "vector = np.array([10, 20, 30])\n",
    "\n",
    "# Usa broadcasting para multiplicar cada fila por el vector\n",
    "resultado= matriz * vector\n",
    "print(resultado)"
   ]
  },
  {
   "cell_type": "markdown",
   "metadata": {},
   "source": [
    "✅ Ejercicio 3: Restar un vector a una matriz (por columnas)"
   ]
  },
  {
   "cell_type": "code",
   "execution_count": 19,
   "metadata": {},
   "outputs": [
    {
     "name": "stdout",
     "output_type": "stream",
     "text": [
      "[[0 1 2]\n",
      " [2 3 4]\n",
      " [4 5 6]]\n"
     ]
    }
   ],
   "source": [
    "matriz = np.array([\n",
    "    [1, 2, 3],\n",
    "    [4, 5, 6],\n",
    "    [7, 8, 9]\n",
    "])\n",
    "vector_col = np.array([1, 2, 3]).reshape(3, 1)\n",
    "resultado = matriz - vector_col\n",
    "print(resultado)\n",
    "\n"
   ]
  },
  {
   "cell_type": "markdown",
   "metadata": {},
   "source": [
    "🔍 Ejercicios de Operaciones Lógicas"
   ]
  },
  {
   "cell_type": "markdown",
   "metadata": {},
   "source": [
    "✅ Ejercicio 4: Filtro básico"
   ]
  },
  {
   "cell_type": "code",
   "execution_count": 10,
   "metadata": {},
   "outputs": [
    {
     "name": "stdout",
     "output_type": "stream",
     "text": [
      "[ 6  7  8  9 10]\n"
     ]
    }
   ],
   "source": [
    "# Crea un array con los números del 1 al 10\n",
    "x = np.arange(1, 11)\n",
    "resultado= x[x>5]\n",
    "print(resultado)"
   ]
  },
  {
   "cell_type": "markdown",
   "metadata": {},
   "source": [
    "✅ Ejercicio 5: Doble condición"
   ]
  },
  {
   "cell_type": "code",
   "execution_count": 14,
   "metadata": {},
   "outputs": [
    {
     "name": "stdout",
     "output_type": "stream",
     "text": [
      "[ 4  6  8 10]\n"
     ]
    }
   ],
   "source": [
    "# Usando el array x anterior\n",
    "x = np.arange(1, 11)\n",
    "# Filtra los números que sean pares y mayores que 3\n",
    "resultado= x[(x % 2 == 0) & (x > 3)]\n",
    "print(resultado)\n",
    "\n"
   ]
  },
  {
   "cell_type": "markdown",
   "metadata": {},
   "source": [
    "✅ Ejercicio 6: Reemplazo condicional"
   ]
  },
  {
   "cell_type": "code",
   "execution_count": 18,
   "metadata": {},
   "outputs": [
    {
     "name": "stdout",
     "output_type": "stream",
     "text": [
      "[1 2 3 4 5 0 0 0 0 0]\n"
     ]
    }
   ],
   "source": [
    "# Crea un array con los números del 1 al 10\n",
    "x = np.arange(1, 11)\n",
    "\n",
    "# Verificar si hay al menos un valor mayor que 5\n",
    "if np.any(x > 5):\n",
    "    x[x > 5] = 0\n",
    "else:\n",
    "    print(\"No hay números mayores que 5\")\n",
    "\n",
    "print(x)"
   ]
  }
 ],
 "metadata": {
  "kernelspec": {
   "display_name": "Python 3",
   "language": "python",
   "name": "python3"
  },
  "language_info": {
   "codemirror_mode": {
    "name": "ipython",
    "version": 3
   },
   "file_extension": ".py",
   "mimetype": "text/x-python",
   "name": "python",
   "nbconvert_exporter": "python",
   "pygments_lexer": "ipython3",
   "version": "3.13.1"
  }
 },
 "nbformat": 4,
 "nbformat_minor": 2
}
