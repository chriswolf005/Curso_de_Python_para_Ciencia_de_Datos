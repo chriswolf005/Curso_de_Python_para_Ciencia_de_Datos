{
 "cells": [
  {
   "cell_type": "code",
   "execution_count": 12,
   "id": "ad905196",
   "metadata": {},
   "outputs": [
    {
     "data": {
      "text/plain": [
       "995      Health and beauty\n",
       "996     Home and lifestyle\n",
       "997     Food and beverages\n",
       "998     Home and lifestyle\n",
       "999    Fashion accessories\n",
       "Name: Product line, dtype: object"
      ]
     },
     "execution_count": 12,
     "metadata": {},
     "output_type": "execute_result"
    }
   ],
   "source": [
    "import pandas as pd\n",
    "path=r'C:\\Users\\chris\\OneDrive\\Desktop\\Cursos\\Curso de python para ciencia de datos\\Curso_de_Python_para_Ciencia_de_Datos\\data\\SuperMarket Analysis.csv'\n",
    "product_data=pd.read_csv(path, encoding='ISO-8859-1')\n",
    "supermarket_product_data=product_data.loc[:,'Product line']\n",
    "#print(supermarket_product_data)\n",
    "#print(supermarket_product_data)\n",
    "#supermarket_product_data.info()\n",
    "#supermarket_product_data.describe()\n",
    "\n",
    "#supermarket_product_data.head()\n",
    "\n",
    "supermarket_product_data.tail()"
   ]
  }
 ],
 "metadata": {
  "kernelspec": {
   "display_name": "Python 3",
   "language": "python",
   "name": "python3"
  },
  "language_info": {
   "codemirror_mode": {
    "name": "ipython",
    "version": 3
   },
   "file_extension": ".py",
   "mimetype": "text/x-python",
   "name": "python",
   "nbconvert_exporter": "python",
   "pygments_lexer": "ipython3",
   "version": "3.13.1"
  }
 },
 "nbformat": 4,
 "nbformat_minor": 5
}
