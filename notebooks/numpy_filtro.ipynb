{
 "cells": [
  {
   "cell_type": "code",
   "execution_count": 1,
   "id": "5fc5ae77",
   "metadata": {},
   "outputs": [],
   "source": [
    "import pandas as pd\n",
    "\n",
    "#Leer el dataset de ventas desde un archivo CSV\n",
    "path=r'C:\\Users\\chris\\OneDrive\\Desktop\\Cursos\\Curso de python para ciencia de datos\\Curso_de_Python_para_Ciencia_de_Datos\\data\\Online_Retail.csv'\n",
    "sales_data = pd.read_csv(path, encoding='ISO-8859-1')\n"
   ]
  },
  {
   "cell_type": "code",
   "execution_count": 2,
   "id": "58384f8c",
   "metadata": {},
   "outputs": [
    {
     "name": "stderr",
     "output_type": "stream",
     "text": [
      "C:\\Users\\chris\\AppData\\Local\\Temp\\ipykernel_21228\\3365157096.py:2: UserWarning: Could not infer format, so each element will be parsed individually, falling back to `dateutil`. To ensure parsing is consistent and as-expected, please specify a format.\n",
      "  sales_data['InvoiceDate'] = pd.to_datetime(sales_data['InvoiceDate'])\n"
     ]
    },
    {
     "name": "stdout",
     "output_type": "stream",
     "text": [
      "  InvoiceNo StockCode                          Description  Quantity  \\\n",
      "0    536365    85123A   WHITE HANGING HEART T-LIGHT HOLDER         6   \n",
      "1    536365     71053                  WHITE METAL LANTERN         6   \n",
      "2    536365    84406B       CREAM CUPID HEARTS COAT HANGER         8   \n",
      "3    536365    84029G  KNITTED UNION FLAG HOT WATER BOTTLE         6   \n",
      "4    536365    84029E       RED WOOLLY HOTTIE WHITE HEART.         6   \n",
      "\n",
      "          InvoiceDate  UnitPrice  CustomerID         Country  TotalPrice  \n",
      "0 2010-12-01 08:26:00       2.55     17850.0  United Kingdom       15.30  \n",
      "1 2010-12-01 08:26:00       3.39     17850.0  United Kingdom       20.34  \n",
      "2 2010-12-01 08:26:00       2.75     17850.0  United Kingdom       22.00  \n",
      "3 2010-12-01 08:26:00       3.39     17850.0  United Kingdom       20.34  \n",
      "4 2010-12-01 08:26:00       3.39     17850.0  United Kingdom       20.34  \n"
     ]
    }
   ],
   "source": [
    "#convertir la columna 'InvoiceDate' a tipo datetime\n",
    "sales_data['InvoiceDate'] = pd.to_datetime(sales_data['InvoiceDate'])\n",
    "\n",
    "#Eliminar filas con valores faltantes en las columnas criticas\n",
    "sales_data.dropna(subset=['CustomerID','InvoiceDate'], inplace=True)\n",
    "\n",
    "#Crear una nueva columna 'TotalPrice' que multiplica 'Quantity' por 'UnitPrice'\n",
    "sales_data['TotalPrice'] = sales_data['Quantity'] * sales_data['UnitPrice']\n",
    "\n",
    "print(sales_data.head())\n"
   ]
  },
  {
   "cell_type": "code",
   "execution_count": 3,
   "id": "3c9e3159",
   "metadata": {},
   "outputs": [
    {
     "name": "stdout",
     "output_type": "stream",
     "text": [
      "       InvoiceNo StockCode                          Description  Quantity  \\\n",
      "0         536365    85123A   WHITE HANGING HEART T-LIGHT HOLDER         6   \n",
      "1         536365     71053                  WHITE METAL LANTERN         6   \n",
      "2         536365    84406B       CREAM CUPID HEARTS COAT HANGER         8   \n",
      "3         536365    84029G  KNITTED UNION FLAG HOT WATER BOTTLE         6   \n",
      "4         536365    84029E       RED WOOLLY HOTTIE WHITE HEART.         6   \n",
      "...          ...       ...                                  ...       ...   \n",
      "541889    581585     22466       FAIRY TALE COTTAGE NIGHT LIGHT        12   \n",
      "541890    581586     22061  LARGE CAKE STAND  HANGING STRAWBERY         8   \n",
      "541891    581586     23275     SET OF 3 HANGING OWLS OLLIE BEAK        24   \n",
      "541892    581586     21217        RED RETROSPOT ROUND CAKE TINS        24   \n",
      "541893    581586     20685                DOORMAT RED RETROSPOT        10   \n",
      "\n",
      "               InvoiceDate  UnitPrice  CustomerID         Country  TotalPrice  \n",
      "0      2010-12-01 08:26:00       2.55     17850.0  United Kingdom       15.30  \n",
      "1      2010-12-01 08:26:00       3.39     17850.0  United Kingdom       20.34  \n",
      "2      2010-12-01 08:26:00       2.75     17850.0  United Kingdom       22.00  \n",
      "3      2010-12-01 08:26:00       3.39     17850.0  United Kingdom       20.34  \n",
      "4      2010-12-01 08:26:00       3.39     17850.0  United Kingdom       20.34  \n",
      "...                    ...        ...         ...             ...         ...  \n",
      "541889 2011-12-09 12:31:00       1.95     15804.0  United Kingdom       23.40  \n",
      "541890 2011-12-09 12:49:00       2.95     13113.0  United Kingdom       23.60  \n",
      "541891 2011-12-09 12:49:00       1.25     13113.0  United Kingdom       30.00  \n",
      "541892 2011-12-09 12:49:00       8.95     13113.0  United Kingdom      214.80  \n",
      "541893 2011-12-09 12:49:00       7.08     13113.0  United Kingdom       70.80  \n",
      "\n",
      "[361878 rows x 9 columns]\n"
     ]
    }
   ],
   "source": [
    "#Filtrar ventas en el reino unido\n",
    "uk_sales=sales_data[sales_data['Country']=='United Kingdom']\n",
    "print(uk_sales)"
   ]
  },
  {
   "cell_type": "code",
   "execution_count": null,
   "id": "fae032fc",
   "metadata": {},
   "outputs": [
    {
     "name": "stdout",
     "output_type": "stream",
     "text": [
      "       InvoiceNo StockCode                      Description  Quantity  \\\n",
      "9         536367     84879    ASSORTED COLOUR BIRD ORNAMENT        32   \n",
      "26        536370     22728        ALARM CLOCK BAKELIKE PINK        24   \n",
      "27        536370     22727        ALARM CLOCK BAKELIKE RED         24   \n",
      "28        536370     22726       ALARM CLOCK BAKELIKE GREEN        12   \n",
      "29        536370     21724  PANDA AND BUNNIES STICKER SHEET        12   \n",
      "...          ...       ...                              ...       ...   \n",
      "541894    581587     22631         CIRCUS PARADE LUNCH BOX         12   \n",
      "541895    581587     22556   PLASTERS IN TIN CIRCUS PARADE         12   \n",
      "541896    581587     22555        PLASTERS IN TIN STRONGMAN        12   \n",
      "541902    581587     22629              SPACEBOY LUNCH BOX         12   \n",
      "541904    581587     22613      PACK OF 20 SPACEBOY NAPKINS        12   \n",
      "\n",
      "               InvoiceDate  UnitPrice  CustomerID         Country  TotalPrice  \n",
      "9      2010-12-01 08:34:00       1.69     13047.0  United Kingdom       54.08  \n",
      "26     2010-12-01 08:45:00       3.75     12583.0          France       90.00  \n",
      "27     2010-12-01 08:45:00       3.75     12583.0          France       90.00  \n",
      "28     2010-12-01 08:45:00       3.75     12583.0          France       45.00  \n",
      "29     2010-12-01 08:45:00       0.85     12583.0          France       10.20  \n",
      "...                    ...        ...         ...             ...         ...  \n",
      "541894 2011-12-09 12:50:00       1.95     12680.0          France       23.40  \n",
      "541895 2011-12-09 12:50:00       1.65     12680.0          France       19.80  \n",
      "541896 2011-12-09 12:50:00       1.65     12680.0          France       19.80  \n",
      "541902 2011-12-09 12:50:00       1.95     12680.0          France       23.40  \n",
      "541904 2011-12-09 12:50:00       0.85     12680.0          France       10.20  \n",
      "\n",
      "[126312 rows x 9 columns]\n"
     ]
    }
   ],
   "source": [
    "high_quantity_sales=sales_data[sales_data['Quantity']>10]\n",
    "print(high_quantity_sales)\n",
    "\n"
   ]
  },
  {
   "cell_type": "code",
   "execution_count": 6,
   "id": "4f579878",
   "metadata": {},
   "outputs": [
    {
     "name": "stdout",
     "output_type": "stream",
     "text": [
      "       InvoiceNo StockCode                          Description  Quantity  \\\n",
      "46        536371     22086      PAPER CHAIN KIT 50'S CHRISTMAS         80   \n",
      "82        536376     22114    HOT WATER BOTTLE TEA AND SYMPATHY        48   \n",
      "83        536376     21733     RED HANGING HEART T-LIGHT HOLDER        64   \n",
      "96        536378     21212      PACK OF 72 RETROSPOT CAKE CASES       120   \n",
      "101       536378    85183B  CHARLIE & LOLA WASTEPAPER BIN FLORA        48   \n",
      "...          ...       ...                                  ...       ...   \n",
      "541746    581571     23167       SMALL CERAMIC TOP STORAGE JAR         96   \n",
      "541747    581571     21314        SMALL GLASS HEART TRINKET POT        48   \n",
      "541751    581572     23328   SET 6 SCHOOL MILK BOTTLES IN CRATE        48   \n",
      "541867    581584     20832     RED FLOCK LOVE HEART PHOTO FRAME        72   \n",
      "541868    581584     85038      6 CHOCOLATE LOVE HEART T-LIGHTS        48   \n",
      "\n",
      "               InvoiceDate  UnitPrice  CustomerID         Country  TotalPrice  \n",
      "46     2010-12-01 09:00:00       2.55     13748.0  United Kingdom      204.00  \n",
      "82     2010-12-01 09:32:00       3.45     15291.0  United Kingdom      165.60  \n",
      "83     2010-12-01 09:32:00       2.55     15291.0  United Kingdom      163.20  \n",
      "96     2010-12-01 09:37:00       0.42     14688.0  United Kingdom       50.40  \n",
      "101    2010-12-01 09:37:00       1.25     14688.0  United Kingdom       60.00  \n",
      "...                    ...        ...         ...             ...         ...  \n",
      "541746 2011-12-09 12:00:00       0.69     15311.0  United Kingdom       66.24  \n",
      "541747 2011-12-09 12:00:00       1.85     15311.0  United Kingdom       88.80  \n",
      "541751 2011-12-09 12:08:00       3.39     16705.0  United Kingdom      162.72  \n",
      "541867 2011-12-09 12:25:00       0.72     13777.0  United Kingdom       51.84  \n",
      "541868 2011-12-09 12:25:00       1.85     13777.0  United Kingdom       88.80  \n",
      "\n",
      "[14245 rows x 9 columns]\n"
     ]
    }
   ],
   "source": [
    "#ambos filtros en una sola línea\n",
    "uk_high_quantity_sales=sales_data[(sales_data['Country']=='United Kingdom') & (sales_data['Quantity']>40)]\n",
    "print(uk_high_quantity_sales)"
   ]
  },
  {
   "cell_type": "code",
   "execution_count": 9,
   "id": "690bad2d",
   "metadata": {},
   "outputs": [
    {
     "name": "stdout",
     "output_type": "stream",
     "text": [
      "       InvoiceNo StockCode                      Description  Quantity  \\\n",
      "42481     539993     22386          JUMBO BAG PINK POLKADOT        10   \n",
      "42482     539993     21499               BLUE POLKADOT WRAP        25   \n",
      "42483     539993     21498              RED RETROSPOT WRAP         25   \n",
      "42484     539993     22379         RECYCLING BAG RETROSPOT          5   \n",
      "42485     539993     20718        RED RETROSPOT SHOPPER BAG        10   \n",
      "...          ...       ...                              ...       ...   \n",
      "541904    581587     22613      PACK OF 20 SPACEBOY NAPKINS        12   \n",
      "541905    581587     22899     CHILDREN'S APRON DOLLY GIRL          6   \n",
      "541906    581587     23254    CHILDRENS CUTLERY DOLLY GIRL          4   \n",
      "541907    581587     23255  CHILDRENS CUTLERY CIRCUS PARADE         4   \n",
      "541908    581587     22138    BAKING SET 9 PIECE RETROSPOT          3   \n",
      "\n",
      "               InvoiceDate  UnitPrice  CustomerID         Country  TotalPrice  \n",
      "42481  2011-01-04 10:00:00       1.95     13313.0  United Kingdom       19.50  \n",
      "42482  2011-01-04 10:00:00       0.42     13313.0  United Kingdom       10.50  \n",
      "42483  2011-01-04 10:00:00       0.42     13313.0  United Kingdom       10.50  \n",
      "42484  2011-01-04 10:00:00       2.10     13313.0  United Kingdom       10.50  \n",
      "42485  2011-01-04 10:00:00       1.25     13313.0  United Kingdom       12.50  \n",
      "...                    ...        ...         ...             ...         ...  \n",
      "541904 2011-12-09 12:50:00       0.85     12680.0          France       10.20  \n",
      "541905 2011-12-09 12:50:00       2.10     12680.0          France       12.60  \n",
      "541906 2011-12-09 12:50:00       4.15     12680.0          France       16.60  \n",
      "541907 2011-12-09 12:50:00       4.15     12680.0          France       16.60  \n",
      "541908 2011-12-09 12:50:00       4.95     12680.0          France       14.85  \n",
      "\n",
      "[379979 rows x 9 columns]\n"
     ]
    }
   ],
   "source": [
    "sales_2011=sales_data[sales_data['InvoiceDate'].dt.year==2011]\n",
    "\n",
    "print(sales_2011)"
   ]
  },
  {
   "cell_type": "code",
   "execution_count": 11,
   "id": "d5df2d6b",
   "metadata": {},
   "outputs": [
    {
     "name": "stdout",
     "output_type": "stream",
     "text": [
      "      InvoiceNo StockCode                          Description  Quantity  \\\n",
      "0        536365    85123A   WHITE HANGING HEART T-LIGHT HOLDER         6   \n",
      "1        536365     71053                  WHITE METAL LANTERN         6   \n",
      "2        536365    84406B       CREAM CUPID HEARTS COAT HANGER         8   \n",
      "3        536365    84029G  KNITTED UNION FLAG HOT WATER BOTTLE         6   \n",
      "4        536365    84029E       RED WOOLLY HOTTIE WHITE HEART.         6   \n",
      "...         ...       ...                                  ...       ...   \n",
      "42448    539988     84380    SET OF 3 BUTTERFLY COOKIE CUTTERS         1   \n",
      "42449    539988    84849D                HOT BATHS SOAP HOLDER         1   \n",
      "42450    539988    84849B               FAIRY SOAP SOAP HOLDER         1   \n",
      "42451    539988     22854          CREAM SWEETHEART EGG HOLDER         2   \n",
      "42452    539988    47559B                  TEA TIME OVEN GLOVE         2   \n",
      "\n",
      "              InvoiceDate  UnitPrice  CustomerID         Country  TotalPrice  \n",
      "0     2010-12-01 08:26:00       2.55     17850.0  United Kingdom       15.30  \n",
      "1     2010-12-01 08:26:00       3.39     17850.0  United Kingdom       20.34  \n",
      "2     2010-12-01 08:26:00       2.75     17850.0  United Kingdom       22.00  \n",
      "3     2010-12-01 08:26:00       3.39     17850.0  United Kingdom       20.34  \n",
      "4     2010-12-01 08:26:00       3.39     17850.0  United Kingdom       20.34  \n",
      "...                   ...        ...         ...             ...         ...  \n",
      "42448 2010-12-23 16:06:00       1.25     18116.0  United Kingdom        1.25  \n",
      "42449 2010-12-23 16:06:00       1.69     18116.0  United Kingdom        1.69  \n",
      "42450 2010-12-23 16:06:00       1.69     18116.0  United Kingdom        1.69  \n",
      "42451 2010-12-23 16:06:00       4.95     18116.0  United Kingdom        9.90  \n",
      "42452 2010-12-23 16:06:00       1.25     18116.0  United Kingdom        2.50  \n",
      "\n",
      "[26850 rows x 9 columns]\n"
     ]
    }
   ],
   "source": [
    "december_sales_2010=sales_data[(sales_data['InvoiceDate'].dt.month==12)& (sales_data['InvoiceDate'].dt.year==2010)]\n",
    "#Filtrar ventas de diciembre de 2010\n",
    "print(december_sales_2010)"
   ]
  }
 ],
 "metadata": {
  "kernelspec": {
   "display_name": "Python 3",
   "language": "python",
   "name": "python3"
  },
  "language_info": {
   "codemirror_mode": {
    "name": "ipython",
    "version": 3
   },
   "file_extension": ".py",
   "mimetype": "text/x-python",
   "name": "python",
   "nbconvert_exporter": "python",
   "pygments_lexer": "ipython3",
   "version": "3.13.1"
  }
 },
 "nbformat": 4,
 "nbformat_minor": 5
}
