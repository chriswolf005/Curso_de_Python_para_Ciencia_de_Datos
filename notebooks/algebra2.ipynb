{
 "cells": [
  {
   "cell_type": "code",
   "execution_count": 1,
   "id": "726695c9",
   "metadata": {},
   "outputs": [],
   "source": [
    "import numpy as np"
   ]
  },
  {
   "cell_type": "code",
   "execution_count": 2,
   "id": "a446655e",
   "metadata": {},
   "outputs": [
    {
     "name": "stdout",
     "output_type": "stream",
     "text": [
      "Sum of A and B:\n",
      " [[ 6  8]\n",
      " [10 12]]\n"
     ]
    }
   ],
   "source": [
    "A=np.array([[1, 2], [3, 4]])\n",
    "B=np.array([[5, 6], [7, 8]])\n",
    "sum = A + B\n",
    "print(\"Sum of A and B:\\n\", sum)\n"
   ]
  },
  {
   "cell_type": "code",
   "execution_count": 3,
   "id": "3807d3ad",
   "metadata": {},
   "outputs": [
    {
     "name": "stdout",
     "output_type": "stream",
     "text": [
      "Product of A and B:\n",
      " [[19 22]\n",
      " [43 50]]\n"
     ]
    }
   ],
   "source": [
    "#mULTIPICATION\n",
    "product=np.dot(A, B)\n",
    "print(\"Product of A and B:\\n\", product)"
   ]
  },
  {
   "cell_type": "code",
   "execution_count": 4,
   "id": "7881d24b",
   "metadata": {},
   "outputs": [
    {
     "name": "stdout",
     "output_type": "stream",
     "text": [
      "Determinant of A:\n",
      " -2.0000000000000004\n",
      "Inverse of A:\n",
      " [[-2.   1. ]\n",
      " [ 1.5 -0.5]]\n"
     ]
    }
   ],
   "source": [
    "A = np.array([[1, 2], [3, 4]])\n",
    "det_A = np.linalg.det(A)\n",
    "print(\"Determinant of A:\\n\", det_A)\n",
    "inv_A = np.linalg.inv(A)\n",
    "print(\"Inverse of A:\\n\", inv_A)\n"
   ]
  },
  {
   "cell_type": "code",
   "execution_count": 5,
   "id": "de44c87c",
   "metadata": {},
   "outputs": [
    {
     "name": "stdout",
     "output_type": "stream",
     "text": [
      "[-7.  8.]\n"
     ]
    }
   ],
   "source": [
    "#Resolver Ax=b\n",
    "b=np.array([9,11])\n",
    "x = np.linalg.solve(A, b)\n",
    "print(x)"
   ]
  }
 ],
 "metadata": {
  "kernelspec": {
   "display_name": "Python 3",
   "language": "python",
   "name": "python3"
  },
  "language_info": {
   "codemirror_mode": {
    "name": "ipython",
    "version": 3
   },
   "file_extension": ".py",
   "mimetype": "text/x-python",
   "name": "python",
   "nbconvert_exporter": "python",
   "pygments_lexer": "ipython3",
   "version": "3.13.1"
  }
 },
 "nbformat": 4,
 "nbformat_minor": 5
}
