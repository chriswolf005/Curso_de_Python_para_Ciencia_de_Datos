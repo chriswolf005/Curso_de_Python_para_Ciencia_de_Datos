{
 "cells": [
  {
   "cell_type": "markdown",
   "id": "1d402e5b",
   "metadata": {},
   "source": [
    "### Manipulacion de columnas "
   ]
  },
  {
   "cell_type": "code",
   "execution_count": 2,
   "id": "07c4d21c",
   "metadata": {},
   "outputs": [
    {
     "name": "stdout",
     "output_type": "stream",
     "text": [
      "  InvoiceNo StockCode                          Description  Quantity  \\\n",
      "0    536365    85123A   WHITE HANGING HEART T-LIGHT HOLDER         6   \n",
      "1    536365     71053                  WHITE METAL LANTERN         6   \n",
      "2    536365    84406B       CREAM CUPID HEARTS COAT HANGER         8   \n",
      "3    536365    84029G  KNITTED UNION FLAG HOT WATER BOTTLE         6   \n",
      "4    536365    84029E       RED WOOLLY HOTTIE WHITE HEART.         6   \n",
      "\n",
      "    InvoiceDate  UnitPrice  CustomerID         Country  total_price  \n",
      "0  12/1/10 8:26       2.55     17850.0  United Kingdom        15.30  \n",
      "1  12/1/10 8:26       3.39     17850.0  United Kingdom        20.34  \n",
      "2  12/1/10 8:26       2.75     17850.0  United Kingdom        22.00  \n",
      "3  12/1/10 8:26       3.39     17850.0  United Kingdom        20.34  \n",
      "4  12/1/10 8:26       3.39     17850.0  United Kingdom        20.34  \n"
     ]
    }
   ],
   "source": [
    "import pandas as pd\n",
    "path=r'C:\\Users\\chris\\OneDrive\\Desktop\\Cursos\\Curso de python para ciencia de datos\\Curso_de_Python_para_Ciencia_de_Datos\\data\\Online_Retail.csv'\n",
    "df=pd.read_csv(path, encoding='ISO-8859-1')\n",
    "\n",
    "#Para crear una nueva columna utilizo 2 existentes\n",
    "df['total_price'] = df['Quantity'] * df['UnitPrice']\n",
    "print(df.head())\n",
    "\n"
   ]
  },
  {
   "cell_type": "code",
   "execution_count": 8,
   "id": "9fa8f25b",
   "metadata": {},
   "outputs": [
    {
     "name": "stdout",
     "output_type": "stream",
     "text": [
      "0    False\n",
      "1     True\n",
      "2     True\n",
      "3     True\n",
      "4     True\n",
      "5    False\n",
      "6     True\n",
      "7    False\n",
      "8    False\n",
      "9     True\n",
      "Name: HighValue, dtype: bool\n"
     ]
    }
   ],
   "source": [
    "df['HighValue']=df['total_price'] > 16\n",
    "print(df['HighValue'].head(10))"
   ]
  },
  {
   "cell_type": "code",
   "execution_count": 9,
   "id": "e118e457",
   "metadata": {},
   "outputs": [
    {
     "name": "stdout",
     "output_type": "stream",
     "text": [
      "<class 'pandas.core.frame.DataFrame'>\n",
      "RangeIndex: 541909 entries, 0 to 541908\n",
      "Data columns (total 10 columns):\n",
      " #   Column       Non-Null Count   Dtype  \n",
      "---  ------       --------------   -----  \n",
      " 0   InvoiceNo    541909 non-null  object \n",
      " 1   StockCode    541909 non-null  object \n",
      " 2   Description  540455 non-null  object \n",
      " 3   Quantity     541909 non-null  int64  \n",
      " 4   InvoiceDate  541909 non-null  object \n",
      " 5   UnitPrice    541909 non-null  float64\n",
      " 6   CustomerID   406829 non-null  float64\n",
      " 7   Country      541909 non-null  object \n",
      " 8   total_price  541909 non-null  float64\n",
      " 9   HighValue    541909 non-null  bool   \n",
      "dtypes: bool(1), float64(3), int64(1), object(5)\n",
      "memory usage: 37.7+ MB\n",
      "None\n"
     ]
    }
   ],
   "source": [
    "print(df.info())"
   ]
  },
  {
   "cell_type": "code",
   "execution_count": 10,
   "id": "18d134ea",
   "metadata": {},
   "outputs": [
    {
     "name": "stderr",
     "output_type": "stream",
     "text": [
      "C:\\Users\\chris\\AppData\\Local\\Temp\\ipykernel_14628\\3643764352.py:2: UserWarning: Could not infer format, so each element will be parsed individually, falling back to `dateutil`. To ensure parsing is consistent and as-expected, please specify a format.\n",
      "  df['InvoiceDate']=pd.to_datetime(df['InvoiceDate'])\n"
     ]
    },
    {
     "name": "stdout",
     "output_type": "stream",
     "text": [
      "<class 'pandas.core.frame.DataFrame'>\n",
      "RangeIndex: 541909 entries, 0 to 541908\n",
      "Data columns (total 10 columns):\n",
      " #   Column       Non-Null Count   Dtype         \n",
      "---  ------       --------------   -----         \n",
      " 0   InvoiceNo    541909 non-null  object        \n",
      " 1   StockCode    541909 non-null  object        \n",
      " 2   Description  540455 non-null  object        \n",
      " 3   Quantity     541909 non-null  int64         \n",
      " 4   InvoiceDate  541909 non-null  datetime64[ns]\n",
      " 5   UnitPrice    541909 non-null  float64       \n",
      " 6   CustomerID   406829 non-null  float64       \n",
      " 7   Country      541909 non-null  object        \n",
      " 8   total_price  541909 non-null  float64       \n",
      " 9   HighValue    541909 non-null  bool          \n",
      "dtypes: bool(1), datetime64[ns](1), float64(3), int64(1), object(4)\n",
      "memory usage: 37.7+ MB\n",
      "None\n"
     ]
    }
   ],
   "source": [
    "#Transformar la columna de InvoiceDate a datetime, para poder trabajar con ella\n",
    "df['InvoiceDate']=pd.to_datetime(df['InvoiceDate'])\n",
    "print(df.info())\n"
   ]
  },
  {
   "cell_type": "code",
   "execution_count": 11,
   "id": "3c92ae56",
   "metadata": {},
   "outputs": [
    {
     "name": "stdout",
     "output_type": "stream",
     "text": [
      "  InvoiceNo StockCode                         Description  Quantity  \\\n",
      "0    536365    85123A  WHITE HANGING HEART T-LIGHT HOLDER         6   \n",
      "1    536365     71053                 WHITE METAL LANTERN         6   \n",
      "2    536365    84406B      CREAM CUPID HEARTS COAT HANGER         8   \n",
      "\n",
      "          InvoiceDate  UnitPrice  CustomerID         Country  total_price  \\\n",
      "0 2010-12-01 08:26:00       2.55     17850.0  United Kingdom        15.30   \n",
      "1 2010-12-01 08:26:00       3.39     17850.0  United Kingdom        20.34   \n",
      "2 2010-12-01 08:26:00       2.75     17850.0  United Kingdom        22.00   \n",
      "\n",
      "   HighValue  DiscountedPrice  \n",
      "0      False            2.295  \n",
      "1       True            3.051  \n",
      "2       True            2.475  \n"
     ]
    }
   ],
   "source": [
    "#Creamos una lambda para los precios con descuento\n",
    "df['DiscountedPrice']=df['UnitPrice'].apply(lambda x:x*0.9)\n",
    "print(df.head(3))"
   ]
  },
  {
   "cell_type": "code",
   "execution_count": 14,
   "id": "fcc7bafd",
   "metadata": {},
   "outputs": [
    {
     "name": "stdout",
     "output_type": "stream",
     "text": [
      "  InvoiceNo StockCode                          Description  Quantity  \\\n",
      "0    536365    85123A   WHITE HANGING HEART T-LIGHT HOLDER         6   \n",
      "1    536365     71053                  WHITE METAL LANTERN         6   \n",
      "2    536365    84406B       CREAM CUPID HEARTS COAT HANGER         8   \n",
      "3    536365    84029G  KNITTED UNION FLAG HOT WATER BOTTLE         6   \n",
      "4    536365    84029E       RED WOOLLY HOTTIE WHITE HEART.         6   \n",
      "5    536365     22752         SET 7 BABUSHKA NESTING BOXES         2   \n",
      "6    536365     21730    GLASS STAR FROSTED T-LIGHT HOLDER         6   \n",
      "7    536366     22633               HAND WARMER UNION JACK         6   \n",
      "8    536366     22632            HAND WARMER RED POLKA DOT         6   \n",
      "9    536367     84879        ASSORTED COLOUR BIRD ORNAMENT        32   \n",
      "\n",
      "          InvoiceDate  UnitPrice  CustomerID         Country  total_price  \\\n",
      "0 2010-12-01 08:26:00       2.55     17850.0  United Kingdom        15.30   \n",
      "1 2010-12-01 08:26:00       3.39     17850.0  United Kingdom        20.34   \n",
      "2 2010-12-01 08:26:00       2.75     17850.0  United Kingdom        22.00   \n",
      "3 2010-12-01 08:26:00       3.39     17850.0  United Kingdom        20.34   \n",
      "4 2010-12-01 08:26:00       3.39     17850.0  United Kingdom        20.34   \n",
      "5 2010-12-01 08:26:00       7.65     17850.0  United Kingdom        15.30   \n",
      "6 2010-12-01 08:26:00       4.25     17850.0  United Kingdom        25.50   \n",
      "7 2010-12-01 08:28:00       1.85     17850.0  United Kingdom        11.10   \n",
      "8 2010-12-01 08:28:00       1.85     17850.0  United Kingdom        11.10   \n",
      "9 2010-12-01 08:34:00       1.69     13047.0  United Kingdom        54.08   \n",
      "\n",
      "   HighValue  DiscountedPrice PriceCategory  \n",
      "0      False            2.295           Low  \n",
      "1       True            3.051           Low  \n",
      "2       True            2.475           Low  \n",
      "3       True            3.051           Low  \n",
      "4       True            3.051           Low  \n",
      "5      False            6.885           Low  \n",
      "6       True            3.825           Low  \n",
      "7      False            1.665           Low  \n",
      "8      False            1.665           Low  \n",
      "9       True            1.521           Low  \n"
     ]
    }
   ],
   "source": [
    "def categorize_price(price):\n",
    "    if price > 50:\n",
    "        return 'High'\n",
    "    elif price >= 20:\n",
    "        return 'Medium'\n",
    "    else:\n",
    "        return 'Low'\n",
    "df['PriceCategory'] = df['UnitPrice'].apply(categorize_price)\n",
    "print(df.head(10))"
   ]
  }
 ],
 "metadata": {
  "kernelspec": {
   "display_name": "Python 3",
   "language": "python",
   "name": "python3"
  },
  "language_info": {
   "codemirror_mode": {
    "name": "ipython",
    "version": 3
   },
   "file_extension": ".py",
   "mimetype": "text/x-python",
   "name": "python",
   "nbconvert_exporter": "python",
   "pygments_lexer": "ipython3",
   "version": "3.13.1"
  }
 },
 "nbformat": 4,
 "nbformat_minor": 5
}
