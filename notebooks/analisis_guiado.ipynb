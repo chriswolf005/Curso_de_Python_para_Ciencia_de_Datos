{
 "cells": [
  {
   "cell_type": "markdown",
   "id": "11d3f5cb",
   "metadata": {},
   "source": [
    "### 🎯 Objetivo del reto:\n",
    "**Analizar el comportamiento de las ventas por tipo de producto y ciudad.**"
   ]
  },
  {
   "cell_type": "code",
   "execution_count": 6,
   "id": "2aca839a",
   "metadata": {},
   "outputs": [],
   "source": [
    "import pandas as pd\n",
    "\n",
    "path=r'C:\\Users\\chris\\OneDrive\\Desktop\\Cursos\\Curso de python para ciencia de datos\\Curso_de_Python_para_Ciencia_de_Datos\\data\\SuperMarket Analysis.csv'\n",
    "supermarket_data=pd.read_csv(path, encoding='ISO-8859-1')"
   ]
  },
  {
   "cell_type": "code",
   "execution_count": null,
   "id": "be64f35d",
   "metadata": {},
   "outputs": [
    {
     "name": "stdout",
     "output_type": "stream",
     "text": [
      "  ï»¿Invoice ID Branch       City Customer type  Gender  \\\n",
      "0   750-67-8428   Alex     Yangon        Member  Female   \n",
      "1   226-31-3081   Giza  Naypyitaw        Normal  Female   \n",
      "2   631-41-3108   Alex     Yangon        Normal  Female   \n",
      "3   123-19-1176   Alex     Yangon        Member  Female   \n",
      "4   373-73-7910   Alex     Yangon        Member  Female   \n",
      "\n",
      "             Product line  Unit price  Quantity   Tax 5%     Sales       Date  \\\n",
      "0       Health and beauty       74.69         7  26.1415  548.9715   1/5/2019   \n",
      "1  Electronic accessories       15.28         5   3.8200   80.2200   3/8/2019   \n",
      "2      Home and lifestyle       46.33         7  16.2155  340.5255   3/3/2019   \n",
      "3       Health and beauty       58.22         8  23.2880  489.0480  1/27/2019   \n",
      "4       Sports and travel       86.31         7  30.2085  634.3785   2/8/2019   \n",
      "\n",
      "          Time      Payment    cogs  gross margin percentage  gross income  \\\n",
      "0   1:08:00 PM      Ewallet  522.83                 4.761905       26.1415   \n",
      "1  10:29:00 AM         Cash   76.40                 4.761905        3.8200   \n",
      "2   1:23:00 PM  Credit card  324.31                 4.761905       16.2155   \n",
      "3   8:33:00 PM      Ewallet  465.76                 4.761905       23.2880   \n",
      "4  10:37:00 AM      Ewallet  604.17                 4.761905       30.2085   \n",
      "\n",
      "   Rating  Total_con_ITBIS  \n",
      "0     9.1        647.78637  \n",
      "1     9.6         94.65960  \n",
      "2     7.4        401.82009  \n",
      "3     8.4        577.07664  \n",
      "4     5.3        748.56663  \n"
     ]
    }
   ],
   "source": [
    "supermarket_data[\"Total_con_ITBIS\"]=supermarket_data[\"Sales\"]*1.18\n",
    "print(supermarket_data.head())\n"
   ]
  },
  {
   "cell_type": "code",
   "execution_count": 11,
   "id": "4bd8cbe4",
   "metadata": {},
   "outputs": [
    {
     "name": "stdout",
     "output_type": "stream",
     "text": [
      "  ï»¿Invoice ID Branch       City Customer type  Gender  \\\n",
      "0   750-67-8428   Alex     Yangon        Member  Female   \n",
      "3   123-19-1176   Alex     Yangon        Member  Female   \n",
      "4   373-73-7910   Alex     Yangon        Member  Female   \n",
      "5   699-14-3026   Giza  Naypyitaw        Member  Female   \n",
      "6   355-53-5943   Alex     Yangon        Member  Female   \n",
      "\n",
      "             Product line  Unit price  Quantity   Tax 5%     Sales       Date  \\\n",
      "0       Health and beauty       74.69         7  26.1415  548.9715   1/5/2019   \n",
      "3       Health and beauty       58.22         8  23.2880  489.0480  1/27/2019   \n",
      "4       Sports and travel       86.31         7  30.2085  634.3785   2/8/2019   \n",
      "5  Electronic accessories       85.39         7  29.8865  627.6165  3/25/2019   \n",
      "6  Electronic accessories       68.84         6  20.6520  433.6920  2/25/2019   \n",
      "\n",
      "          Time  Payment    cogs  gross margin percentage  gross income  \\\n",
      "0   1:08:00 PM  Ewallet  522.83                 4.761905       26.1415   \n",
      "3   8:33:00 PM  Ewallet  465.76                 4.761905       23.2880   \n",
      "4  10:37:00 AM  Ewallet  604.17                 4.761905       30.2085   \n",
      "5   6:30:00 PM  Ewallet  597.73                 4.761905       29.8865   \n",
      "6   2:36:00 PM  Ewallet  413.04                 4.761905       20.6520   \n",
      "\n",
      "   Rating  Total_con_ITBIS  \n",
      "0     9.1        647.78637  \n",
      "3     8.4        577.07664  \n",
      "4     5.3        748.56663  \n",
      "5     4.1        740.58747  \n",
      "6     5.8        511.75656  \n"
     ]
    }
   ],
   "source": [
    "#ventas altas\n",
    "# Filtrando las ventas altas\n",
    "ventas_altas=supermarket_data[supermarket_data[\"Total_con_ITBIS\"]>500]\n",
    "print(ventas_altas.head())"
   ]
  },
  {
   "cell_type": "code",
   "execution_count": 14,
   "id": "7a08e038",
   "metadata": {},
   "outputs": [
    {
     "name": "stdout",
     "output_type": "stream",
     "text": [
      "City\n",
      "Mandalay       (Mandalay, Sports and travel)\n",
      "Naypyitaw    (Naypyitaw, Food and beverages)\n",
      "Yangon          (Yangon, Home and lifestyle)\n",
      "Name: Sales, dtype: object\n"
     ]
    }
   ],
   "source": [
    "#¿Qué producto genera más ingresos totales por ciudad?\n",
    "#Agrupando por ciudad\n",
    "ingresos=supermarket_data.groupby([\"City\", \"Product line\"])[\"Sales\"].sum()\n",
    "top_ingresos=ingresos.groupby(level=0).idxmax()\n",
    "print(top_ingresos)"
   ]
  }
 ],
 "metadata": {
  "kernelspec": {
   "display_name": "Python 3",
   "language": "python",
   "name": "python3"
  },
  "language_info": {
   "codemirror_mode": {
    "name": "ipython",
    "version": 3
   },
   "file_extension": ".py",
   "mimetype": "text/x-python",
   "name": "python",
   "nbconvert_exporter": "python",
   "pygments_lexer": "ipython3",
   "version": "3.13.1"
  }
 },
 "nbformat": 4,
 "nbformat_minor": 5
}
