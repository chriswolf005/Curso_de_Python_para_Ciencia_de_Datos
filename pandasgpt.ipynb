{
 "cells": [
  {
   "cell_type": "markdown",
   "id": "a82be461",
   "metadata": {},
   "source": [
    "## 🧩 1. Series y DataFrames (Fundamentos)\n",
    "📘 Ejemplo Explicativo #1 – Series:\n",
    "Una Series es como una columna de datos con etiquetas (índices).\n",
    "Imagina una lista de ventas por día de la semana:"
   ]
  },
  {
   "cell_type": "code",
   "execution_count": 1,
   "id": "ae0c68f0",
   "metadata": {},
   "outputs": [],
   "source": [
    "import pandas as pd\n",
    "\n",
    "ventas = pd.Series([100, 200, 150, 300], index=[\"Lunes\", \"Martes\", \"Miércoles\", \"Jueves\"])\n"
   ]
  },
  {
   "cell_type": "code",
   "execution_count": 2,
   "id": "1da63751",
   "metadata": {},
   "outputs": [
    {
     "name": "stdout",
     "output_type": "stream",
     "text": [
      "Lunes        30\n",
      "Martes       28\n",
      "Miércoles    31\n",
      "Jueves       29\n",
      "dtype: int64\n"
     ]
    }
   ],
   "source": [
    "temperaturas=pd.Series([30,28,31,29,],index=[\"Lunes\", \"Martes\", \"Miércoles\", \"Jueves\"])\n",
    "\n",
    "print(temperaturas)"
   ]
  },
  {
   "cell_type": "code",
   "execution_count": null,
   "id": "cdf82b3b",
   "metadata": {},
   "outputs": [
    {
     "name": "stdout",
     "output_type": "stream",
     "text": [
      "  nombres  edades  calificaciones\n",
      "0   pedro      20              10\n",
      "1   judas      21               0\n",
      "2   pablo      22              10\n",
      "3   mateo      23               9\n"
     ]
    }
   ],
   "source": [
    "estudiantes={\n",
    "    \"nombres\":[\"pedro\",\"judas\",\"pablo\",\"mateo\"],\n",
    "    \"edades\":[20,21,22,23],\n",
    "    \"calificaciones\":[10,0,10,9]\n",
    "}\n",
    "df=pd.DataFrame(estudiantes)\n",
    "print(df)\n",
    "\n",
    "#reprobo judas por traidor"
   ]
  }
 ],
 "metadata": {
  "kernelspec": {
   "display_name": "Python 3",
   "language": "python",
   "name": "python3"
  },
  "language_info": {
   "codemirror_mode": {
    "name": "ipython",
    "version": 3
   },
   "file_extension": ".py",
   "mimetype": "text/x-python",
   "name": "python",
   "nbconvert_exporter": "python",
   "pygments_lexer": "ipython3",
   "version": "3.13.1"
  }
 },
 "nbformat": 4,
 "nbformat_minor": 5
}
