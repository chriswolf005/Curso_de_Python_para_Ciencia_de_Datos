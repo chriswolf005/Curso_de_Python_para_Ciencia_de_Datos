{
 "cells": [
  {
   "cell_type": "markdown",
   "id": "ed9fb64f",
   "metadata": {},
   "source": [
    "### 🧪 💼 Ahora tu ejercicio:\n",
    "\n",
    "Crea un DataFrame con una lista de productos, su precio y cantidad en inventario. Luego:\n",
    "\n",
    "1) Muestra solo los productos cuyo precio sea mayor a 100.\n",
    "\n",
    "2) Modifica la cantidad de uno de los productos.\n",
    "\n",
    "3) Imprime solo la columna de precios."
   ]
  },
  {
   "cell_type": "code",
   "execution_count": 4,
   "id": "f1de4e42",
   "metadata": {},
   "outputs": [
    {
     "name": "stdout",
     "output_type": "stream",
     "text": [
      "Mayores a 100:          Producto  Precio  Stock\n",
      "0          queso     120     20\n",
      "2  salsa_alfredo     300     25\n",
      "3          bacon     250     30\n",
      "        Producto  Precio  Stock\n",
      "0          queso     120     20\n",
      "1          pasta      80     85\n",
      "2  salsa_alfredo     300     25\n",
      "3          bacon     250     30\n",
      "0    120\n",
      "1     80\n",
      "2    300\n",
      "3    250\n",
      "Name: Precio, dtype: int64\n"
     ]
    }
   ],
   "source": [
    "import pandas as pd\n",
    "datos = {\n",
    "    \"Producto\": [\"queso\", \"pasta\", \"salsa_alfredo\",'bacon'],\n",
    "    \"Precio\": [120, 80, 300, 250],\n",
    "    \"Stock\": [20, 30, 25,30]\n",
    "}\n",
    "df=pd.DataFrame(datos)\n",
    "\n",
    "mayores_a100=df[df[\"Precio\"]>100]\n",
    "print(f\"Mayores a 100: \",mayores_a100)\n",
    "df.loc[1,\"Stock\"]=85\n",
    "print(df)\n",
    "print(df[\"Precio\"])  \n",
    "\n"
   ]
  },
  {
   "cell_type": "code",
   "execution_count": 12,
   "id": "00343bc1",
   "metadata": {},
   "outputs": [
    {
     "name": "stdout",
     "output_type": "stream",
     "text": [
      "   Producto  Precio  venta\n",
      "0       pan      10    100\n",
      "1     jamon      20      8\n",
      "2     queso      20     10\n",
      "3  cocacola      30     80\n",
      "   Producto  Precio  venta  total_venta\n",
      "0       pan      10    100         1000\n",
      "1     jamon      20      8          160\n",
      "2     queso      20     10          200\n",
      "3  cocacola      30     80         2400\n",
      "  Producto  Precio  venta  total_venta\n",
      "1    jamon      20      8          160\n",
      "2    queso      20     10          200\n",
      "0     10\n",
      "1     20\n",
      "2    100\n",
      "3     30\n",
      "Name: Precio, dtype: int64\n",
      "0    1000\n",
      "1     160\n",
      "2    1000\n",
      "3    2400\n",
      "Name: total_venta, dtype: int64\n"
     ]
    }
   ],
   "source": [
    "\n",
    "\n",
    "datos2 = {\n",
    "    \"Producto\": [\"pan\", \"jamon\", \"queso\",'cocacola'],\n",
    "    \"Precio\": [10, 20, 20, 30],\n",
    "    \"venta\": [100, 8, 10,80]\n",
    "}\n",
    "df2=pd.DataFrame(datos2)\n",
    "print(df2)\n",
    "\n",
    "df2[\"total_venta\"]=df2[\"Precio\"]*df2[\"venta\"]\n",
    "print(df2)\n",
    "\n",
    "menor_a_1000=df2[df2[\"total_venta\"]<1000]\n",
    "print(menor_a_1000)\n",
    "df2.loc[2,\"Precio\"]=100\n",
    "df2[\"total_venta\"] = df2[\"Precio\"] * df2[\"venta\"]\n",
    "\n",
    "print(df2[\"Precio\"])\n",
    "print(df2[\"total_venta\"])\n"
   ]
  }
 ],
 "metadata": {
  "kernelspec": {
   "display_name": "Python 3",
   "language": "python",
   "name": "python3"
  },
  "language_info": {
   "codemirror_mode": {
    "name": "ipython",
    "version": 3
   },
   "file_extension": ".py",
   "mimetype": "text/x-python",
   "name": "python",
   "nbconvert_exporter": "python",
   "pygments_lexer": "ipython3",
   "version": "3.13.1"
  }
 },
 "nbformat": 4,
 "nbformat_minor": 5
}
